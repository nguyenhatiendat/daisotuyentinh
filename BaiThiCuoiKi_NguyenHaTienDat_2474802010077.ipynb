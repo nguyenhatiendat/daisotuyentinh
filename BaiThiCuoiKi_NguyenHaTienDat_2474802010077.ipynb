{
  "nbformat": 4,
  "nbformat_minor": 0,
  "metadata": {
    "colab": {
      "provenance": []
    },
    "kernelspec": {
      "name": "python3",
      "display_name": "Python 3"
    },
    "language_info": {
      "name": "python"
    }
  },
  "cells": [
    {
      "cell_type": "markdown",
      "source": [
        "Bài 1:"
      ],
      "metadata": {
        "id": "T7TLBXq2mZah"
      }
    },
    {
      "cell_type": "code",
      "execution_count": 1,
      "metadata": {
        "colab": {
          "base_uri": "https://localhost:8080/"
        },
        "id": "4Qzz_wvImGyy",
        "outputId": "aa806e44-c23c-4f26-b6b4-4e5bb9807742"
      },
      "outputs": [
        {
          "output_type": "stream",
          "name": "stdout",
          "text": [
            "Câu 1.a:\n",
            "A + B = [2 3 1 6]\n",
            "2A + 3B = [ 3 11  2 14]\n",
            "\n",
            "Câu 1.b:\n",
            "Tích vô hướng A·B = -5\n",
            "Góc giữa A và B (độ) = 99.594\n",
            "\n",
            "Câu 1.c:\n",
            "C^T * C =\n",
            " [[ 5  2  4]\n",
            " [ 2 21 -1]\n",
            " [ 4 -1 38]]\n"
          ]
        }
      ],
      "source": [
        "import numpy as np\n",
        "from numpy.linalg import norm\n",
        "A=np.array([3,-2,1,4])\n",
        "B=np.array([-1,5,0,2])\n",
        "C=np.array([[2,-1,3],[1,4,-2],[0,2,5]])\n",
        "#a) Tính A+B và 2A + 3B\n",
        "sum_AB=A+B\n",
        "mul_AB=2*A+3*B\n",
        "print(\"Câu 1.a:\")\n",
        "print(\"A + B =\",sum_AB)\n",
        "print(\"2A + 3B =\",mul_AB)\n",
        "#b) Tích vô hướng và góc giữa 2 vector\n",
        "dot_product=np.dot(A,B)\n",
        "magnitude_A=norm(A)\n",
        "magnitude_B=norm(B)\n",
        "cos_theta=dot_product/(magnitude_A*magnitude_B)\n",
        "theta_degree=np.degrees(np.arccos(cos_theta))\n",
        "print(\"\\nCâu 1.b:\")\n",
        "print(\"Tích vô hướng A·B =\", dot_product)\n",
        "print(\"Góc giữa A và B (độ) =\", round(theta_degree, 3))\n",
        "#c) Tính C^T * C\n",
        "CT=C.T\n",
        "CTC=CT@C\n",
        "print(\"\\nCâu 1.c:\")\n",
        "print(\"C^T * C =\\n\", CTC)"
      ]
    },
    {
      "cell_type": "markdown",
      "source": [
        "Bài 2:"
      ],
      "metadata": {
        "id": "-YFIa_WInSFv"
      }
    },
    {
      "cell_type": "code",
      "source": [
        "M=np.array([[2,-1,3,0],[1,4,-2,5],\n",
        "              [0,2,6,-3],[-1,0,1,4]])\n",
        "N=np.array([[1,3,-2,0],[4,-1,5,2],\n",
        "              [0,2,3,-1],[-3,1,0,4]])\n",
        "#a) Tích M x N\n",
        "product=M@N\n",
        "print(\"Câu 2.a: Tích M x N:\\n\",product)\n",
        "#b) Định thức của M\n",
        "det_M=np.linalg.det(M)\n",
        "print(\"\\nCâu 2.b: Định thức của M =\",det_M)\n",
        "if abs(det_M)<1e-10:\n",
        "    print(\"M không khả nghịch vì định thức gần bằng 0\")\n",
        "#c) Hạng của N\n",
        "rank_N=np.linalg.matrix_rank(N)\n",
        "print(\"\\nCâu 2.c: Hạng của N =\", rank_N)"
      ],
      "metadata": {
        "colab": {
          "base_uri": "https://localhost:8080/"
        },
        "id": "dKpnnAHZnXff",
        "outputId": "243de8f3-e82e-437c-82b8-78e0b5c6c631"
      },
      "execution_count": 2,
      "outputs": [
        {
          "output_type": "stream",
          "name": "stdout",
          "text": [
            "Câu 2.a: Tích M x N:\n",
            " [[ -2  13   0  -5]\n",
            " [  2   0  12  30]\n",
            " [ 17   7  28 -14]\n",
            " [-13   3   5  15]]\n",
            "\n",
            "Câu 2.b: Định thức của M = 409.00000000000017\n",
            "\n",
            "Câu 2.c: Hạng của N = 4\n"
          ]
        }
      ]
    },
    {
      "cell_type": "markdown",
      "source": [
        "Bài 3:"
      ],
      "metadata": {
        "id": "RnztDzE7nTpI"
      }
    },
    {
      "cell_type": "code",
      "source": [
        "P=np.array([[3,-1,0,2],[1,4,-2,0],\n",
        "              [0,1,5,-1],[2,0,1,3]])\n",
        "b=np.array([6,8,3,7])\n",
        "#a) Ma trận nghịch đảo P\n",
        "try:\n",
        "    P_inv=np.linalg.inv(P)\n",
        "    print(\"Câu 3.a: Ma trận nghịch đảo của P:\\n\",P_inv)\n",
        "except np.linalg.LinAlgError:\n",
        "    print(\"Câu 3.a: Ma trận P không khả nghịch\")\n",
        "#b) Giải hệ phương trình bằng ma trận nghịch đảo\n",
        "x=P_inv@b\n",
        "print(\"\\nCâu 3.b: Nghiệm x của hệ phương trình là:\\n\",x)\n",
        "#c) Kiểm tra nghiệm\n",
        "check=P@x\n",
        "print(\"\\nCâu 3.c: P @ x =\\n\",check)\n",
        "print(\"Vector b =\",b)"
      ],
      "metadata": {
        "colab": {
          "base_uri": "https://localhost:8080/"
        },
        "id": "WgvxJs4jnYLr",
        "outputId": "2947ea40-0d49-4cda-ea9a-b241f554ef95"
      },
      "execution_count": 3,
      "outputs": [
        {
          "output_type": "stream",
          "name": "stdout",
          "text": [
            "Câu 3.a: Ma trận nghịch đảo của P:\n",
            " [[ 0.5         0.1         0.1        -0.3       ]\n",
            " [-0.14285714  0.2         0.05714286  0.11428571]\n",
            " [-0.03571429 -0.05        0.16428571  0.07857143]\n",
            " [-0.32142857 -0.05       -0.12142857  0.50714286]]\n",
            "\n",
            "Câu 3.b: Nghiệm x của hệ phương trình là:\n",
            " [2.         1.71428571 0.42857143 0.85714286]\n",
            "\n",
            "Câu 3.c: P @ x =\n",
            " [6. 8. 3. 7.]\n",
            "Vector b = [6 8 3 7]\n"
          ]
        }
      ]
    },
    {
      "cell_type": "markdown",
      "source": [
        "Bài 4:"
      ],
      "metadata": {
        "id": "jR4VnNRtnUqb"
      }
    },
    {
      "cell_type": "code",
      "source": [
        "Q=np.array([[5,-2,1],[0,3,-1],[2,0,4]])\n",
        "#a) Giá trị riêng và vector riêng\n",
        "eigenvalues,eigenvectors=np.linalg.eig(Q)\n",
        "print(\"Câu 4.a: Giá trị riêng của Q:\\n\",eigenvalues)\n",
        "print(\"\\nCâu 4.b: Các vector riêng (cột tương ứng):\\n\",eigenvectors)\n",
        "#c) Chuẩn hóa vector riêng\n",
        "normed_vectors=eigenvectors/np.linalg.norm(eigenvectors,axis=0)\n",
        "print(\"\\nCâu 4.c: Vector riêng chuẩn hóa:\\n\",normed_vectors)"
      ],
      "metadata": {
        "colab": {
          "base_uri": "https://localhost:8080/"
        },
        "id": "Ln2eanL-nYz-",
        "outputId": "3e67908c-f7be-4a0b-81a5-c62df4d2f90c"
      },
      "execution_count": 4,
      "outputs": [
        {
          "output_type": "stream",
          "name": "stdout",
          "text": [
            "Câu 4.a: Giá trị riêng của Q:\n",
            " [6.3553014+0.j         2.8223493+1.07730381j 2.8223493-1.07730381j]\n",
            "\n",
            "Câu 4.b: Các vector riêng (cột tương ứng):\n",
            " [[ 0.74846013+0.j         -0.37423006+0.34234215j -0.37423006-0.34234215j]\n",
            " [-0.18941773+0.j          0.09470887+0.57433055j  0.09470887-0.57433055j]\n",
            " [ 0.63555359+0.j          0.63555359+0.j          0.63555359-0.j        ]]\n",
            "\n",
            "Câu 4.c: Vector riêng chuẩn hóa:\n",
            " [[ 0.74846013+0.j         -0.37423006+0.34234215j -0.37423006-0.34234215j]\n",
            " [-0.18941773+0.j          0.09470887+0.57433055j  0.09470887-0.57433055j]\n",
            " [ 0.63555359+0.j          0.63555359+0.j          0.63555359-0.j        ]]\n"
          ]
        }
      ]
    },
    {
      "cell_type": "markdown",
      "source": [
        "Bài 5:"
      ],
      "metadata": {
        "id": "WqZNwq6SnWBh"
      }
    },
    {
      "cell_type": "code",
      "source": [
        "R=np.array([[4,-1,2],[1,3,-2],[0,2,5]])\n",
        "b=np.array([12,5,9])\n",
        "#a) Giải hệ Rx = b\n",
        "x=np.linalg.solve(R,b)\n",
        "print(\"Câu 5.a: Nghiệm của hệ Rx = b:\\n\",x)\n",
        "#b) Kiểm tra khả nghịch và tính nghịch đảo\n",
        "try:\n",
        "    R_inv=np.linalg.inv(R)\n",
        "    x2=R_inv@b\n",
        "    print(\"\\nCâu 5.b: Ma trận nghịch đảo của R:\\n\",R_inv)\n",
        "    print(\"Nghiệm giải bằng R^(-1):\\n\",x2)\n",
        "    print(\"So sánh hai nghiệm giống nhau:\",np.allclose(x,x2))\n",
        "except np.linalg.LinAlgError:\n",
        "    print(\"\\nMa trận R không khả nghịch\")\n",
        "#c) Chuẩn Frobenius\n",
        "fro_norm=np.linalg.norm(R,'fro')\n",
        "print(\"\\nCâu 5.c: Chuẩn Frobenius của R:\",fro_norm)"
      ],
      "metadata": {
        "colab": {
          "base_uri": "https://localhost:8080/"
        },
        "id": "s4C6uFXinaGp",
        "outputId": "b54e755a-269b-48fe-9928-6618229fff99"
      },
      "execution_count": 5,
      "outputs": [
        {
          "output_type": "stream",
          "name": "stdout",
          "text": [
            "Câu 5.a: Nghiệm của hệ Rx = b:\n",
            " [2.78823529 1.52941176 1.18823529]\n",
            "\n",
            "Câu 5.b: Ma trận nghịch đảo của R:\n",
            " [[ 0.22352941  0.10588235 -0.04705882]\n",
            " [-0.05882353  0.23529412  0.11764706]\n",
            " [ 0.02352941 -0.09411765  0.15294118]]\n",
            "Nghiệm giải bằng R^(-1):\n",
            " [2.78823529 1.52941176 1.18823529]\n",
            "So sánh hai nghiệm giống nhau: True\n",
            "\n",
            "Câu 5.c: Chuẩn Frobenius của R: 8.0\n"
          ]
        }
      ]
    }
  ]
}