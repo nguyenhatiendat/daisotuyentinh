{
  "nbformat": 4,
  "nbformat_minor": 0,
  "metadata": {
    "colab": {
      "provenance": []
    },
    "kernelspec": {
      "name": "python3",
      "display_name": "Python 3"
    },
    "language_info": {
      "name": "python"
    }
  },
  "cells": [
    {
      "cell_type": "markdown",
      "source": [],
      "metadata": {
        "id": "EWAhmFiZWlll"
      }
    },
    {
      "cell_type": "markdown",
      "source": [
        "Bài thực hành chương 2"
      ],
      "metadata": {
        "id": "rCZTZLxjbNa6"
      }
    },
    {
      "cell_type": "markdown",
      "source": [
        "Bài 1"
      ],
      "metadata": {
        "id": "Wgcg3wXScmoy"
      }
    },
    {
      "cell_type": "code",
      "source": [
        "def scale(a, v):\n",
        "  return [a*vi for vi in v]\n",
        "v = [3,5,7]\n",
        "scale(10, v)\n",
        "print(scale(10,v))"
      ],
      "metadata": {
        "colab": {
          "base_uri": "https://localhost:8080/"
        },
        "id": "psHTJW7VbQ5v",
        "outputId": "155b1a83-d4fd-4bb5-ee33-b4dc337a634b"
      },
      "execution_count": 2,
      "outputs": [
        {
          "output_type": "stream",
          "name": "stdout",
          "text": [
            "[30, 50, 70]\n"
          ]
        }
      ]
    },
    {
      "cell_type": "code",
      "source": [
        "def sumvector(v, w):\n",
        "  return [vi+wi for (vi, wi) in zip(v, w)]\n",
        "v = [3,5,7]\n",
        "w = [2,4,6]\n",
        "sumvector(v, w)\n",
        "print(sumvector(v,w))"
      ],
      "metadata": {
        "colab": {
          "base_uri": "https://localhost:8080/"
        },
        "id": "BreQToEJb0jB",
        "outputId": "c77de8b5-ca2d-4400-bee1-3ef712d1c2fd"
      },
      "execution_count": 3,
      "outputs": [
        {
          "output_type": "stream",
          "name": "stdout",
          "text": [
            "[5, 9, 13]\n"
          ]
        }
      ]
    },
    {
      "cell_type": "code",
      "source": [
        "def dotvector(v, w):\n",
        "  return sum([vi*wi for (vi, wi) in zip(v, w)])\n",
        "dotvector(v, w)\n",
        "print(dotvector(v,w))"
      ],
      "metadata": {
        "colab": {
          "base_uri": "https://localhost:8080/"
        },
        "id": "DVzT_k4ncAQC",
        "outputId": "cb9252cd-2b37-4915-ca36-6e4b8d67d54c"
      },
      "execution_count": 4,
      "outputs": [
        {
          "output_type": "stream",
          "name": "stdout",
          "text": [
            "68\n"
          ]
        }
      ]
    },
    {
      "cell_type": "code",
      "source": [
        "def lenvector(v):\n",
        "  return dotvector(v,v)\n",
        "lenvector(w)\n",
        "print(lenvector(w))"
      ],
      "metadata": {
        "colab": {
          "base_uri": "https://localhost:8080/"
        },
        "id": "4PGu-aapcLEg",
        "outputId": "ae24964a-5bbd-4f98-c6a0-11b8c6d2f729"
      },
      "execution_count": 5,
      "outputs": [
        {
          "output_type": "stream",
          "name": "stdout",
          "text": [
            "56\n"
          ]
        }
      ]
    },
    {
      "cell_type": "markdown",
      "source": [
        "Bài 2\n"
      ],
      "metadata": {
        "id": "fTIBfveNcrhE"
      }
    },
    {
      "cell_type": "code",
      "source": [
        "import numpy as np\n",
        "scores=np.array([-1,1,2,-3,5,-4])\n",
        "print(scores)\n",
        "print(scores>=0)\n",
        "print(scores<0)\n",
        "a=np.select([scores>=0,scores<0],['so duong','so am'],default='')\n",
        "print(a)"
      ],
      "metadata": {
        "colab": {
          "base_uri": "https://localhost:8080/"
        },
        "id": "BG__1g6EcsvB",
        "outputId": "e04b187d-2c86-459b-cfd2-c3e374bad7fa"
      },
      "execution_count": 6,
      "outputs": [
        {
          "output_type": "stream",
          "name": "stdout",
          "text": [
            "[-1  1  2 -3  5 -4]\n",
            "[False  True  True False  True False]\n",
            "[ True False False  True False  True]\n",
            "['so am' 'so duong' 'so duong' 'so am' 'so duong' 'so am']\n"
          ]
        }
      ]
    },
    {
      "cell_type": "code",
      "source": [
        "scores=np.array([-1,1,2,0,-3,5,0,-4])\n",
        "b=np.select([scores>0,scores==0,scores<0],['so duong','so 0','so am'],default='')\n",
        "print(b)"
      ],
      "metadata": {
        "colab": {
          "base_uri": "https://localhost:8080/"
        },
        "id": "1vuNwEQLgAuP",
        "outputId": "e5cd3578-2320-4baa-892e-b016823e92d6"
      },
      "execution_count": 7,
      "outputs": [
        {
          "output_type": "stream",
          "name": "stdout",
          "text": [
            "['so am' 'so duong' 'so duong' 'so 0' 'so am' 'so duong' 'so 0' 'so am']\n"
          ]
        }
      ]
    },
    {
      "cell_type": "markdown",
      "source": [
        "Bài 3\n"
      ],
      "metadata": {
        "id": "ac0rrPqjgwgR"
      }
    },
    {
      "cell_type": "markdown",
      "source": [
        "Bài 3.1\n"
      ],
      "metadata": {
        "id": "wfIr686vg0V5"
      }
    },
    {
      "cell_type": "code",
      "source": [
        "import numpy as np\n",
        "from scipy import linalg, sparse\n",
        "D=np.asmatrix([[3,4],[5,6] ])\n",
        "print(D)"
      ],
      "metadata": {
        "colab": {
          "base_uri": "https://localhost:8080/"
        },
        "id": "sxGq2tgGg1vi",
        "outputId": "bf8387fc-f277-45e2-d634-df2f66e121ad"
      },
      "execution_count": 8,
      "outputs": [
        {
          "output_type": "stream",
          "name": "stdout",
          "text": [
            "[[3 4]\n",
            " [5 6]]\n"
          ]
        }
      ]
    },
    {
      "cell_type": "code",
      "source": [
        "C=np.asmatrix(np.random.random((5,7)))\n",
        "print(C)"
      ],
      "metadata": {
        "colab": {
          "base_uri": "https://localhost:8080/"
        },
        "id": "ShVX3HQwiYkp",
        "outputId": "dd2dc9a1-7ae0-47da-e894-0e55f72e4270"
      },
      "execution_count": 9,
      "outputs": [
        {
          "output_type": "stream",
          "name": "stdout",
          "text": [
            "[[0.13739434 0.98064149 0.87825556 0.77509565 0.12438672 0.85164758\n",
            "  0.21234401]\n",
            " [0.55921593 0.54981243 0.33643332 0.71120963 0.16369643 0.18538564\n",
            "  0.67104465]\n",
            " [0.85131964 0.95242655 0.44759132 0.52461521 0.94342346 0.36887511\n",
            "  0.32636496]\n",
            " [0.80965418 0.45343219 0.02103998 0.21417901 0.50262261 0.98674642\n",
            "  0.72937701]\n",
            " [0.08236802 0.88864263 0.68101477 0.52663015 0.20705043 0.15457146\n",
            "  0.03310586]]\n"
          ]
        }
      ]
    },
    {
      "cell_type": "code",
      "source": [
        "A=np.asmatrix(np.random.random((2,2)))\n",
        "print(A)"
      ],
      "metadata": {
        "colab": {
          "base_uri": "https://localhost:8080/"
        },
        "id": "YiFSiDKkjaUn",
        "outputId": "61d86077-dc5d-40fe-c151-1c178e94eaf7"
      },
      "execution_count": 10,
      "outputs": [
        {
          "output_type": "stream",
          "name": "stdout",
          "text": [
            "[[0.33835469 0.74853366]\n",
            " [0.49390229 0.72355033]]\n"
          ]
        }
      ]
    },
    {
      "cell_type": "code",
      "source": [
        "b=np.array([(1+5j, 2j, 3j),(4, 5, 6)])\n",
        "B=np.asmatrix(b)\n",
        "print(b)\n",
        "print(B)"
      ],
      "metadata": {
        "colab": {
          "base_uri": "https://localhost:8080/"
        },
        "id": "Q9hd0TfOjiNm",
        "outputId": "3c41674a-ce00-4acf-e1d8-5d1bc116a41d"
      },
      "execution_count": 11,
      "outputs": [
        {
          "output_type": "stream",
          "name": "stdout",
          "text": [
            "[[1.+5.j 0.+2.j 0.+3.j]\n",
            " [4.+0.j 5.+0.j 6.+0.j]]\n",
            "[[1.+5.j 0.+2.j 0.+3.j]\n",
            " [4.+0.j 5.+0.j 6.+0.j]]\n"
          ]
        }
      ]
    },
    {
      "cell_type": "code",
      "source": [
        "print(A.T)\n",
        "print(A.I)"
      ],
      "metadata": {
        "colab": {
          "base_uri": "https://localhost:8080/"
        },
        "id": "lQYil0QPj_jX",
        "outputId": "30c53024-4af4-478f-fe36-c09b45d21bba"
      },
      "execution_count": 12,
      "outputs": [
        {
          "output_type": "stream",
          "name": "stdout",
          "text": [
            "[[0.33835469 0.49390229]\n",
            " [0.74853366 0.72355033]]\n",
            "[[-5.79369372  5.99374307]\n",
            " [ 3.95483009 -2.7093118 ]]\n"
          ]
        }
      ]
    },
    {
      "cell_type": "code",
      "source": [
        "A=np.array([[1,2],[3,4]])\n",
        "print(\"\\nMa trận nghịch đảo của A:\")\n",
        "print(linalg.inv(A))\n",
        "M=np.array([[-1, 3, 2],\n",
        "            [0, 2, 1],\n",
        "            [1, 5, -2]])\n",
        "print(\"\\nMa trận M:\")\n",
        "print(M)\n",
        "M_lower=np.tril(M)\n",
        "print(\"\\nMa trận tam giác dưới của M:\")\n",
        "print(M_lower)"
      ],
      "metadata": {
        "colab": {
          "base_uri": "https://localhost:8080/"
        },
        "id": "iLrq0jUHmH_S",
        "outputId": "dfcbed73-c010-4410-8c90-f473a16e74c8"
      },
      "execution_count": 13,
      "outputs": [
        {
          "output_type": "stream",
          "name": "stdout",
          "text": [
            "\n",
            "Ma trận nghịch đảo của A:\n",
            "[[-2.   1. ]\n",
            " [ 1.5 -0.5]]\n",
            "\n",
            "Ma trận M:\n",
            "[[-1  3  2]\n",
            " [ 0  2  1]\n",
            " [ 1  5 -2]]\n",
            "\n",
            "Ma trận tam giác dưới của M:\n",
            "[[-1  0  0]\n",
            " [ 0  2  0]\n",
            " [ 1  5 -2]]\n"
          ]
        }
      ]
    },
    {
      "cell_type": "code",
      "source": [
        "M=np.array([[-1,3,2],[0,-2,1],[1,5,-2]])\n",
        "M_upper=np.triu(M)\n",
        "print(M_upper)"
      ],
      "metadata": {
        "id": "Glon4s_pSymW",
        "colab": {
          "base_uri": "https://localhost:8080/"
        },
        "outputId": "11dbd611-c311-4838-ec2b-a3818ea63a4e"
      },
      "execution_count": 14,
      "outputs": [
        {
          "output_type": "stream",
          "name": "stdout",
          "text": [
            "[[-1  3  2]\n",
            " [ 0 -2  1]\n",
            " [ 0  0 -2]]\n"
          ]
        }
      ]
    },
    {
      "cell_type": "code",
      "source": [
        "v_diag=np.diag(M)\n",
        "print(v_diag)"
      ],
      "metadata": {
        "colab": {
          "base_uri": "https://localhost:8080/"
        },
        "id": "S7s1kvjBUGq5",
        "outputId": "30ff6e5e-3c37-40e8-e92c-3575c4037674"
      },
      "execution_count": 15,
      "outputs": [
        {
          "output_type": "stream",
          "name": "stdout",
          "text": [
            "[-1 -2 -2]\n"
          ]
        }
      ]
    },
    {
      "cell_type": "code",
      "source": [
        "M_diag=np.diag(v_diag)\n",
        "print(M_diag)"
      ],
      "metadata": {
        "colab": {
          "base_uri": "https://localhost:8080/"
        },
        "id": "GkSwlHhnULQK",
        "outputId": "4997309a-47f1-45b1-df00-fd57738ae8d0"
      },
      "execution_count": 16,
      "outputs": [
        {
          "output_type": "stream",
          "name": "stdout",
          "text": [
            "[[-1  0  0]\n",
            " [ 0 -2  0]\n",
            " [ 0  0 -2]]\n"
          ]
        }
      ]
    },
    {
      "cell_type": "markdown",
      "source": [
        "Thực hiện tính toán đơn giản trên ma trận\n",
        "\n",
        "Bài tập dẫn nhập"
      ],
      "metadata": {
        "id": "W3123kh_lWya"
      }
    },
    {
      "cell_type": "code",
      "source": [
        "import sympy as sp\n",
        "x,y,z=sp.symbols('x y z')\n",
        "A=sp.Matrix([[2,x**2+2,3],\n",
        "             [6,0,1],\n",
        "             [8,z**2+4,y-z]])\n",
        "B=sp.Matrix([[2,6,3],\n",
        "             [y-1,0,x+z],\n",
        "             [2*x**2,5,8]])\n",
        "eqs=[]\n",
        "for i in range(3):\n",
        "    for j in range(3):\n",
        "        eqs.append(sp.Eq(A[i,j],B[i,j]))\n",
        "solutions=sp.solve(eqs,(x,y,z),dict=True)\n",
        "print(solutions)"
      ],
      "metadata": {
        "colab": {
          "base_uri": "https://localhost:8080/"
        },
        "id": "Vk2rsyjtlMmE",
        "outputId": "b9c4b971-62d7-43db-8859-26fb82cdad63"
      },
      "execution_count": 19,
      "outputs": [
        {
          "output_type": "stream",
          "name": "stdout",
          "text": [
            "[{x: 2, y: 7, z: -1}]\n"
          ]
        }
      ]
    },
    {
      "cell_type": "markdown",
      "source": [
        "3.2/ Các phép biển đổi sơ cấp trên ma trận"
      ],
      "metadata": {
        "id": "nIZ2_Dddru8O"
      }
    },
    {
      "cell_type": "code",
      "source": [
        "A=np.reshape(np.arange(36.0),(6,6))\n",
        "print(A)"
      ],
      "metadata": {
        "colab": {
          "base_uri": "https://localhost:8080/"
        },
        "id": "9_aW88H9rfxo",
        "outputId": "3a48a162-18ba-4327-f4f0-9735f15f023b"
      },
      "execution_count": 20,
      "outputs": [
        {
          "output_type": "stream",
          "name": "stdout",
          "text": [
            "[[ 0.  1.  2.  3.  4.  5.]\n",
            " [ 6.  7.  8.  9. 10. 11.]\n",
            " [12. 13. 14. 15. 16. 17.]\n",
            " [18. 19. 20. 21. 22. 23.]\n",
            " [24. 25. 26. 27. 28. 29.]\n",
            " [30. 31. 32. 33. 34. 35.]]\n"
          ]
        }
      ]
    },
    {
      "cell_type": "code",
      "source": [
        "I6=np.identity(6)\n",
        "print(I6)"
      ],
      "metadata": {
        "colab": {
          "base_uri": "https://localhost:8080/"
        },
        "id": "nvPCqFrkr630",
        "outputId": "2933e1a6-38de-4881-e8d8-78f18c39ea6f"
      },
      "execution_count": 21,
      "outputs": [
        {
          "output_type": "stream",
          "name": "stdout",
          "text": [
            "[[1. 0. 0. 0. 0. 0.]\n",
            " [0. 1. 0. 0. 0. 0.]\n",
            " [0. 0. 1. 0. 0. 0.]\n",
            " [0. 0. 0. 1. 0. 0.]\n",
            " [0. 0. 0. 0. 1. 0.]\n",
            " [0. 0. 0. 0. 0. 1.]]\n"
          ]
        }
      ]
    },
    {
      "cell_type": "code",
      "source": [
        "A.size"
      ],
      "metadata": {
        "colab": {
          "base_uri": "https://localhost:8080/"
        },
        "id": "wcn3lCK3sC0g",
        "outputId": "a1b3d83e-6152-4cf3-a0fe-e79ddb7f90b1"
      },
      "execution_count": 22,
      "outputs": [
        {
          "output_type": "execute_result",
          "data": {
            "text/plain": [
              "36"
            ]
          },
          "metadata": {},
          "execution_count": 22
        }
      ]
    },
    {
      "cell_type": "code",
      "source": [
        "np.matrix.diagonal(A)"
      ],
      "metadata": {
        "colab": {
          "base_uri": "https://localhost:8080/"
        },
        "id": "YLknI1wbsEu_",
        "outputId": "b6ea1597-4cf8-4278-cf2e-1958f5e5d1f5"
      },
      "execution_count": 23,
      "outputs": [
        {
          "output_type": "execute_result",
          "data": {
            "text/plain": [
              "array([ 0.,  7., 14., 21., 28., 35.])"
            ]
          },
          "metadata": {},
          "execution_count": 23
        }
      ]
    },
    {
      "cell_type": "code",
      "source": [
        "A=A+I6\n",
        "print(A)"
      ],
      "metadata": {
        "colab": {
          "base_uri": "https://localhost:8080/"
        },
        "id": "TGmCjzQnsOCZ",
        "outputId": "05a59d01-58a5-4698-ec89-1a900d0a5133"
      },
      "execution_count": 24,
      "outputs": [
        {
          "output_type": "stream",
          "name": "stdout",
          "text": [
            "[[ 1.  1.  2.  3.  4.  5.]\n",
            " [ 6.  8.  8.  9. 10. 11.]\n",
            " [12. 13. 15. 15. 16. 17.]\n",
            " [18. 19. 20. 22. 22. 23.]\n",
            " [24. 25. 26. 27. 29. 29.]\n",
            " [30. 31. 32. 33. 34. 36.]]\n"
          ]
        }
      ]
    },
    {
      "cell_type": "code",
      "source": [
        "vecB=np.array([1., 2., 3., 4., 5., 6.])\n",
        "C=A.dot(vecB)\n",
        "print(C)"
      ],
      "metadata": {
        "colab": {
          "base_uri": "https://localhost:8080/"
        },
        "id": "GGlaQSWKtDA7",
        "outputId": "4bf1d1d9-dfd2-4d17-c814-122b88b551ef"
      },
      "execution_count": 25,
      "outputs": [
        {
          "output_type": "stream",
          "name": "stdout",
          "text": [
            "[ 71. 198. 325. 452. 579. 706.]\n"
          ]
        }
      ]
    },
    {
      "cell_type": "code",
      "source": [
        "D=np.array([[1., 2., 3., 4., 5., 6.],[1., 0., 1., 0., 1., 0.]])\n",
        "print(D)"
      ],
      "metadata": {
        "colab": {
          "base_uri": "https://localhost:8080/"
        },
        "id": "d4W1MXketwh4",
        "outputId": "004c7fef-f666-4f54-b9f1-495d8f96e172"
      },
      "execution_count": 26,
      "outputs": [
        {
          "output_type": "stream",
          "name": "stdout",
          "text": [
            "[[1. 2. 3. 4. 5. 6.]\n",
            " [1. 0. 1. 0. 1. 0.]]\n"
          ]
        }
      ]
    },
    {
      "cell_type": "code",
      "source": [
        "E=A.dot(D.T)\n",
        "print(E)"
      ],
      "metadata": {
        "colab": {
          "base_uri": "https://localhost:8080/"
        },
        "id": "v--FMhtQt7lJ",
        "outputId": "33dc9c36-cf26-4995-bf70-a448545c70a2"
      },
      "execution_count": 27,
      "outputs": [
        {
          "output_type": "stream",
          "name": "stdout",
          "text": [
            "[[ 71.   7.]\n",
            " [198.  24.]\n",
            " [325.  43.]\n",
            " [452.  60.]\n",
            " [579.  79.]\n",
            " [706.  96.]]\n"
          ]
        }
      ]
    },
    {
      "cell_type": "code",
      "source": [
        "F=np.array([[1., 1.],[2., 0.],[3., 1.],[4., 0.],[5., 1.],[6., 0.]])\n",
        "G=A.dot(F)\n",
        "print(F)\n",
        "print(G)"
      ],
      "metadata": {
        "colab": {
          "base_uri": "https://localhost:8080/"
        },
        "id": "TSWXlkZQuclH",
        "outputId": "f0bc663c-274c-43f8-ea63-549f4790d786"
      },
      "execution_count": 30,
      "outputs": [
        {
          "output_type": "stream",
          "name": "stdout",
          "text": [
            "[[1. 1.]\n",
            " [2. 0.]\n",
            " [3. 1.]\n",
            " [4. 0.]\n",
            " [5. 1.]\n",
            " [6. 0.]]\n",
            "[[ 71.   7.]\n",
            " [198.  24.]\n",
            " [325.  43.]\n",
            " [452.  60.]\n",
            " [579.  79.]\n",
            " [706.  96.]]\n"
          ]
        }
      ]
    },
    {
      "cell_type": "code",
      "source": [
        "np.linalg.inv(A)"
      ],
      "metadata": {
        "colab": {
          "base_uri": "https://localhost:8080/"
        },
        "id": "B-_Wed4Vun49",
        "outputId": "4a5cf812-4a46-487e-8034-66884a871de6"
      },
      "execution_count": 34,
      "outputs": [
        {
          "output_type": "execute_result",
          "data": {
            "text/plain": [
              "array([[ 0.37022901, -0.45610687, -0.28244275, -0.10877863,  0.0648855 ,\n",
              "         0.23854962],\n",
              "       [-0.44656489,  0.65839695, -0.23664122, -0.13167939, -0.02671756,\n",
              "         0.07824427],\n",
              "       [-0.26335878, -0.22709924,  0.80916031, -0.15458015, -0.11832061,\n",
              "        -0.08206107],\n",
              "       [-0.08015267, -0.11259542, -0.14503817,  0.82251908, -0.20992366,\n",
              "        -0.24236641],\n",
              "       [ 0.10305344,  0.0019084 , -0.09923664, -0.20038168,  0.69847328,\n",
              "        -0.40267176],\n",
              "       [ 0.28625954,  0.11641221, -0.05343511, -0.22328244, -0.39312977,\n",
              "         0.4370229 ]])"
            ]
          },
          "metadata": {},
          "execution_count": 34
        }
      ]
    },
    {
      "cell_type": "code",
      "source": [
        "np.linalg.inv(np.linalg.inv(A))"
      ],
      "metadata": {
        "colab": {
          "base_uri": "https://localhost:8080/"
        },
        "id": "823ZXy51vh5X",
        "outputId": "a96d2b0b-9524-42fe-f0a1-206f05aa2d4d"
      },
      "execution_count": 35,
      "outputs": [
        {
          "output_type": "execute_result",
          "data": {
            "text/plain": [
              "array([[ 1.,  1.,  2.,  3.,  4.,  5.],\n",
              "       [ 6.,  8.,  8.,  9., 10., 11.],\n",
              "       [12., 13., 15., 15., 16., 17.],\n",
              "       [18., 19., 20., 22., 22., 23.],\n",
              "       [24., 25., 26., 27., 29., 29.],\n",
              "       [30., 31., 32., 33., 34., 36.]])"
            ]
          },
          "metadata": {},
          "execution_count": 35
        }
      ]
    },
    {
      "cell_type": "markdown",
      "source": [
        " 4. Bài toán ứng dụng 2 – Tính toán dãy Fibonacci: Con đường tìm đến tỉ số vàng!"
      ],
      "metadata": {
        "id": "hg_8-UefvpPf"
      }
    },
    {
      "cell_type": "code",
      "source": [
        "import numpy as np\n",
        "A=np.array([[1,1],[1,0]])\n",
        "b=np.array([1, 0])\n",
        "n=10\n",
        "for i in range(n):\n",
        "  b=A.dot(b)\n",
        "  print(b)"
      ],
      "metadata": {
        "colab": {
          "base_uri": "https://localhost:8080/"
        },
        "id": "mdjfG-dQvrRD",
        "outputId": "0732ef0d-fce9-44b0-f74e-ac13bdfa3130"
      },
      "execution_count": 36,
      "outputs": [
        {
          "output_type": "stream",
          "name": "stdout",
          "text": [
            "[1 1]\n",
            "[2 1]\n",
            "[3 2]\n",
            "[5 3]\n",
            "[8 5]\n",
            "[13  8]\n",
            "[21 13]\n",
            "[34 21]\n",
            "[55 34]\n",
            "[89 55]\n"
          ]
        }
      ]
    },
    {
      "cell_type": "markdown",
      "source": [
        "5. Cơ bản về hệ phương trình tuyến tính và ứng dụng minh họa"
      ],
      "metadata": {
        "id": "9-9foMQ-v6TX"
      }
    },
    {
      "cell_type": "markdown",
      "source": [
        " 5.1. Làm quen với giải hệ phương trình tuyến tính\n",
        ""
      ],
      "metadata": {
        "id": "2Ir2tlbPwGin"
      }
    },
    {
      "cell_type": "markdown",
      "source": [
        "5.2. Bài toán ứng dụng 3 – Đếm số lượng xe vào khu vực trung tâm"
      ],
      "metadata": {
        "id": "ZMt0Ur9ywSMW"
      }
    },
    {
      "cell_type": "code",
      "source": [
        "import sympy as sp\n",
        "from sympy import Symbol\n",
        "x1=Symbol('x1')\n",
        "x2=Symbol('x2')\n",
        "x3=Symbol('x3')\n",
        "x4=Symbol('x4')\n",
        "from sympy import solve\n",
        "pt1=x4+610-450-x1\n",
        "pt2=x1+400-x2-640\n",
        "pt3=x2+600-x3\n",
        "pt4=x3-x4-520\n",
        "nghiem=sp.solve((pt1,pt2,pt3,pt4))\n",
        "print(nghiem)"
      ],
      "metadata": {
        "colab": {
          "base_uri": "https://localhost:8080/"
        },
        "id": "2neKvulZv649",
        "outputId": "5ca57981-e268-4aeb-f281-b366d267684c"
      },
      "execution_count": 37,
      "outputs": [
        {
          "output_type": "stream",
          "name": "stdout",
          "text": [
            "{x1: x4 + 160, x2: x4 - 80, x3: x4 + 520}\n"
          ]
        }
      ]
    },
    {
      "cell_type": "code",
      "source": [
        "import numpy as np\n",
        "A=np.matrix([[-1,0,0,1],[1,-1,0,0],[0,1,-1,0],[0,0,1,-1]])\n",
        "det=np.linalg.det(A)\n",
        "print(\"Determinant của A =\",det)\n",
        "if abs(det)>1e-10:\n",
        "    A_nghichdao=np.linalg.inv(A)\n",
        "    print(\"Ma trận nghịch đảo A^-1 là:\\n\",A_nghichdao)\n",
        "else:\n",
        "    print(\"Ma trận A không khả nghịch, tính ma trận giả nghịch đảo (pseudo-inverse):\")\n",
        "    A_pinv=np.linalg.pinv(A)\n",
        "    print(\"Ma trận giả nghịch đảo của A là:\\n\",A_pinv)"
      ],
      "metadata": {
        "colab": {
          "base_uri": "https://localhost:8080/"
        },
        "id": "IXwql3rgw3gu",
        "outputId": "ebf4687e-302c-421e-a31c-0ee5b4821ea3"
      },
      "execution_count": 44,
      "outputs": [
        {
          "output_type": "stream",
          "name": "stdout",
          "text": [
            "Determinant của A = 0.0\n",
            "Ma trận A không khả nghịch, tính ma trận giả nghịch đảo (pseudo-inverse):\n",
            "Ma trận giả nghịch đảo của A là:\n",
            " [[-0.375  0.375  0.125 -0.125]\n",
            " [-0.125 -0.375  0.375  0.125]\n",
            " [ 0.125 -0.125 -0.375  0.375]\n",
            " [ 0.375  0.125 -0.125 -0.375]]\n"
          ]
        }
      ]
    },
    {
      "cell_type": "markdown",
      "source": [
        "BÀI TẬP CHƯƠNG 2\n"
      ],
      "metadata": {
        "id": "pep3XcjbzSQo"
      }
    },
    {
      "cell_type": "markdown",
      "source": [
        "Câu 1: Hãy sử dụng numpy để giải các phương trình sau:\n",
        "\n",
        "Vấn đề 1 (Problem 1): Tìm điểm giao giữa hai đường thẳng trong ℝ.\n"
      ],
      "metadata": {
        "id": "zrT6Bf_TzUrP"
      }
    },
    {
      "cell_type": "code",
      "source": [
        "import numpy as np\n",
        "A1=np.array([[1, -1], [2, 3]])\n",
        "b1=np.array([-2, 6])\n",
        "x1=np.linalg.solve(A1,b1)\n",
        "print(\"Vấn đề 1 - Giao điểm hai đường thẳng:\",x1)"
      ],
      "metadata": {
        "colab": {
          "base_uri": "https://localhost:8080/"
        },
        "id": "PKjs5UH0zgfC",
        "outputId": "f16f0f95-76ef-4899-9256-ed87bf4b4a60"
      },
      "execution_count": 45,
      "outputs": [
        {
          "output_type": "stream",
          "name": "stdout",
          "text": [
            "Vấn đề 1 - Giao điểm hai đường thẳng: [0. 2.]\n"
          ]
        }
      ]
    },
    {
      "cell_type": "markdown",
      "source": [
        "Vấn đề 2 (Problem 2): Tìm giao điểm giữa ba mặt phẳng trong ℝ."
      ],
      "metadata": {
        "id": "530d1MRPzk0X"
      }
    },
    {
      "cell_type": "code",
      "source": [
        "A2 = np.array([[1,-1,0],[2,-1,-1],[1,1,1]])\n",
        "b2 = np.array([2,3,6])\n",
        "x2 = np.linalg.solve(A2,b2)\n",
        "print(\"Vấn đề 2 - Giao điểm ba mặt phẳng:\",x2)"
      ],
      "metadata": {
        "colab": {
          "base_uri": "https://localhost:8080/"
        },
        "id": "YyUeTTDpzkOk",
        "outputId": "3c19ba05-d41a-4924-addb-218c9eb546fe"
      },
      "execution_count": 46,
      "outputs": [
        {
          "output_type": "stream",
          "name": "stdout",
          "text": [
            "Vấn đề 2 - Giao điểm ba mặt phẳng: [3. 1. 2.]\n"
          ]
        }
      ]
    },
    {
      "cell_type": "markdown",
      "source": [
        "Vấn đề 3 (Problem 3): Tìm các hệ số đa thức để đa thức thỏa các nghiệm."
      ],
      "metadata": {
        "id": "D_IE5kDozmL0"
      }
    },
    {
      "cell_type": "code",
      "source": [
        "A3=np.array([[1,1,1],[4,2,1],[9,3,1]])\n",
        "b3=np.array([4,3,6])\n",
        "x3=np.linalg.solve(A3,b3)\n",
        "print(\"Vấn đề 3 - Hệ số của đa thức ax^2 + bx + c:\", x3)"
      ],
      "metadata": {
        "colab": {
          "base_uri": "https://localhost:8080/"
        },
        "id": "GxBhxuxhzkEP",
        "outputId": "85a21209-fd35-47a3-8b29-22b73b1362c7"
      },
      "execution_count": 47,
      "outputs": [
        {
          "output_type": "stream",
          "name": "stdout",
          "text": [
            "Vấn đề 3 - Hệ số của đa thức ax^2 + bx + c: [ 2. -7.  9.]\n"
          ]
        }
      ]
    },
    {
      "cell_type": "markdown",
      "source": [
        "Vấn đề 4 (Problem 4)Tìm các hệ đa thức khi phân rã để tính tích phân."
      ],
      "metadata": {
        "id": "npSFvqGdzlyv"
      }
    },
    {
      "cell_type": "code",
      "source": [
        "A4=np.array([[1,0,1],[1,1,-2],[-2,2,1]])\n",
        "b4=np.array([1,-3,0])\n",
        "x4=np.linalg.solve(A4,b4)\n",
        "print(\"Vấn đề 4 - Hệ số a, b, c:\", x4)"
      ],
      "metadata": {
        "colab": {
          "base_uri": "https://localhost:8080/"
        },
        "id": "bcg9xZtazj7d",
        "outputId": "1c9d4766-526f-47d7-f0e7-e276d7359812"
      },
      "execution_count": 48,
      "outputs": [
        {
          "output_type": "stream",
          "name": "stdout",
          "text": [
            "Vấn đề 4 - Hệ số a, b, c: [-0.11111111 -0.66666667  1.11111111]\n"
          ]
        }
      ]
    },
    {
      "cell_type": "markdown",
      "source": [
        "Câu 2: Hãy viết các câu lệnh của sympy để giải các phương trình ở Câu 1."
      ],
      "metadata": {
        "id": "VAxNHMdQ9deq"
      }
    },
    {
      "cell_type": "code",
      "source": [
        "import sympy as sp\n",
        "#Vấn đề 1\n",
        "x,y=sp.symbols('x y')\n",
        "eq1=x-y+2\n",
        "eq2=2*x+3*y-6\n",
        "sol1=sp.solve([eq1,eq2],(x,y))\n",
        "print(\"Vấn đề 1 (sympy):\",sol1)\n",
        "#Vấn đề 2\n",
        "x,y,z=sp.symbols('x y z')\n",
        "eq1=x-y-2\n",
        "eq2=2*x-y-z-3\n",
        "eq3=x+y+z-6\n",
        "sol2=sp.solve([eq1,eq2,eq3],(x,y,z))\n",
        "print(\"Vấn đề 2 (sympy):\",sol2)\n",
        "#Vấn đề 3\n",
        "a,b,c=sp.symbols('a b c')\n",
        "eq1=a+b+c-4\n",
        "eq2=4*a+2*b+c-3\n",
        "eq3=9*a+3*b+c-6\n",
        "sol3=sp.solve([eq1,eq2,eq3],(a,b,c))\n",
        "print(\"Vấn đề 3 (sympy):\",sol3)\n",
        "#Vấn đề 4\n",
        "a,b,c=sp.symbols('a b c')\n",
        "eq1=a+c-1\n",
        "eq2=a+b-2*c+3\n",
        "eq3=-2*a+2*b + c\n",
        "sol4=sp.solve([eq1,eq2,eq3],(a,b,c))\n",
        "print(\"Vấn đề 4 (sympy):\",sol4)"
      ],
      "metadata": {
        "colab": {
          "base_uri": "https://localhost:8080/"
        },
        "id": "dEczVs_89a4Z",
        "outputId": "3da20522-0033-4226-b199-bd9237bfe8cf"
      },
      "execution_count": 49,
      "outputs": [
        {
          "output_type": "stream",
          "name": "stdout",
          "text": [
            "Vấn đề 1 (sympy): {x: 0, y: 2}\n",
            "Vấn đề 2 (sympy): {x: 3, y: 1, z: 2}\n",
            "Vấn đề 3 (sympy): {a: 2, b: -7, c: 9}\n",
            "Vấn đề 4 (sympy): {a: -1/9, b: -2/3, c: 10/9}\n"
          ]
        }
      ]
    },
    {
      "cell_type": "markdown",
      "source": [
        "Câu 3:"
      ],
      "metadata": {
        "id": "FY9mjEym-KZ9"
      }
    },
    {
      "cell_type": "code",
      "source": [
        "import numpy as np\n",
        "def fibonacci_matrix(k):\n",
        "    F = np.array([[1, 1],\n",
        "                  [1, 0]], dtype=object)\n",
        "    result = np.linalg.matrix_power(F, k)\n",
        "    return result\n",
        "\n",
        "def fibonacci(n):\n",
        "    if n == 0: return 0\n",
        "    elif n == 1: return 1\n",
        "    else:\n",
        "        a, b = 0, 1\n",
        "        for _ in range(n - 1):\n",
        "            a, b = b, a + b\n",
        "        return b\n",
        "for k in range(11):\n",
        "    Fk = fibonacci_matrix(k)\n",
        "    expected = np.array([\n",
        "        [fibonacci(k+1), fibonacci(k)],\n",
        "        [fibonacci(k), fibonacci(k-1) if k > 0 else 0]\n",
        "    ])\n",
        "    print(f\"\\nF^{k} =\\n{Fk}\")\n",
        "    print(\"Dự kiến từ Fibonacci:\\n\", expected)\n",
        "    print(\"Khớp:\", np.array_equal(Fk, expected))"
      ],
      "metadata": {
        "colab": {
          "base_uri": "https://localhost:8080/"
        },
        "id": "RC4_U20s-Fj3",
        "outputId": "2f617f10-6b56-4e5b-8a2c-fc2eebc65b9b"
      },
      "execution_count": 50,
      "outputs": [
        {
          "output_type": "stream",
          "name": "stdout",
          "text": [
            "\n",
            "F^0 =\n",
            "[[1 0]\n",
            " [0 1]]\n",
            "Dự kiến từ Fibonacci:\n",
            " [[1 0]\n",
            " [0 0]]\n",
            "Khớp: False\n",
            "\n",
            "F^1 =\n",
            "[[1 1]\n",
            " [1 0]]\n",
            "Dự kiến từ Fibonacci:\n",
            " [[1 1]\n",
            " [1 0]]\n",
            "Khớp: True\n",
            "\n",
            "F^2 =\n",
            "[[2 1]\n",
            " [1 1]]\n",
            "Dự kiến từ Fibonacci:\n",
            " [[2 1]\n",
            " [1 1]]\n",
            "Khớp: True\n",
            "\n",
            "F^3 =\n",
            "[[3 2]\n",
            " [2 1]]\n",
            "Dự kiến từ Fibonacci:\n",
            " [[3 2]\n",
            " [2 1]]\n",
            "Khớp: True\n",
            "\n",
            "F^4 =\n",
            "[[5 3]\n",
            " [3 2]]\n",
            "Dự kiến từ Fibonacci:\n",
            " [[5 3]\n",
            " [3 2]]\n",
            "Khớp: True\n",
            "\n",
            "F^5 =\n",
            "[[8 5]\n",
            " [5 3]]\n",
            "Dự kiến từ Fibonacci:\n",
            " [[8 5]\n",
            " [5 3]]\n",
            "Khớp: True\n",
            "\n",
            "F^6 =\n",
            "[[13 8]\n",
            " [8 5]]\n",
            "Dự kiến từ Fibonacci:\n",
            " [[13  8]\n",
            " [ 8  5]]\n",
            "Khớp: True\n",
            "\n",
            "F^7 =\n",
            "[[21 13]\n",
            " [13 8]]\n",
            "Dự kiến từ Fibonacci:\n",
            " [[21 13]\n",
            " [13  8]]\n",
            "Khớp: True\n",
            "\n",
            "F^8 =\n",
            "[[34 21]\n",
            " [21 13]]\n",
            "Dự kiến từ Fibonacci:\n",
            " [[34 21]\n",
            " [21 13]]\n",
            "Khớp: True\n",
            "\n",
            "F^9 =\n",
            "[[55 34]\n",
            " [34 21]]\n",
            "Dự kiến từ Fibonacci:\n",
            " [[55 34]\n",
            " [34 21]]\n",
            "Khớp: True\n",
            "\n",
            "F^10 =\n",
            "[[89 55]\n",
            " [55 34]]\n",
            "Dự kiến từ Fibonacci:\n",
            " [[89 55]\n",
            " [55 34]]\n",
            "Khớp: True\n"
          ]
        }
      ]
    }
  ]
}