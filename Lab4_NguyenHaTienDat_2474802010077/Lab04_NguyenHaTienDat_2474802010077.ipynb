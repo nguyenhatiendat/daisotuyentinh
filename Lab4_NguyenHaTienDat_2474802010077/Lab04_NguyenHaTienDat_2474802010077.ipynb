{
  "nbformat": 4,
  "nbformat_minor": 0,
  "metadata": {
    "colab": {
      "provenance": []
    },
    "kernelspec": {
      "name": "python3",
      "display_name": "Python 3"
    },
    "language_info": {
      "name": "python"
    }
  },
  "cells": [
    {
      "cell_type": "markdown",
      "source": [
        "CHƯƠNG 4: CƠ BẢN VỀ ĐỊNH THỨC"
      ],
      "metadata": {
        "id": "S9kUhZDicQf9"
      }
    },
    {
      "cell_type": "markdown",
      "source": [
        "1. Định thức và các tính chất\n",
        "- Phép thế của một tập hợp hữu hạn:"
      ],
      "metadata": {
        "id": "dcCBjiWucWNT"
      }
    },
    {
      "cell_type": "code",
      "execution_count": 40,
      "metadata": {
        "colab": {
          "base_uri": "https://localhost:8080/"
        },
        "id": "GeK_MyeJcP6c",
        "outputId": "ff58b950-3399-4799-c2d9-3cd31e7f4062"
      },
      "outputs": [
        {
          "output_type": "stream",
          "name": "stdout",
          "text": [
            "sgn([1,2,3,4])= 1\n",
            "sgn([4,3,2,1])= 1\n",
            "sgn([2,1,3,4])= -1\n"
          ]
        }
      ],
      "source": [
        "import numpy as np\n",
        "def sgn_by_def(sigma):\n",
        "    ket_qua=1\n",
        "    n=len(sigma)\n",
        "    for i in range(n-1):\n",
        "        for j in range(i+1,n):\n",
        "            if sigma[i]>sigma[j]:#có một nghịch thế\n",
        "                ket_qua*=-1 #đổi dấu\n",
        "    return ket_qua\n",
        "#Thử nghiệm\n",
        "sigma1=np.array([1,2,3,4])\n",
        "sigma2=np.array([4,3,2,1])\n",
        "sigma3=np.array([2,1,3,4])\n",
        "print(\"sgn([1,2,3,4])=\",sgn_by_def(sigma1))#Kết quả: 1\n",
        "print(\"sgn([4,3,2,1])=\",sgn_by_def(sigma2))#Kết quả: 1 (6 nghịch thế)\n",
        "print(\"sgn([2,1,3,4])=\",sgn_by_def(sigma3))#Kết quả: -1 (1 nghịch thế)\n"
      ]
    },
    {
      "cell_type": "markdown",
      "source": [
        "- ĐỊNH THỨC:"
      ],
      "metadata": {
        "id": "T9Z5IKlKhHYR"
      }
    },
    {
      "cell_type": "code",
      "source": [
        "from itertools import permutations\n",
        "n=3\n",
        "x=[]\n",
        "for i in range (1,n+1):\n",
        "  x.append(i)\n",
        "Sn=list(permutations(x)) #tạo hoán vị của tập X\n",
        "print(Sn)"
      ],
      "metadata": {
        "colab": {
          "base_uri": "https://localhost:8080/"
        },
        "id": "LgZx5_0pfWlT",
        "outputId": "642c7bd5-d888-43f4-da85-a7fdd257b2dd"
      },
      "execution_count": 41,
      "outputs": [
        {
          "output_type": "stream",
          "name": "stdout",
          "text": [
            "[(1, 2, 3), (1, 3, 2), (2, 1, 3), (2, 3, 1), (3, 1, 2), (3, 2, 1)]\n"
          ]
        }
      ]
    },
    {
      "cell_type": "code",
      "source": [
        "det=0 #bước này có duy nhất 1 lệnh, có ý nghĩa khởi tạo giá trị ban đầu của định thức\n",
        "import numpy as np\n",
        "from itertools import permutations\n",
        "def phatsinh_dinhthuc(n):\n",
        "  x=[]\n",
        "  for i in range(1,n+1):\n",
        "    x.append(i)\n",
        "  Sn=list(permutations(x))\n",
        "  dinhthuc=\"\"\n",
        "  for sn in Sn:\n",
        "    sigma=np.array([1])\n",
        "    sigma.resize([n])\n",
        "    product=\"\"\n",
        "    for i in range (1,n+1):\n",
        "      sigma[sn.index(i)]=i\n",
        "      product=product+\"a\"+str(i)+str(sn.index(i)+1)\n",
        "    dau=sgn_by_def(sigma)\n",
        "    if (dau!=1):\n",
        "      product=\"-\"+product\n",
        "    else:\n",
        "      product=\"+\"+product\n",
        "    dinhthuc=dinhthuc+product\n",
        "  return dinhthuc\n",
        "print(phatsinh_dinhthuc(2))\n",
        "print(phatsinh_dinhthuc(3))"
      ],
      "metadata": {
        "colab": {
          "base_uri": "https://localhost:8080/"
        },
        "id": "KJVN4Vqmhnba",
        "outputId": "4baab030-2ea5-4903-aa79-a2e42211a5f7"
      },
      "execution_count": 42,
      "outputs": [
        {
          "output_type": "stream",
          "name": "stdout",
          "text": [
            "+a11a22-a12a21\n",
            "+a11a22a33-a11a23a32-a12a21a33+a13a21a32+a12a23a31-a13a22a31\n"
          ]
        }
      ]
    },
    {
      "cell_type": "code",
      "source": [
        "import numpy as np\n",
        "import math\n",
        "from itertools import permutations\n",
        "#hàm tính dấu hoán vị(1 nếu chẵn, -1 nếu lẻ)\n",
        "def sgn_by_def(sigma):\n",
        "  n=len(sigma)\n",
        "  count=0\n",
        "  for i in range(n):\n",
        "    for j in range(i+1,n):\n",
        "      if sigma[i]> sigma[j]:\n",
        "        count+=1\n",
        "  return 1 if count%2==0 else -1\n",
        "#hàm tính định thức của ma trận A theo định nghĩa\n",
        "def tinhtoan_dinhthuc(A):\n",
        "  x=[]\n",
        "  import math\n",
        "  n=int(math.sqrt(A.size))\n",
        "  for i in range(1,n+1):\n",
        "    x.append(i)\n",
        "  Sn=list(permutations(x))\n",
        "  dinhthuc=0\n",
        "  for sn in Sn:\n",
        "    sigma=np.array([1])\n",
        "    sigma.resize([n])\n",
        "    product=1\n",
        "    for i in range(1,n+1):\n",
        "      sigma[sn.index(i)]=i\n",
        "      product=product*A[i-1][sn.index(i)]\n",
        "    dau=sgn_by_def(sigma)\n",
        "    if (dau!=1):\n",
        "      product=product*(-1)\n",
        "    dinhthuc=dinhthuc+product\n",
        "  return dinhthuc\n",
        "A=np.array([[3,5,-8],[4,12,-1],[2,5,3]])\n",
        "print(tinhtoan_dinhthuc(A))"
      ],
      "metadata": {
        "colab": {
          "base_uri": "https://localhost:8080/"
        },
        "id": "2QXWYwFIpBDE",
        "outputId": "a30fb1d9-f3af-4b4c-aafe-325f0c9cdcdd"
      },
      "execution_count": 43,
      "outputs": [
        {
          "output_type": "stream",
          "name": "stdout",
          "text": [
            "85\n"
          ]
        }
      ]
    },
    {
      "cell_type": "markdown",
      "source": [
        "- Các tính chất của ma trận"
      ],
      "metadata": {
        "id": "p1dpOnSVnhSe"
      }
    },
    {
      "cell_type": "markdown",
      "source": [
        "- Biểu diễn hình học định thức"
      ],
      "metadata": {
        "id": "Otq2YBiwn-72"
      }
    },
    {
      "cell_type": "markdown",
      "source": [
        "2. Định thức và ma trận khả nghịch"
      ],
      "metadata": {
        "id": "7YXu76azoDLi"
      }
    },
    {
      "cell_type": "markdown",
      "source": [
        "- Ma trận hệ số kép (ma trận cofactor)"
      ],
      "metadata": {
        "id": "EtMISEmPoI6A"
      }
    },
    {
      "cell_type": "markdown",
      "source": [
        "- Ma trận liên hợp adj (ma trận adjoint)"
      ],
      "metadata": {
        "id": "k9kODFwCoM8X"
      }
    },
    {
      "cell_type": "markdown",
      "source": [
        "- Ma trận nghịch đảo A^-1"
      ],
      "metadata": {
        "id": "WZX5RzqsoPcc"
      }
    },
    {
      "cell_type": "markdown",
      "source": [
        "3. Quy tắc Cramer"
      ],
      "metadata": {
        "id": "21tx7zjaoYVV"
      }
    },
    {
      "cell_type": "markdown",
      "source": [
        "- Hệ hai phương trình tuyến tính bậc 1:"
      ],
      "metadata": {
        "id": "FOrwkjG1oavS"
      }
    },
    {
      "cell_type": "code",
      "source": [
        "import numpy as np\n",
        "A=np.array([[4,-2],[3,-5]])   # khai báo ma trận A\n",
        "A1=np.array([[10,-2],[11,-5]])\n",
        "A2=np.array([[4,10],[3,11]])\n",
        "from scipy import linalg  #lưu ý: hàm tính định thức của ma trận là scipy.linalg.det(A)\n",
        "detA=linalg.det(A)      #tính định thức cho ma trận A\n",
        "detA1=linalg.det(A1)\n",
        "detA2=linalg.det(A2)\n",
        "print(detA,detA1,detA2)"
      ],
      "metadata": {
        "colab": {
          "base_uri": "https://localhost:8080/"
        },
        "id": "DHOYDL0TnniO",
        "outputId": "d834a0ac-ce94-491b-e09c-a444f7e9ead4"
      },
      "execution_count": 44,
      "outputs": [
        {
          "output_type": "stream",
          "name": "stdout",
          "text": [
            "-14.0 -28.0 14.000000000000004\n"
          ]
        }
      ]
    },
    {
      "cell_type": "code",
      "source": [
        "if (detA!=0):\n",
        "  x1=detA1/detA\n",
        "  x2=detA2/detA\n",
        "  print(\"Hai nghiệm của phương trình là: \",x1,x2)"
      ],
      "metadata": {
        "colab": {
          "base_uri": "https://localhost:8080/"
        },
        "id": "0-3SAZKhqeQd",
        "outputId": "ea8a9965-83a5-4f1f-e8f9-0222052fa7ef"
      },
      "execution_count": 45,
      "outputs": [
        {
          "output_type": "stream",
          "name": "stdout",
          "text": [
            "Hai nghiệm của phương trình là:  2.0 -1.0000000000000002\n"
          ]
        }
      ]
    },
    {
      "cell_type": "code",
      "source": [
        "def tinhtoan_dinhthuc(A,A1,A2):\n",
        "    from scipy import linalg\n",
        "    detA=linalg.det(A)\n",
        "    detA1=linalg.det(A1)\n",
        "    detA2=linalg.det(A2)\n",
        "    return detA,detA1,detA2\n",
        "A=np.array([[4,-2],[3,-5]])\n",
        "A1=np.array([[10,-2],[11,-5]])\n",
        "A2=np.array([[4,10],[3,11]])\n",
        "detA,detA1,detA2=tinhtoan_dinhthuc(A, A1, A2)\n",
        "print(\"detA=\",detA)\n",
        "print(\"detA1=\",detA1)\n",
        "print(\"detA2=\",detA2)"
      ],
      "metadata": {
        "colab": {
          "base_uri": "https://localhost:8080/"
        },
        "id": "D59GLC7Yq6YI",
        "outputId": "e765fd51-59ca-4768-e92c-8d5c893c51a7"
      },
      "execution_count": 46,
      "outputs": [
        {
          "output_type": "stream",
          "name": "stdout",
          "text": [
            "detA= -14.0\n",
            "detA1= -28.0\n",
            "detA2= 14.000000000000004\n"
          ]
        }
      ]
    },
    {
      "cell_type": "markdown",
      "source": [
        "- Hệ ba phương trình tuyến tính bậc 1:"
      ],
      "metadata": {
        "id": "m9f9INxGrQly"
      }
    },
    {
      "cell_type": "code",
      "source": [
        "import numpy as np\n",
        "from scipy.linalg import det\n",
        "A=np.array([[-1,2,-3],[2,-2,1],[3,-4,4]])\n",
        "B=np.array([1, 3, 2])\n",
        "def tinhtoan_dinhthuc(M):\n",
        "    if M.shape==(2,2):\n",
        "        return M[0,0]*M[1,1]-M[0,1]*M[1,0]\n",
        "    return sum(((-1)**i)*M[0,i]*tinhtoan_dinhthuc(np.delete(np.delete(M,0,0),i,1))for i in range(M.shape[1]))\n",
        "def giai_cramer(det_func,label):\n",
        "    d=det_func(A)\n",
        "    if d==0:\n",
        "        print(f\"{label}: det(A)=0 nên hệ không giải được bằng Cramer\")\n",
        "        return\n",
        "    dX=det_func(np.column_stack((B,A[:,1],A[:,2])))\n",
        "    dY=det_func(np.column_stack((A[:,0],B,A[:,2])))\n",
        "    dZ=det_func(np.column_stack((A[:,0],A[:,1],B)))\n",
        "    x,y,z=dX/d,dY/d,dZ/d\n",
        "    print(f\"{label}: x={x}, y={y}, z={z}\")\n",
        "giai_cramer(det,\"Phương pháp scipy\")\n",
        "giai_cramer(tinhtoan_dinhthuc,\"Phương pháp viết tay\")\n",
        "print(\"Kiểm tra bằng numpy.linalg.solve:\")\n",
        "try:\n",
        "    sol=np.linalg.solve(A,B)\n",
        "    print(\"Nghiệm duy nhất:\",sol)\n",
        "except np.linalg.LinAlgError:\n",
        "    print(\"Hệ vô nghiệm hoặc vô số nghiệm\")"
      ],
      "metadata": {
        "colab": {
          "base_uri": "https://localhost:8080/"
        },
        "id": "eJAlHGsa62tF",
        "outputId": "9114656a-1749-40cc-e06e-c84dc5d1b573"
      },
      "execution_count": 47,
      "outputs": [
        {
          "output_type": "stream",
          "name": "stdout",
          "text": [
            "Phương pháp scipy: det(A)=0 nên hệ không giải được bằng Cramer\n",
            "Phương pháp viết tay: det(A)=0 nên hệ không giải được bằng Cramer\n",
            "Kiểm tra bằng numpy.linalg.solve:\n",
            "Nghiệm duy nhất: [ 1.   -1.25 -1.5 ]\n"
          ]
        }
      ]
    },
    {
      "cell_type": "markdown",
      "source": [
        "4. Bài toán ứng dụng 1: Tính diện tích đa giác, thể tích và các phương trình đường, mặt."
      ],
      "metadata": {
        "id": "pC5LGm7X8Xy-"
      }
    },
    {
      "cell_type": "code",
      "source": [
        "import sympy as sp\n",
        "#tính diện tích tam giác (trong mặt phẳng 2D)\n",
        "def tinh_dien_tich_tam_giac(A,B,C):\n",
        "    ma_tran=sp.Matrix([[A[0],A[1],1],[B[0],B[1],1],[C[0],C[1],1]])\n",
        "    return sp.Rational(1,2)*abs(ma_tran.det())\n",
        "#tính thể tích hình chóp (trong không gian 3D)\n",
        "def tinh_the_tich_chop(A,B,C,D):\n",
        "    ma_tran=sp.Matrix([[*A,1],[*B,1],[*C,1],[*D,1]])\n",
        "    return abs(ma_tran.det())/6\n",
        "#kiểm tra 4 điểm có đồng phẳng hay không (3D)\n",
        "def kiem_tra_dong_phang(A,B,C,D):\n",
        "    ma_tran=sp.Matrix([[*A,1],[*B,1],[*C,1],[*D,1]])\n",
        "    return ma_tran.det()==0\n",
        "#phương trình mặt phẳng đi qua 3 điểm (-1, 3, 2), (0, 1, 0), (-2, 0, 1).\n",
        "def phuong_trinh_mat_phang(A, B, C):\n",
        "    x,y,z=sp.symbols('x y z')\n",
        "    ma_tran=sp.Matrix([[x,y,z,1],[*A,1],[*B,1],[*C,1]])\n",
        "    return sp.simplify(ma_tran.det())\n",
        "if __name__ == \"__main__\":\n",
        "    print(\"1. Diện tích tam giác:\",tinh_dien_tich_tam_giac((1,1),(4,1),(4,5)))\n",
        "    print(\"2. Thể tích hình chóp:\",tinh_the_tich_chop((0,0,0),(1,0,0),(0,1,0),(0,0,1)))\n",
        "    print(\"3. Kiểm tra đồng phẳng:\",kiem_tra_dong_phang((1,2,3),(2,3,4),(3,4,5),(4,5,6)))\n",
        "    print(\"4. Phương trình mặt phẳng:\",phuong_trinh_mat_phang((-1,3,2),(0,1,0),(-2,0,1)),\"= 0\")"
      ],
      "metadata": {
        "colab": {
          "base_uri": "https://localhost:8080/"
        },
        "id": "akdGYk9vCFDK",
        "outputId": "722ae282-6ffa-49c5-c9b0-a920060cdfca"
      },
      "execution_count": 53,
      "outputs": [
        {
          "output_type": "stream",
          "name": "stdout",
          "text": [
            "1. Diện tích tam giác: 6\n",
            "2. Thể tích hình chóp: 1/6\n",
            "3. Kiểm tra đồng phẳng: True\n",
            "4. Phương trình mặt phẳng: -4*x + 3*y - 5*z - 3 = 0\n"
          ]
        }
      ]
    },
    {
      "cell_type": "markdown",
      "source": [
        "5. Bài toán ứng dụng 3: Tính quỹ đạo của hành tinh/vệ tinh"
      ],
      "metadata": {
        "id": "tLlZgJ6nHUZS"
      }
    },
    {
      "cell_type": "code",
      "source": [
        "import sympy as sp\n",
        "def ellipse_qua_5_diem(danh_sach_diem):\n",
        "    x,y=sp.symbols('x y')\n",
        "    a,b,c,d,e,f=sp.symbols('a b c d e f')\n",
        "    he_phuong_trinh=[]\n",
        "    for x0,y0 in danh_sach_diem:\n",
        "        pt=a*x0**2+b*x0*y0+c*y0**2+d*x0+e*y0+1  #thay f = 1\n",
        "        he_phuong_trinh.append(pt)\n",
        "    an=[a,b,c,d,e]\n",
        "    nghiem=sp.solve(he_phuong_trinh, an)\n",
        "    if nghiem:\n",
        "        phuong_trinh=a*x**2 +b*x*y+c*y**2+d*x+e*y+1\n",
        "        return sp.simplify(phuong_trinh.subs(nghiem))\n",
        "    else:\n",
        "        return \"Không tìm được ellipse đi qua 5 điểm này\"\n",
        "if __name__ == \"__main__\":\n",
        "    diem=[(1,1),(2,4),(3,3),(4,2),(5,5)]\n",
        "    ket_qua=ellipse_qua_5_diem(diem)\n",
        "    print(\"Phương trình ellipse đi qua 5 điểm là:\")\n",
        "    sp.pprint(ket_qua)"
      ],
      "metadata": {
        "colab": {
          "base_uri": "https://localhost:8080/"
        },
        "id": "mvkUnHXwHC6W",
        "outputId": "cfc01ba6-db3f-48ee-87b0-28dfa628ed86"
      },
      "execution_count": 55,
      "outputs": [
        {
          "output_type": "stream",
          "name": "stdout",
          "text": [
            "Phương trình ellipse đi qua 5 điểm là:\n",
            "Không tìm được ellipse đi qua 5 điểm này\n"
          ]
        }
      ]
    },
    {
      "cell_type": "markdown",
      "source": [
        "BÀI TẬP CHƯƠNG 4"
      ],
      "metadata": {
        "id": "a2zGEgyyHXk8"
      }
    },
    {
      "cell_type": "markdown",
      "source": [
        "- Câu 1"
      ],
      "metadata": {
        "id": "Il8UexmtHbyf"
      }
    },
    {
      "cell_type": "code",
      "source": [
        "import sympy as sp\n",
        "A=sp.Matrix([[2,5,3],[1,-2,0],[4,1,-1]])\n",
        "he_so_kep = A.cofactor_matrix()\n",
        "print(\"Ma trận hệ số kẹp:\")\n",
        "sp.pprint(he_so_kep)\n",
        "lien_hop = A.adjugate()\n",
        "print(\"\\nMa trận liên hợp:\")\n",
        "sp.pprint(lien_hop)"
      ],
      "metadata": {
        "colab": {
          "base_uri": "https://localhost:8080/"
        },
        "id": "zmodFkfjHhzs",
        "outputId": "bd859263-81a1-434f-d72f-622f729647aa"
      },
      "execution_count": 50,
      "outputs": [
        {
          "output_type": "stream",
          "name": "stdout",
          "text": [
            "Ma trận hệ số kẹp (cofactor):\n",
            "⎡2   1   9 ⎤\n",
            "⎢          ⎥\n",
            "⎢8  -14  18⎥\n",
            "⎢          ⎥\n",
            "⎣6   3   -9⎦\n",
            "\n",
            "Ma trận liên hợp (adjoint):\n",
            "⎡2   8   6 ⎤\n",
            "⎢          ⎥\n",
            "⎢1  -14  3 ⎥\n",
            "⎢          ⎥\n",
            "⎣9  18   -9⎦\n"
          ]
        }
      ]
    },
    {
      "cell_type": "markdown",
      "source": [
        "- Câu 2"
      ],
      "metadata": {
        "id": "pMqoh-8bHfMD"
      }
    },
    {
      "cell_type": "code",
      "source": [
        "import sympy as sp\n",
        "x,y=sp.symbols('x y')\n",
        "A=(2,3)\n",
        "B=(6,5)\n",
        "C=(5,1)\n",
        "#tạo ma trận định thức 4x4\n",
        "ma_tran = sp.Matrix([[x**2+y**2,x,y,1],[A[0]**2 +A[1]**2,A[0],A[1],1],[B[0]**2+B[1]**2,B[0],B[1],1],[C[0]**2+C[1]**2,C[0],C[1],1]])\n",
        "#tính định thức\n",
        "phuong_trinh=ma_tran.det()\n",
        "phuong_trinh=sp.simplify(phuong_trinh)\n",
        "print(\"Phương trình đường tròn qua 3 điểm:\")\n",
        "sp.pprint(phuong_trinh)\n",
        "print(\"\\nViết lại dưới dạng phương trình = 0:\")\n",
        "print(\"f(x,y)=0 với:\")\n",
        "sp.pprint(phuong_trinh)"
      ],
      "metadata": {
        "colab": {
          "base_uri": "https://localhost:8080/"
        },
        "id": "_dLZIoTIHiGF",
        "outputId": "e7aba7f1-fb6c-43cd-9df2-059318e07cd0"
      },
      "execution_count": 56,
      "outputs": [
        {
          "output_type": "stream",
          "name": "stdout",
          "text": [
            "Phương trình đường tròn qua 3 điểm:\n",
            "      2               2             \n",
            "- 14⋅x  + 122⋅x - 14⋅y  + 92⋅y - 338\n",
            "\n",
            "Viết lại dưới dạng phương trình = 0:\n",
            "f(x,y)=0 với:\n",
            "      2               2             \n",
            "- 14⋅x  + 122⋅x - 14⋅y  + 92⋅y - 338\n"
          ]
        }
      ]
    }
  ]
}