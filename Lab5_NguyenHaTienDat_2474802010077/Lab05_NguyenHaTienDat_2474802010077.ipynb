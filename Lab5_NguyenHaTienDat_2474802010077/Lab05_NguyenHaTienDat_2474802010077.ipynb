{
  "nbformat": 4,
  "nbformat_minor": 0,
  "metadata": {
    "colab": {
      "provenance": []
    },
    "kernelspec": {
      "name": "python3",
      "display_name": "Python 3"
    },
    "language_info": {
      "name": "python"
    }
  },
  "cells": [
    {
      "cell_type": "markdown",
      "source": [
        "CHƯƠNG 5: ĐỊNH THỨC, MA TRẬN VÀ ỨNG DỤNG\n"
      ],
      "metadata": {
        "id": "EfHfyJvzVjZG"
      }
    },
    {
      "cell_type": "markdown",
      "source": [
        "1. Sử dụng array và matrix trong numpy"
      ],
      "metadata": {
        "id": "dVJDyDLzVqqr"
      }
    },
    {
      "cell_type": "markdown",
      "source": [
        "1.1. Thông tin tóm gọn"
      ],
      "metadata": {
        "id": "nLySAQZxVvbk"
      }
    },
    {
      "cell_type": "code",
      "execution_count": 25,
      "metadata": {
        "id": "mUj7fUb0T1QL"
      },
      "outputs": [],
      "source": [
        "import numpy as np\n",
        "D=np.array([[1,2],[3,4]])\n",
        "np.copyto(E,D)"
      ]
    },
    {
      "cell_type": "markdown",
      "source": [
        "* Lỗi NameError: name 'E' is not defined. Vì mảng E chưa được khởi tạo trước khi gọi np.copyto"
      ],
      "metadata": {
        "id": "sGo7xImh3mxY"
      }
    },
    {
      "cell_type": "code",
      "source": [
        "E=np.array([[1, 2], [3, 5]])\n",
        "np.copyto(E, D)\n",
        "print(E)"
      ],
      "metadata": {
        "colab": {
          "base_uri": "https://localhost:8080/"
        },
        "id": "Vza1qzjf3xFh",
        "outputId": "e9c99bd7-dc77-4823-fe1b-3f2e13d85fc2"
      },
      "execution_count": 26,
      "outputs": [
        {
          "output_type": "stream",
          "name": "stdout",
          "text": [
            "[[1 2]\n",
            " [3 4]]\n"
          ]
        }
      ]
    },
    {
      "cell_type": "markdown",
      "source": [
        "1.2.\n",
        "Nên và không nên sử dụng kiểu dữ liệu numpy.matrix"
      ],
      "metadata": {
        "id": "BjDaRHKw4Svp"
      }
    },
    {
      "cell_type": "code",
      "source": [
        "x=np.array([['a','b'],['c','d']])\n",
        "y='x'\n",
        "C=np.matrix([[x,y],[1, 2]] )\n",
        "print(C)\n",
        "#Không thể sử dụng kiểu numpy.matrix"
      ],
      "metadata": {
        "id": "wUcwcA1k4VDO"
      },
      "execution_count": null,
      "outputs": []
    },
    {
      "cell_type": "code",
      "source": [
        "#Thay np.matrix thành np.array\n",
        "x=np.array([['a','b'],['c','d']])\n",
        "y='x'\n",
        "C=np.array([[x, y], [1, 2]], dtype=object)\n",
        "print(C)"
      ],
      "metadata": {
        "colab": {
          "base_uri": "https://localhost:8080/"
        },
        "id": "t7hk-LYi8Z-y",
        "outputId": "f358ec59-2177-4692-c172-f4371cbf3be8"
      },
      "execution_count": 32,
      "outputs": [
        {
          "output_type": "stream",
          "name": "stdout",
          "text": [
            "[[array([['a', 'b'],\n",
            "         ['c', 'd']], dtype='<U1') 'x']\n",
            " [1 2]]\n"
          ]
        }
      ]
    },
    {
      "cell_type": "code",
      "source": [
        "A=np.matrix([[[1,2],[3,4]],[[5,6],[7,8]]])"
      ],
      "metadata": {
        "id": "vbiynI5h6xmD"
      },
      "execution_count": null,
      "outputs": []
    },
    {
      "cell_type": "markdown",
      "source": [
        "ValueError: matrix must be 2-dimensional"
      ],
      "metadata": {
        "id": "_JrbLlin6_nf"
      }
    },
    {
      "cell_type": "code",
      "source": [
        "A=np.array([[[1,2],[3,4]],[[5,6],[7,8]]])\n",
        "print(A)"
      ],
      "metadata": {
        "colab": {
          "base_uri": "https://localhost:8080/"
        },
        "id": "4h55RUiS7FKN",
        "outputId": "ae0171c8-3480-4b91-88a7-2e6b507eb9d0"
      },
      "execution_count": 29,
      "outputs": [
        {
          "output_type": "stream",
          "name": "stdout",
          "text": [
            "[[[1 2]\n",
            "  [3 4]]\n",
            "\n",
            " [[5 6]\n",
            "  [7 8]]]\n"
          ]
        }
      ]
    },
    {
      "cell_type": "markdown",
      "source": [
        "1.3.\n",
        "Đối tượng matrix từ các hàm trong gói numpy.matlib"
      ],
      "metadata": {
        "id": "JwnWR1537Ta_"
      }
    },
    {
      "cell_type": "code",
      "source": [
        "from numpy import matlib\n",
        "G=matlib.identity(5)\n",
        "print(G)"
      ],
      "metadata": {
        "colab": {
          "base_uri": "https://localhost:8080/"
        },
        "id": "dqC1Jl2B7UBO",
        "outputId": "d3b3559d-66a5-494f-93e2-32c2672d6b54"
      },
      "execution_count": 30,
      "outputs": [
        {
          "output_type": "stream",
          "name": "stdout",
          "text": [
            "[[1. 0. 0. 0. 0.]\n",
            " [0. 1. 0. 0. 0.]\n",
            " [0. 0. 1. 0. 0.]\n",
            " [0. 0. 0. 1. 0.]\n",
            " [0. 0. 0. 0. 1.]]\n"
          ]
        }
      ]
    },
    {
      "cell_type": "code",
      "source": [
        "H=matlib.randn(3,2)\n",
        "print(H)"
      ],
      "metadata": {
        "colab": {
          "base_uri": "https://localhost:8080/"
        },
        "id": "4jh5kDJF7j8r",
        "outputId": "6a6c6d0a-13ac-4965-89b2-3f7813e3aece"
      },
      "execution_count": 31,
      "outputs": [
        {
          "output_type": "stream",
          "name": "stdout",
          "text": [
            "[[ 1.6072307   1.11540162]\n",
            " [ 1.77011063  0.1840996 ]\n",
            " [-1.72474618 -0.58452671]]\n"
          ]
        }
      ]
    },
    {
      "cell_type": "code",
      "source": [
        "K=matlib.zeros([4,4])\n",
        "print(K)"
      ],
      "metadata": {
        "colab": {
          "base_uri": "https://localhost:8080/"
        },
        "id": "Qo6D1Jl47pr_",
        "outputId": "93f5bfe1-4dc5-40b5-f227-210b33365833"
      },
      "execution_count": 33,
      "outputs": [
        {
          "output_type": "stream",
          "name": "stdout",
          "text": [
            "[[0. 0. 0. 0.]\n",
            " [0. 0. 0. 0.]\n",
            " [0. 0. 0. 0.]\n",
            " [0. 0. 0. 0.]]\n"
          ]
        }
      ]
    },
    {
      "cell_type": "markdown",
      "source": [
        "2. Ứng dụng 2 –Liên phân số và số  π"
      ],
      "metadata": {
        "id": "-2l14VOb87mF"
      }
    },
    {
      "cell_type": "markdown",
      "source": [
        "2.1. Liên phân số"
      ],
      "metadata": {
        "id": "7Lzq_db39P62"
      }
    },
    {
      "cell_type": "markdown",
      "source": [
        "2.2. Liên phân số biểu diễn số π"
      ],
      "metadata": {
        "id": "H30zcQaa9RnP"
      }
    },
    {
      "cell_type": "code",
      "source": [
        "import numpy as np\n",
        "c=[3,7,15,1,292,1,1,1,2,1,3,1,14,2]\n",
        "#Lỗi ko dùng np.mat thì numpy 2.0 nên đổi thành np.asmatrix\n",
        "M=np.asmatrix([[1,2],[3,4]])  #khởi tạo ma trận 2x2\n",
        "for i in range(len(c)):\n",
        "  ci=np.asmatrix([[1,1],[1,0]])\n",
        "  ci[0,0]=c[i]\n",
        "  if (i==0):\n",
        "    M=ci\n",
        "  else:\n",
        "    M=M.dot(ci)\n",
        "print(M)\n",
        "print (M[0,0]/M[1,0])  #in số Pi theo dãy số  biểu diễn liên phân số"
      ],
      "metadata": {
        "colab": {
          "base_uri": "https://localhost:8080/"
        },
        "id": "KJ1PXeU39Llf",
        "outputId": "f0c219b9-e2e1-47e4-e2ce-c2781c56ba6c"
      },
      "execution_count": 38,
      "outputs": [
        {
          "output_type": "stream",
          "name": "stdout",
          "text": [
            "[[165707065  80143857]\n",
            " [ 52746197  25510582]]\n",
            "3.1415926535897936\n"
          ]
        }
      ]
    },
    {
      "cell_type": "markdown",
      "source": [
        "3. Về phân tích hồi quy tuyến tính"
      ],
      "metadata": {
        "id": "CAppXeZW_N8V"
      }
    },
    {
      "cell_type": "markdown",
      "source": [
        "3.1.\n",
        "Dẫn nhập: khái niệm về sai số"
      ],
      "metadata": {
        "id": "sxxC4GGJ_Osr"
      }
    },
    {
      "cell_type": "markdown",
      "source": [
        "3.2. Phương pháp bình phương cực tiểu (mô hình tuyến tính)"
      ],
      "metadata": {
        "id": "bG4EN4PZ_QWz"
      }
    },
    {
      "cell_type": "code",
      "source": [
        "import numpy as np\n",
        "X=np.array([[1,1],[1,2],[1,3],[1,4],[1,5]])\n",
        "Y=np.array([[1],[2],[4],[4],[6]])\n",
        "#Tính chuyển vị X^T\n",
        "XT=X.T\n",
        "#Tính các giá trị trung gian A1 và A2\n",
        "A1=np.linalg.inv(XT.dot(X))   #[(X^T)*X]^(-1)\n",
        "A2=XT.dot(Y)                  #(X^T)*Y\n",
        "#Tính nghiệm A của hệ (a0, a1)\n",
        "A=A1.dot(A2)\n",
        "#In phương trình hồi quy gần đúng\n",
        "print(\"Phương trình gần đúng là: y = {:.3f} + {:.3f}x\".format(A[0,0], A[1,0]))\n",
        "#Tính sai số tổng bình phương\n",
        "Y_du_doan = X.dot(A)\n",
        "sai_so = Y - Y_du_doan\n",
        "tong_sai_so_binh_phuong = np.sum(sai_so ** 2)\n",
        "print(\"Tổng bình phương sai số:\", tong_sai_so_binh_phuong)"
      ],
      "metadata": {
        "colab": {
          "base_uri": "https://localhost:8080/"
        },
        "id": "3aCAUnuSAS0Z",
        "outputId": "08f37f62-1a59-4973-9528-80dc17d98917"
      },
      "execution_count": 40,
      "outputs": [
        {
          "output_type": "stream",
          "name": "stdout",
          "text": [
            "Phương trình gần đúng là: y = -0.200 + 1.200x\n",
            "Tổng bình phương sai số: 0.8000000000000003\n"
          ]
        }
      ]
    },
    {
      "cell_type": "markdown",
      "source": [
        "BÀI TẬP CHƯƠNG 05\n"
      ],
      "metadata": {
        "id": "KP2UNaRJE1lv"
      }
    },
    {
      "cell_type": "code",
      "source": [
        "import numpy as np\n",
        "def bpcuctieu(a):\n",
        "    b=[]\n",
        "    o1=[]\n",
        "    for i in range(len(a)):\n",
        "        o1.append(1.0)\n",
        "        #b.append(i*1.0) (x=0,1,2,3,4. Kết quả ra y=10.2-1.9x)\n",
        "        b.append((i+1)*1.0) #x=1,2,3,4,5. Kết quả ra y=12.1-1.9x\n",
        "    x=np.array([o1,b]) #tạo ma trận 2 hàng, 5 cột\n",
        "    u=np.dot(x,x.T) #nhân theo chiều ngược lại: x x^T\n",
        "    y=np.array(a)\n",
        "    from numpy import linalg\n",
        "    u_1=np.linalg.inv(u)\n",
        "    v=np.dot(u_1,x)\n",
        "    A=np.dot(v,y)\n",
        "    return A\n",
        "dulieu=[10.0,8,7,5,2]\n",
        "A=bpcuctieu(dulieu)\n",
        "print(\"Phương trình: y={:.1f}+{:.1f}x\".format(A[0],A[1]))"
      ],
      "metadata": {
        "colab": {
          "base_uri": "https://localhost:8080/"
        },
        "id": "jhe0O2g4BGpF",
        "outputId": "50fa5e3c-f57c-4125-ac7a-d14cf0136b86"
      },
      "execution_count": 47,
      "outputs": [
        {
          "output_type": "stream",
          "name": "stdout",
          "text": [
            "Phương trình: y=12.1+-1.9x\n"
          ]
        }
      ]
    }
  ]
}