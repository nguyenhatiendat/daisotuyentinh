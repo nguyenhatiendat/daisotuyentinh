{
  "nbformat": 4,
  "nbformat_minor": 0,
  "metadata": {
    "colab": {
      "provenance": []
    },
    "kernelspec": {
      "name": "python3",
      "display_name": "Python 3"
    },
    "language_info": {
      "name": "python"
    }
  },
  "cells": [
    {
      "cell_type": "markdown",
      "source": [
        "CHƯƠNG 6: CÁC KHÁI NIỆM: KHÔNG GIAN VECTOR,\n",
        "TÍCH TRONG VÀ TRỊ RIÊNG, VECTOR RIÊNG"
      ],
      "metadata": {
        "id": "a3xl50QmeAuC"
      }
    },
    {
      "cell_type": "markdown",
      "source": [
        "1. Khái niệm về không gian vector và tích trong:"
      ],
      "metadata": {
        "id": "GEYCSODReELI"
      }
    },
    {
      "cell_type": "markdown",
      "source": [
        "1.1. Tóm tắt lý thuyết"
      ],
      "metadata": {
        "id": "xzIgI8oqeLSA"
      }
    },
    {
      "cell_type": "markdown",
      "source": [
        "1.2. Tích vô hướng, trực giao và ứng dụng"
      ],
      "metadata": {
        "id": "4_vmqWaOeQjg"
      }
    },
    {
      "cell_type": "code",
      "execution_count": 1,
      "metadata": {
        "colab": {
          "base_uri": "https://localhost:8080/"
        },
        "id": "E5dVmbO_d3pn",
        "outputId": "bc21826a-3ef1-43b1-965c-4199f7169b4c"
      },
      "outputs": [
        {
          "output_type": "stream",
          "name": "stdout",
          "text": [
            "32\n"
          ]
        }
      ],
      "source": [
        "import numpy as np\n",
        "a=np.array([1,2,3])\n",
        "b=np.array([4,5,6])\n",
        "tich=np.inner(a,b) #tích vô hướng\n",
        "print(tich)"
      ]
    },
    {
      "cell_type": "code",
      "source": [
        "tich1=np.dot(a,b)\n",
        "print(tich1)\n",
        "#kết quả giống như np.inner(a,b)"
      ],
      "metadata": {
        "colab": {
          "base_uri": "https://localhost:8080/"
        },
        "id": "znUZBmqqfAML",
        "outputId": "cf23f43a-405f-42d2-a598-c4cff038638e"
      },
      "execution_count": 2,
      "outputs": [
        {
          "output_type": "stream",
          "name": "stdout",
          "text": [
            "32\n"
          ]
        }
      ]
    },
    {
      "cell_type": "code",
      "source": [
        "import numpy as np\n",
        "a=np.array([1,2,-3])\n",
        "chuan2=np.linalg.norm(a)\n",
        "print(chuan2)"
      ],
      "metadata": {
        "colab": {
          "base_uri": "https://localhost:8080/"
        },
        "id": "86Bnf61YfQuh",
        "outputId": "fd67b641-c7ef-44ad-e32f-1933b70aac16"
      },
      "execution_count": 3,
      "outputs": [
        {
          "output_type": "stream",
          "name": "stdout",
          "text": [
            "3.7416573867739413\n"
          ]
        }
      ]
    },
    {
      "cell_type": "code",
      "source": [
        "a=np.array([1,2,-3])\n",
        "chuan1=np.linalg.norm(a,1)\n",
        "print(chuan1)"
      ],
      "metadata": {
        "colab": {
          "base_uri": "https://localhost:8080/"
        },
        "id": "NYJsmbMeft6R",
        "outputId": "81c759f4-24c2-441c-a188-85e740a5301a"
      },
      "execution_count": 4,
      "outputs": [
        {
          "output_type": "stream",
          "name": "stdout",
          "text": [
            "6.0\n"
          ]
        }
      ]
    },
    {
      "cell_type": "code",
      "source": [
        "\n",
        "import math\n",
        "import numpy as np\n",
        "def chuan(a,p):\n",
        "    return np.sum(np.abs(a)**p)**(1/p)\n",
        "a=np.array([1,2,-3])\n",
        "print(chuan(a,1))"
      ],
      "metadata": {
        "colab": {
          "base_uri": "https://localhost:8080/"
        },
        "id": "RtpHrCvXggjA",
        "outputId": "d311eb19-2615-4f2b-e1bc-17927dc69c69"
      },
      "execution_count": 5,
      "outputs": [
        {
          "output_type": "stream",
          "name": "stdout",
          "text": [
            "6.0\n"
          ]
        }
      ]
    },
    {
      "cell_type": "code",
      "source": [
        "print( np.linalg.norm(a,1))"
      ],
      "metadata": {
        "colab": {
          "base_uri": "https://localhost:8080/"
        },
        "id": "NyNuPG7PhimS",
        "outputId": "ae582ce1-ad2c-4030-dccb-0b1d67c66df7"
      },
      "execution_count": 6,
      "outputs": [
        {
          "output_type": "stream",
          "name": "stdout",
          "text": [
            "6.0\n"
          ]
        }
      ]
    },
    {
      "cell_type": "code",
      "source": [
        "print(chuan(a,2))"
      ],
      "metadata": {
        "colab": {
          "base_uri": "https://localhost:8080/"
        },
        "id": "f9USbrpRhqzy",
        "outputId": "65c8cd04-8e07-4ae7-d67e-af92e9adf13e"
      },
      "execution_count": 7,
      "outputs": [
        {
          "output_type": "stream",
          "name": "stdout",
          "text": [
            "3.7416573867739413\n"
          ]
        }
      ]
    },
    {
      "cell_type": "code",
      "source": [
        "print(np.linalg.norm(a,2))"
      ],
      "metadata": {
        "colab": {
          "base_uri": "https://localhost:8080/"
        },
        "id": "wQSrr4DqhxFL",
        "outputId": "d3801130-eaa6-4405-ca22-ead4441a5e80"
      },
      "execution_count": 8,
      "outputs": [
        {
          "output_type": "stream",
          "name": "stdout",
          "text": [
            "3.7416573867739413\n"
          ]
        }
      ]
    },
    {
      "cell_type": "code",
      "source": [
        "print(chuan(a,3))"
      ],
      "metadata": {
        "colab": {
          "base_uri": "https://localhost:8080/"
        },
        "id": "oCwCeAZ7h4eT",
        "outputId": "b98efff0-8a16-4cc6-95d3-a8e33c73664c"
      },
      "execution_count": 9,
      "outputs": [
        {
          "output_type": "stream",
          "name": "stdout",
          "text": [
            "3.3019272488946263\n"
          ]
        }
      ]
    },
    {
      "cell_type": "code",
      "source": [
        "print(np.linalg.norm(a,3))"
      ],
      "metadata": {
        "colab": {
          "base_uri": "https://localhost:8080/"
        },
        "id": "PEU1-Ok1h92i",
        "outputId": "dfd7e0e7-e432-4b81-f0e0-e16fc02e5cf5"
      },
      "execution_count": 10,
      "outputs": [
        {
          "output_type": "stream",
          "name": "stdout",
          "text": [
            "3.3019272488946263\n"
          ]
        }
      ]
    },
    {
      "cell_type": "code",
      "source": [
        "print(chuan(a,1000))"
      ],
      "metadata": {
        "colab": {
          "base_uri": "https://localhost:8080/"
        },
        "id": "R6UnG189jite",
        "outputId": "1916e04f-4cc2-44c9-e1ba-8d23a06a0a0c"
      },
      "execution_count": 11,
      "outputs": [
        {
          "output_type": "stream",
          "name": "stdout",
          "text": [
            "1.0442214818467515\n"
          ]
        }
      ]
    },
    {
      "cell_type": "code",
      "source": [
        "print(np.linalg.norm(a,1000))"
      ],
      "metadata": {
        "colab": {
          "base_uri": "https://localhost:8080/"
        },
        "id": "zQsJHjYoxfeD",
        "outputId": "709154eb-d9eb-49b5-f03b-d00d72352e52"
      },
      "execution_count": 13,
      "outputs": [
        {
          "output_type": "stream",
          "name": "stdout",
          "text": [
            "inf\n"
          ]
        }
      ]
    },
    {
      "cell_type": "markdown",
      "source": [
        "- Gói scipy.linalg cũng có hàm norm và sử dụng như numpy.linalg.norm"
      ],
      "metadata": {
        "id": "NW-_aA0fyxzF"
      }
    },
    {
      "cell_type": "code",
      "source": [
        " from scipy import linalg\n",
        " print(linalg.norm(a))"
      ],
      "metadata": {
        "colab": {
          "base_uri": "https://localhost:8080/"
        },
        "id": "fPDXdODXy2f_",
        "outputId": "5de17e53-9df1-491d-f161-b26652ed7a86"
      },
      "execution_count": 14,
      "outputs": [
        {
          "output_type": "stream",
          "name": "stdout",
          "text": [
            "3.7416573867739413\n"
          ]
        }
      ]
    },
    {
      "cell_type": "code",
      "source": [
        "print(linalg.norm(a,100))"
      ],
      "metadata": {
        "colab": {
          "base_uri": "https://localhost:8080/"
        },
        "id": "0Uu40svZzGAt",
        "outputId": "d406100a-ac7a-419c-daea-2ef707e3d6c2"
      },
      "execution_count": 15,
      "outputs": [
        {
          "output_type": "stream",
          "name": "stdout",
          "text": [
            "3.0\n"
          ]
        }
      ]
    },
    {
      "cell_type": "code",
      "source": [
        "print(linalg.norm(a,1000))"
      ],
      "metadata": {
        "colab": {
          "base_uri": "https://localhost:8080/"
        },
        "id": "nY4nZWshzJ9-",
        "outputId": "f04d846b-b5e5-4046-c771-f915c1c51010"
      },
      "execution_count": 17,
      "outputs": [
        {
          "output_type": "stream",
          "name": "stdout",
          "text": [
            "inf\n"
          ]
        }
      ]
    },
    {
      "cell_type": "markdown",
      "source": [
        "2. Đọc thêm: Tổ hợp tuyến tính"
      ],
      "metadata": {
        "id": "ubYpavSl06eA"
      }
    },
    {
      "cell_type": "markdown",
      "source": [
        "- Tổ hợp tuyến tính (linear combination)"
      ],
      "metadata": {
        "id": "SvraLawM09Sc"
      }
    },
    {
      "cell_type": "markdown",
      "source": [
        "- Bài toán Thiết kế ô tô hoặc chất hàng vào container/tàu thủy"
      ],
      "metadata": {
        "id": "ReaGN1l-1yWs"
      }
    },
    {
      "cell_type": "code",
      "source": [
        "import numpy as np\n",
        "m=10\n",
        "v1=np.array([5,-4,3])\n",
        "v2=np.array([4,3,-2])\n",
        "v3=np.array([-4,-3,-1])\n",
        "v4=np.array([-9,8,6])\n",
        "mi=np.array([2,5,2,1])\n",
        "M=np.array([v1,v2,v3,v4])\n",
        "MT=M.transpose()\n",
        "MT"
      ],
      "metadata": {
        "colab": {
          "base_uri": "https://localhost:8080/"
        },
        "id": "7pYQ4reD11b3",
        "outputId": "22639397-9ae7-4fcf-f37b-741f72b15b6a"
      },
      "execution_count": 18,
      "outputs": [
        {
          "output_type": "execute_result",
          "data": {
            "text/plain": [
              "array([[ 5,  4, -4, -9],\n",
              "       [-4,  3, -3,  8],\n",
              "       [ 3, -2, -1,  6]])"
            ]
          },
          "metadata": {},
          "execution_count": 18
        }
      ]
    },
    {
      "cell_type": "code",
      "source": [
        "v=(1.0/m)*MT.dot(mi)\n",
        "print(v)"
      ],
      "metadata": {
        "colab": {
          "base_uri": "https://localhost:8080/"
        },
        "id": "oQob0R7X196Z",
        "outputId": "30a1f324-03cc-45dc-f416-cf208532f7bd"
      },
      "execution_count": 20,
      "outputs": [
        {
          "output_type": "stream",
          "name": "stdout",
          "text": [
            "[1.3 0.9 0. ]\n"
          ]
        }
      ]
    },
    {
      "cell_type": "markdown",
      "source": [
        "3. Tri riêng, vector riêng của ma trận và ứng dụng"
      ],
      "metadata": {
        "id": "qtLk0YKX2JzP"
      }
    },
    {
      "cell_type": "markdown",
      "source": [
        "3.1.Bài toán dẫn nhập"
      ],
      "metadata": {
        "id": "JWSCuUqo2KYy"
      }
    },
    {
      "cell_type": "code",
      "source": [
        "import numpy as np\n",
        "#Khai báo ma trận A\n",
        "A=np.array([[0.998, 0.136],[0.002, 0.864]])\n",
        "#Khai báo vector v0\n",
        "v0=np.array([[0.95],[0.05]])\n",
        "#Tính vector A^100 (sử dụng hàm matrix_power)\n",
        "A_100=np.linalg.matrix_power(A, 100)\n",
        "#Tính vector v100 = A^100 * v0\n",
        "v100=np.dot(A_100,v0)\n",
        "x100=v100[0,0]\n",
        "y100=v100[1,0]\n",
        "print(\"A^100 =\")\n",
        "print(A_100)\n",
        "print(\"\\nVector v100 = A^100 * v0:\")\n",
        "print(v100)\n",
        "print(f\"\\nx100 = {x100:.5f}, y100 = {y100:.5f}\")"
      ],
      "metadata": {
        "colab": {
          "base_uri": "https://localhost:8080/"
        },
        "id": "VgN8Qnky2GtG",
        "outputId": "a66a989f-3faa-4605-f6c0-ee19301b7453"
      },
      "execution_count": 21,
      "outputs": [
        {
          "output_type": "stream",
          "name": "stdout",
          "text": [
            "A^100 =\n",
            "[[0.98550725 0.9855069 ]\n",
            " [0.01449275 0.0144931 ]]\n",
            "\n",
            "Vector v100 = A^100 * v0:\n",
            "[[0.98550723]\n",
            " [0.01449277]]\n",
            "\n",
            "x100 = 0.98551, y100 = 0.01449\n"
          ]
        }
      ]
    },
    {
      "cell_type": "markdown",
      "source": [
        "- Trạng thái cân bằng (Markov)"
      ],
      "metadata": {
        "id": "EfCTKuoT3SuG"
      }
    },
    {
      "cell_type": "code",
      "source": [
        "#Viết bằng gói numpy\n",
        "import numpy as np\n",
        "#Khai báo ma trận chuyển trạng thái A\n",
        "ma_tran_A=np.array([[0.998, 0.136],[0.002, 0.864]])\n",
        "#Tính giá trị riêng và vector riêng của A\n",
        "gia_tri_rieng,vector_rieng=np.linalg.eig(ma_tran_A)\n",
        "chi_so=np.argmin(np.abs(gia_tri_rieng - 1))\n",
        "trang_thai_can_bang=vector_rieng[:, chi_so]\n",
        "trang_thai_can_bang=trang_thai_can_bang/np.sum(trang_thai_can_bang)\n",
        "ti_le_co_viec,ti_le_that_nghiep=trang_thai_can_bang\n",
        "print(f\"Tỉ lệ có việc làm ổn định (x): {ti_le_co_viec:.5f}\")\n",
        "print(f\"Tỉ lệ thất nghiệp ổn định (y): {ti_le_that_nghiep:.5f}\")\n",
        "print(f\"=> Tỉ lệ thất nghiệp sau 100 tuần ≈ {ti_le_that_nghiep * 100:.2f}%\")"
      ],
      "metadata": {
        "colab": {
          "base_uri": "https://localhost:8080/"
        },
        "id": "9kJIh-Hr3UKC",
        "outputId": "1a071b7b-479f-4254-d997-f5987af35e83"
      },
      "execution_count": 22,
      "outputs": [
        {
          "output_type": "stream",
          "name": "stdout",
          "text": [
            "Tỉ lệ có việc làm ổn định (x): 0.98551\n",
            "Tỉ lệ thất nghiệp ổn định (y): 0.01449\n",
            "=> Tỉ lệ thất nghiệp sau 100 tuần ≈ 1.45%\n"
          ]
        }
      ]
    },
    {
      "cell_type": "code",
      "source": [
        "#Viết bằng gói sympy\n",
        "import sympy as sym\n",
        "x,y=sym.symbols('x y')\n",
        "xy=sym.Matrix([x,y])\n",
        "A=sym.Matrix([[1,-68],[1,1]])\n",
        "v=sym.Matrix([0, 1])\n",
        "nghiem=sym.solve([A*xy-v])\n",
        "print(sym.pretty(nghiem))"
      ],
      "metadata": {
        "colab": {
          "base_uri": "https://localhost:8080/"
        },
        "id": "7L4PgGy54cNH",
        "outputId": "1ef08272-b6e6-48ab-8d40-03a1dee17b8c"
      },
      "execution_count": 23,
      "outputs": [
        {
          "output_type": "stream",
          "name": "stdout",
          "text": [
            "⎧   68         ⎫\n",
            "⎨x: ──, y: 1/69⎬\n",
            "⎩   69         ⎭\n"
          ]
        }
      ]
    },
    {
      "cell_type": "markdown",
      "source": [
        "- Ma trận đường chéo là ma trận có các giá trị ngoài đường chéo bằng 0:"
      ],
      "metadata": {
        "id": "8tzMd4BO5VU5"
      }
    },
    {
      "cell_type": "markdown",
      "source": [
        "3.2.Trị riêng và vector riêng của ma trận"
      ],
      "metadata": {
        "id": "iyZdIQ8r5Z28"
      }
    },
    {
      "cell_type": "code",
      "source": [
        "#Cho ma trận A có kích thước n × n\n",
        "import numpy as np\n",
        "#Khai báo ma trận A\n",
        "A=np.array([[1,6],[5,2]])\n",
        "#Khai báo vector u\n",
        "u=np.array([[6],[-5]])\n",
        "#Nhân A với u\n",
        "result=A@u\n",
        "#Kiểm tra Au=-4u\n",
        "expected=-4*u\n",
        "print(\"A @ u =\\n\", result)\n",
        "print(\"-4 * u =\\n\", expected)\n",
        "print(\"Hai vector bằng nhau?\", np.allclose(result,expected))"
      ],
      "metadata": {
        "colab": {
          "base_uri": "https://localhost:8080/"
        },
        "id": "QLKrFojt5W1U",
        "outputId": "1db5cf44-d348-4b45-e3c2-bf4a7ec5ce6d"
      },
      "execution_count": 25,
      "outputs": [
        {
          "output_type": "stream",
          "name": "stdout",
          "text": [
            "A @ u =\n",
            " [[-24]\n",
            " [ 20]]\n",
            "-4 * u =\n",
            " [[-24]\n",
            " [ 20]]\n",
            "Hai vector bằng nhau? True\n"
          ]
        }
      ]
    },
    {
      "cell_type": "code",
      "source": [
        "#Quy trình tính toán trị riêng của ma trận: Giải hệ Ax=Lambda x hoặc hệ tương ứng\n",
        "import sympy\n",
        "x,y,Lambda=sympy.symbols('x y Lambda')\n",
        "I=sympy.eye(2)\n",
        "A=sympy.Matrix([[2,3],[3,-6]])\n",
        "phuongtrinh=sympy.Eq(sympy.det(Lambda*I-A), 0)\n",
        "nghiem=sympy.solve(phuongtrinh)\n",
        "print([sympy.N(phantu,4) for phantu in nghiem])"
      ],
      "metadata": {
        "colab": {
          "base_uri": "https://localhost:8080/"
        },
        "id": "FwUlpkrm6YBW",
        "outputId": "e57b99e2-9536-4206-a3a7-ed968c85f40f"
      },
      "execution_count": 26,
      "outputs": [
        {
          "output_type": "stream",
          "name": "stdout",
          "text": [
            "[-7.000, 3.000]\n"
          ]
        }
      ]
    },
    {
      "cell_type": "code",
      "source": [
        "print(sympy.pretty(nghiem))"
      ],
      "metadata": {
        "colab": {
          "base_uri": "https://localhost:8080/"
        },
        "id": "h0cgff_E64a5",
        "outputId": "541cdeda-507d-479c-da7f-520e8fdf7fed"
      },
      "execution_count": 27,
      "outputs": [
        {
          "output_type": "stream",
          "name": "stdout",
          "text": [
            "[-7, 3]\n"
          ]
        }
      ]
    },
    {
      "cell_type": "code",
      "source": [
        "#Quy trình tính toán vector riêng của ma trận\n",
        "import numpy as np\n",
        "A=np.array([[2,3],[3,-6]])\n",
        "lam=3\n",
        "I=np.eye(2)\n",
        "A_lambdaI=A-lam*I\n",
        "from scipy.linalg import null_space\n",
        "null_vecs=null_space(A_lambdaI)\n",
        "print(\"Vector riêng ứng với λ = 3 là:\")\n",
        "print(null_vecs)"
      ],
      "metadata": {
        "colab": {
          "base_uri": "https://localhost:8080/"
        },
        "id": "ONIV6prO66No",
        "outputId": "18a1ba56-241e-444a-a725-9391df45451d"
      },
      "execution_count": 28,
      "outputs": [
        {
          "output_type": "stream",
          "name": "stdout",
          "text": [
            "Vector riêng ứng với λ = 3 là:\n",
            "[[-0.9486833 ]\n",
            " [-0.31622777]]\n"
          ]
        }
      ]
    },
    {
      "cell_type": "markdown",
      "source": [
        "3.3.Ứng dụng của trị riêng và vector riêng"
      ],
      "metadata": {
        "id": "EHiezAI08ve0"
      }
    },
    {
      "cell_type": "code",
      "source": [
        "import numpy as np\n",
        "A=np.array([[2,3],[3,-6]])\n",
        "D=np.array([[-7,0],[0,3]])\n",
        "P=np.array([[-1.0/3, 3],[1,1]])\n",
        "from numpy import linalg\n",
        "from numpy import linalg as LA\n",
        "P1=LA.inv(P)\n",
        "print (P1)"
      ],
      "metadata": {
        "colab": {
          "base_uri": "https://localhost:8080/"
        },
        "id": "cey3IAIP8wBR",
        "outputId": "754a4f27-43b6-4b15-d0a3-a416a63c8e13"
      },
      "execution_count": 29,
      "outputs": [
        {
          "output_type": "stream",
          "name": "stdout",
          "text": [
            "[[-0.3  0.9]\n",
            " [ 0.3  0.1]]\n"
          ]
        }
      ]
    },
    {
      "cell_type": "code",
      "source": [
        "print(A.dot(P))"
      ],
      "metadata": {
        "colab": {
          "base_uri": "https://localhost:8080/"
        },
        "id": "E6T8W0Yh82VH",
        "outputId": "457b6896-e8d5-4944-cc02-2dac99ad0b00"
      },
      "execution_count": 30,
      "outputs": [
        {
          "output_type": "stream",
          "name": "stdout",
          "text": [
            "[[ 2.33333333  9.        ]\n",
            " [-7.          3.        ]]\n"
          ]
        }
      ]
    },
    {
      "cell_type": "code",
      "source": [
        "print(P.dot(D))"
      ],
      "metadata": {
        "colab": {
          "base_uri": "https://localhost:8080/"
        },
        "id": "1n4TZgmc86OJ",
        "outputId": "b26a2173-fad8-4e7b-a189-8deee14698c2"
      },
      "execution_count": 31,
      "outputs": [
        {
          "output_type": "stream",
          "name": "stdout",
          "text": [
            "[[ 2.33333333  9.        ]\n",
            " [-7.          3.        ]]\n"
          ]
        }
      ]
    },
    {
      "cell_type": "code",
      "source": [
        "print(P@(D**1000)@P1 )"
      ],
      "metadata": {
        "colab": {
          "base_uri": "https://localhost:8080/"
        },
        "id": "VqWP_roR9XmD",
        "outputId": "80a72128-62df-4501-9ea0-9cb4d2f90372"
      },
      "execution_count": 32,
      "outputs": [
        {
          "output_type": "stream",
          "name": "stdout",
          "text": [
            "[[ 5.03503397e+18  3.50482117e+18]\n",
            " [ 3.50482117e+18 -4.31115581e+18]]\n"
          ]
        }
      ]
    },
    {
      "cell_type": "code",
      "source": [
        "print(D**2)"
      ],
      "metadata": {
        "colab": {
          "base_uri": "https://localhost:8080/"
        },
        "id": "jjrAPrGv-RdY",
        "outputId": "f765d009-3216-4d11-8e3b-2ceb6836a50e"
      },
      "execution_count": 33,
      "outputs": [
        {
          "output_type": "stream",
          "name": "stdout",
          "text": [
            "[[49  0]\n",
            " [ 0  9]]\n"
          ]
        }
      ]
    },
    {
      "cell_type": "markdown",
      "source": [
        "BÀI TẬP CHƯƠNG 6"
      ],
      "metadata": {
        "id": "_X6YYHcc-UvN"
      }
    },
    {
      "cell_type": "code",
      "source": [
        "#Câu 1\n",
        "import numpy as np\n",
        "import math\n",
        "a=np.array([1,2,3])\n",
        "mag=np.sqrt(a.dot(a))\n",
        "print(\"a:\",mag)\n",
        "mag=np.sqrt(a@a)\n",
        "print(\"b:\",mag)\n",
        "mag=np.sqrt(np.inner(a,a))\n",
        "print(\"c:\",mag)\n",
        "mag=lambda x:math.sqrt(sum(i**2 for i in x))\n",
        "print(\"d:\",mag(a))"
      ],
      "metadata": {
        "colab": {
          "base_uri": "https://localhost:8080/"
        },
        "id": "VxoSjbjs-Tla",
        "outputId": "4dd8a715-5a67-4f6e-ef35-6fa3e6e40fa9"
      },
      "execution_count": 34,
      "outputs": [
        {
          "output_type": "stream",
          "name": "stdout",
          "text": [
            "a: 3.7416573867739413\n",
            "b: 3.7416573867739413\n",
            "c: 3.7416573867739413\n",
            "d: 3.7416573867739413\n"
          ]
        }
      ]
    },
    {
      "cell_type": "code",
      "source": [
        "import numpy as np\n",
        "a=np.array(list(map(float,input(\"Nhập vector a (cách nhau dấu cách): \").split())))\n",
        "b=np.array(list(map(float,input(\"Nhập vector b (cách nhau dấu cách): \").split())))\n",
        "c=a-b\n",
        "d=np.linalg.norm(c)\n",
        "print(f\"\\n1) Khoảng cách ||a-b||={d:.6f}\")\n",
        "e=np.dot(a, b)\n",
        "na=np.linalg.norm(a)\n",
        "nb=np.linalg.norm(b)\n",
        "cosθ=np.clip(e/(na*nb),-1.0,1.0)\n",
        "θ_rad=np.arccos(cosθ)\n",
        "θ_deg=np.degrees(θ_rad)\n",
        "print(f\"2) Góc θ: {θ_rad:.6f} rad≃{θ_deg:.2f}°\")\n",
        "f=(e/np.dot(b,b))*b\n",
        "print(f\"3) Chiếu trực giao p={f}\")"
      ],
      "metadata": {
        "colab": {
          "base_uri": "https://localhost:8080/"
        },
        "id": "8ErbKmM2A6qE",
        "outputId": "974c3db0-c588-4a7d-8cc5-4fea0a63b0f0"
      },
      "execution_count": 37,
      "outputs": [
        {
          "output_type": "stream",
          "name": "stdout",
          "text": [
            "Nhập vector a (cách nhau dấu cách): 243\n",
            "Nhập vector b (cách nhau dấu cách): 421\n",
            "\n",
            "1) Khoảng cách ||a-b||=178.000000\n",
            "2) Góc θ: 0.000000 rad≃0.00°\n",
            "3) Chiếu trực giao p=[243.]\n"
          ]
        }
      ]
    }
  ]
}