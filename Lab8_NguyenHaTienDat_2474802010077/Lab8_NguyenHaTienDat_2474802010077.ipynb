{
  "nbformat": 4,
  "nbformat_minor": 0,
  "metadata": {
    "colab": {
      "provenance": []
    },
    "kernelspec": {
      "name": "python3",
      "display_name": "Python 3"
    },
    "language_info": {
      "name": "python"
    }
  },
  "cells": [
    {
      "cell_type": "markdown",
      "source": [
        "CHƯƠNG 8: KHÔNG GIAN VECTOR VÀ ÁNH XẠ TUYẾN TÍNH (PHẦN 2)\n",
        "\n",
        "1. Các bài toán cơ bản về không gian vector\n",
        "\n",
        "1.1. Một số lưu ý\n",
        "\n",
        "1.2. Các bài toán tính toán\n",
        "\n",
        "Bài tập 1:\n",
        "\n",
        "a)"
      ],
      "metadata": {
        "id": "m_F6EQRynsHP"
      }
    },
    {
      "cell_type": "code",
      "execution_count": null,
      "metadata": {
        "colab": {
          "base_uri": "https://localhost:8080/"
        },
        "id": "NYJ3Kj6ojhyr",
        "outputId": "f34b8f4c-8338-4e2e-ac94-39bdd7989e2c"
      },
      "outputs": [
        {
          "output_type": "stream",
          "name": "stdout",
          "text": [
            "[ 18 -11   9  -8]\n"
          ]
        }
      ],
      "source": [
        "import numpy as np\n",
        "u=np.array([2,-1,5,0])\n",
        "v=np.array([4,3,1,-1])\n",
        "w=np.array([-6,2,0,3])\n",
        "x=2*u-(v+3*w)\n",
        "print(x)"
      ]
    },
    {
      "cell_type": "markdown",
      "source": [
        "b)"
      ],
      "metadata": {
        "id": "XqJihR0loOAO"
      }
    },
    {
      "cell_type": "code",
      "source": [
        "x=0.5*(2*u-v-3*w)\n",
        "print(x)"
      ],
      "metadata": {
        "colab": {
          "base_uri": "https://localhost:8080/"
        },
        "id": "-ETefHpUoO6g",
        "outputId": "749c4609-1afc-4ba9-8a24-e9466643aaa7"
      },
      "execution_count": null,
      "outputs": [
        {
          "output_type": "stream",
          "name": "stdout",
          "text": [
            "[ 9.  -5.5  4.5 -4. ]\n"
          ]
        }
      ]
    },
    {
      "cell_type": "markdown",
      "source": [
        "Bài toán 2:"
      ],
      "metadata": {
        "id": "6KqcDbnUoUVq"
      }
    },
    {
      "cell_type": "code",
      "source": [
        "from numpy import linalg\n",
        "A=np.matrix([[0,-1,3],[1,1,1],[4,2,2]])\n",
        "B=np.array([-1,-2,-2])\n",
        "X=np.linalg.solve(A,B)\n",
        "print(X)"
      ],
      "metadata": {
        "colab": {
          "base_uri": "https://localhost:8080/"
        },
        "id": "QYuvEoYwoXKK",
        "outputId": "f6411e87-9570-4480-9dda-314393eadedf"
      },
      "execution_count": null,
      "outputs": [
        {
          "output_type": "stream",
          "name": "stdout",
          "text": [
            "[ 1. -2. -1.]\n"
          ]
        }
      ]
    },
    {
      "cell_type": "markdown",
      "source": [
        "Bài toán 3:"
      ],
      "metadata": {
        "id": "kn3dLWVQo3pt"
      }
    },
    {
      "cell_type": "code",
      "source": [
        "import numpy as np\n",
        "from numpy import linalg as LA\n",
        "A=np.matrix([[1,0],[0,0]])\n",
        "B=np.matrix([[0,0],[0,1]])\n",
        "def check_invertibility(M):\n",
        "    try:\n",
        "        inv = LA.inv(M)\n",
        "        print(\"Ma trận khả nghịch. Nghịch đảo:\")\n",
        "        print(inv)\n",
        "    except LA.LinAlgError as e:\n",
        "        print(\"Ma trận không khả nghịch. Lỗi:\", e)\n",
        "print(\"Kiểm tra A:\")\n",
        "check_invertibility(A)\n",
        "print(\"\\nKiểm tra B:\")\n",
        "check_invertibility(B)\n",
        "print(\"\\nKiểm tra A + B:\")\n",
        "check_invertibility(A + B)"
      ],
      "metadata": {
        "colab": {
          "base_uri": "https://localhost:8080/"
        },
        "id": "QIZaZBIjo5CL",
        "outputId": "2d553906-8273-4ee7-d331-4ec288dc0f24"
      },
      "execution_count": null,
      "outputs": [
        {
          "output_type": "stream",
          "name": "stdout",
          "text": [
            "Kiểm tra A:\n",
            "Ma trận không khả nghịch. Lỗi: Singular matrix\n",
            "\n",
            "Kiểm tra B:\n",
            "Ma trận không khả nghịch. Lỗi: Singular matrix\n",
            "\n",
            "Kiểm tra A + B:\n",
            "Ma trận khả nghịch. Nghịch đảo:\n",
            "[[1. 0.]\n",
            " [0. 1.]]\n"
          ]
        }
      ]
    },
    {
      "cell_type": "markdown",
      "source": [
        "Bài toán 4:\n",
        "\n"
      ],
      "metadata": {
        "id": "XKkCawuRqkFy"
      }
    },
    {
      "cell_type": "code",
      "source": [
        "import sympy as sp\n",
        "x, y=sp.symbols('x y')\n",
        "A=sp.Matrix([[x, y], [y, x]])\n",
        "x1,y1=sp.symbols('x1 y1')\n",
        "A1=sp.Matrix([[x1, y1], [y1, x1]])\n",
        "x2,y2=sp.symbols('x2 y2')\n",
        "A2=sp.Matrix([[x2, y2], [y2, x2]])\n",
        "print(\"A1.T:\",(A1.T))"
      ],
      "metadata": {
        "colab": {
          "base_uri": "https://localhost:8080/"
        },
        "id": "6OhXJOLOqmpp",
        "outputId": "1afee5bc-6e9b-4ea6-c9e5-696aa89cfd69"
      },
      "execution_count": null,
      "outputs": [
        {
          "output_type": "stream",
          "name": "stdout",
          "text": [
            "A1.T: Matrix([[x1, y1], [y1, x1]])\n"
          ]
        }
      ]
    },
    {
      "cell_type": "code",
      "source": [
        "print('(A1+A2).T:',((A1+A2).T))"
      ],
      "metadata": {
        "colab": {
          "base_uri": "https://localhost:8080/"
        },
        "id": "-T9RPgBjrJ-V",
        "outputId": "b945d379-3562-4a86-d53a-f7f7b6049cd4"
      },
      "execution_count": null,
      "outputs": [
        {
          "output_type": "stream",
          "name": "stdout",
          "text": [
            "(A1+A2).T: Matrix([[x1 + x2, y1 + y2], [y1 + y2, x1 + x2]])\n"
          ]
        }
      ]
    },
    {
      "cell_type": "code",
      "source": [
        "print('((A1+A2).T).equals(A1+A2):',((A1+A2).T).equals(A1+A2))"
      ],
      "metadata": {
        "colab": {
          "base_uri": "https://localhost:8080/"
        },
        "id": "vRzbtbcurNRB",
        "outputId": "2b4f555b-b6d8-42e1-acc3-51c10b357f5a"
      },
      "execution_count": null,
      "outputs": [
        {
          "output_type": "stream",
          "name": "stdout",
          "text": [
            "((A1+A2).T).equals(A1+A2): True\n"
          ]
        }
      ]
    },
    {
      "cell_type": "code",
      "source": [
        "print(\"c=sp.symbols('c')*A:\",(c:=sp.symbols('c'))*A)"
      ],
      "metadata": {
        "colab": {
          "base_uri": "https://localhost:8080/"
        },
        "id": "FrDx65yArQI4",
        "outputId": "b86cd169-bcd6-45d6-8570-27528ccf7ca0"
      },
      "execution_count": null,
      "outputs": [
        {
          "output_type": "stream",
          "name": "stdout",
          "text": [
            "c=sp.symbols('c')*A: Matrix([[c*x, c*y], [c*y, c*x]])\n"
          ]
        }
      ]
    },
    {
      "cell_type": "code",
      "source": [
        "print(\"((c*A).T).equals(c*A):\",((c*A).T).equals(c*A))"
      ],
      "metadata": {
        "colab": {
          "base_uri": "https://localhost:8080/"
        },
        "id": "nsz-8y8ZrUvk",
        "outputId": "8e795209-2eec-4820-c5ea-cdde04e494fa"
      },
      "execution_count": null,
      "outputs": [
        {
          "output_type": "stream",
          "name": "stdout",
          "text": [
            "((c*A).T).equals(c*A): True\n"
          ]
        }
      ]
    },
    {
      "cell_type": "markdown",
      "source": [
        "Bài toán 5:\n",
        "\n",
        "a) Vector w=(1,1,1) là tổ hợp tuyến tính của 3 vector trên"
      ],
      "metadata": {
        "id": "DXNVdouYuUAt"
      }
    },
    {
      "cell_type": "code",
      "source": [
        "import sympy as sp\n",
        "a,b,c=sp.symbols('a b c')\n",
        "v1=sp.Matrix([1,2,3])\n",
        "v2=sp.Matrix([0,1,2])\n",
        "v3=sp.Matrix([-1,0,1])\n",
        "v=sp.Matrix([1,1,1])\n",
        "expr=a*v1+b*v2+c*v3\n",
        "eqs=[sp.Eq(expr[i],v[i]) for i in range(3)]\n",
        "sol=sp.linsolve(eqs, a, b, c)\n",
        "print(\"a) Nghiệm tìm được:\")\n",
        "print(sol)"
      ],
      "metadata": {
        "colab": {
          "base_uri": "https://localhost:8080/"
        },
        "id": "tZPx70B3uWOg",
        "outputId": "0bd96976-c297-4a2d-c0a7-fb905e208254"
      },
      "execution_count": null,
      "outputs": [
        {
          "output_type": "stream",
          "name": "stdout",
          "text": [
            "a) Nghiệm tìm được:\n",
            "{(c + 1, -2*c - 1, c)}\n"
          ]
        }
      ]
    },
    {
      "cell_type": "markdown",
      "source": [
        "b) Vector w=(1,−2,2) không là tổ hợp tuyến tính của 3 vector trên"
      ],
      "metadata": {
        "id": "oqDXju42wO9A"
      }
    },
    {
      "cell_type": "code",
      "source": [
        "import sympy as sp\n",
        "a,b,c=sp.symbols('a b c')\n",
        "v1=sp.Matrix([1,2,3])\n",
        "v2=sp.Matrix([0,1,2])\n",
        "v3=sp.Matrix([-1,0,1])\n",
        "w=sp.Matrix([1,-2,2])\n",
        "expr=a*v1+b*v2+c*v3\n",
        "eqs=[sp.Eq(expr[i],w[i]) for i in range(3)]\n",
        "sol=sp.linsolve(eqs,a,b,c)\n",
        "print(\"b) Nghiệm tìm được:\")\n",
        "print(sol)"
      ],
      "metadata": {
        "colab": {
          "base_uri": "https://localhost:8080/"
        },
        "id": "EjUw0ibyxEh_",
        "outputId": "d3e5b940-11f3-4d79-c563-d9eb7a2edf1f"
      },
      "execution_count": null,
      "outputs": [
        {
          "output_type": "stream",
          "name": "stdout",
          "text": [
            "b) Nghiệm tìm được:\n",
            "EmptySet\n"
          ]
        }
      ]
    },
    {
      "cell_type": "markdown",
      "source": [
        "Bài toán 6:"
      ],
      "metadata": {
        "id": "MxWwL25ExyIU"
      }
    },
    {
      "cell_type": "code",
      "source": [
        "import sympy as sp\n",
        "c1,c2,c3=sp.symbols('c1 c2 c3')\n",
        "eq1=c1-2*c3\n",
        "eq2=2*c1+c2\n",
        "eq3=3*c1+2*c2+c3\n",
        "sol=sp.solve([eq1, eq2, eq3],(c1, c2, c3))\n",
        "print(\"Nghiệm của hệ phương trình:\")\n",
        "print(sol)"
      ],
      "metadata": {
        "colab": {
          "base_uri": "https://localhost:8080/"
        },
        "id": "HD3FBK3Px57_",
        "outputId": "9d5e260d-fe61-46df-fc2b-38fa40eb251b"
      },
      "execution_count": null,
      "outputs": [
        {
          "output_type": "stream",
          "name": "stdout",
          "text": [
            "Nghiệm của hệ phương trình:\n",
            "{c1: 0, c2: 0, c3: 0}\n"
          ]
        }
      ]
    },
    {
      "cell_type": "markdown",
      "source": [
        "Bài toán 7:\n"
      ],
      "metadata": {
        "id": "71Ex4f_-y-U_"
      }
    },
    {
      "cell_type": "code",
      "source": [
        "import sympy as sp\n",
        "c1,c2=sp.symbols('c1 c2')\n",
        "u1,u2=sp.symbols('u1 u2')\n",
        "eq1=c1+c2-u1\n",
        "eq2=c1-c2-u2\n",
        "sol_general=sp.solve([eq1,eq2],(c1,c2))\n",
        "print(\"Hệ có nghiệm với mọi u1, u2:\")\n",
        "print(sol_general)\n",
        "sol_zero = sp.solve([eq1.subs({u1:0}),eq2.subs({u2:0})],(c1,c2))\n",
        "print(\"\\nNghiệm với u1 = 0, u2 = 0:\")\n",
        "print(sol_zero)"
      ],
      "metadata": {
        "colab": {
          "base_uri": "https://localhost:8080/"
        },
        "id": "z0njhnZVzBCn",
        "outputId": "968f8f21-5534-46d9-be8f-22619f10a045"
      },
      "execution_count": null,
      "outputs": [
        {
          "output_type": "stream",
          "name": "stdout",
          "text": [
            "Hệ có nghiệm với mọi u1, u2:\n",
            "{c1: u1/2 + u2/2, c2: u1/2 - u2/2}\n",
            "\n",
            "Nghiệm với u1 = 0, u2 = 0:\n",
            "{c1: 0, c2: 0}\n"
          ]
        }
      ]
    },
    {
      "cell_type": "markdown",
      "source": [
        "2. Ánh xạ tuyến tính:\n",
        "\n",
        "2.1.Định nghĩa, tính chất và biểu diễn ma trận ánh xạ tuyến tính"
      ],
      "metadata": {
        "id": "JzeXOocP-2YG"
      }
    },
    {
      "cell_type": "markdown",
      "source": [
        "2.2.Bài toán ứng dụng: Ma trận biến đổi (ảnh/font chữ/…)"
      ],
      "metadata": {
        "id": "MlfLm_Gq_DmM"
      }
    },
    {
      "cell_type": "code",
      "source": [
        "import numpy as np\n",
        "P=np.array([[0,0,3,3,1,1,2,2,1,1],[0,5,5,4,4,3,3,2,2,0]])\n",
        "#a) Tịnh tiến\n",
        "vecdelta=np.array([4,2])\n",
        "P_caua=(P.T+vecdelta).T\n",
        "print(\"Hình a:\\n\",P_caua)\n",
        "#b) Tịnh tiến + co giãn y\n",
        "vecdelta=np.array([4,-2])\n",
        "matran_b=np.array([[1.0,0.0],[0.0,2.0]])\n",
        "P_caub=(P.T@matran_b+vecdelta).T\n",
        "print(\"Hình b:\\n\",P_caub)\n",
        "#c) Tịnh tiến + đối xứng trục y\n",
        "vecdelta=np.array([4,2])\n",
        "matran_c=np.array([[-1.0,0.0],[0.0,1.0]])\n",
        "P_cauc=(P.T@matran_c+vecdelta).T\n",
        "print(\"Hình c:\\n\",P_cauc)\n",
        "#d) Tịnh tiến + shearing theo x\n",
        "vecdelta=np.array([4,2])\n",
        "matran_d=np.array([[1.0,1.0],[0.0,1.0]])\n",
        "P_caud=(P.T@matran_d+vecdelta).T\n",
        "print(\"Hình d:\\n\",P_caud)\n",
        "# Đối xứng qua y=0\n",
        "matran_y0=np.array([[1.0,0.0],[0.0,-1.0]])\n",
        "P_y0=(P.T@matran_y0).T\n",
        "print(\"Đối xứng y=0:\\n\",P_y0)\n",
        "# Đối xứng qua y=x\n",
        "matran_y_eq_x=np.array([[0.0, 1.0], [1.0, 0.0]])\n",
        "P_y_eq_x=(P.T@matran_y_eq_x).T\n",
        "print(\"Đối xứng y=x:\\n\",P_y_eq_x)"
      ],
      "metadata": {
        "colab": {
          "base_uri": "https://localhost:8080/"
        },
        "id": "sBnOr1dMCpgD",
        "outputId": "ad11e9d9-538d-4328-df96-97af544307be"
      },
      "execution_count": 7,
      "outputs": [
        {
          "output_type": "stream",
          "name": "stdout",
          "text": [
            "Hình a:\n",
            " [[4 4 7 7 5 5 6 6 5 5]\n",
            " [2 7 7 6 6 5 5 4 4 2]]\n",
            "Hình b:\n",
            " [[ 4.  4.  7.  7.  5.  5.  6.  6.  5.  5.]\n",
            " [-2.  8.  8.  6.  6.  4.  4.  2.  2. -2.]]\n",
            "Hình c:\n",
            " [[4. 4. 1. 1. 3. 3. 2. 2. 3. 3.]\n",
            " [2. 7. 7. 6. 6. 5. 5. 4. 4. 2.]]\n",
            "Hình d:\n",
            " [[ 4.  4.  7.  7.  5.  5.  6.  6.  5.  5.]\n",
            " [ 2.  7. 10.  9.  7.  6.  7.  6.  5.  3.]]\n",
            "Đối xứng y=0:\n",
            " [[ 0.  0.  3.  3.  1.  1.  2.  2.  1.  1.]\n",
            " [ 0. -5. -5. -4. -4. -3. -3. -2. -2.  0.]]\n",
            "Đối xứng y=x:\n",
            " [[0. 5. 5. 4. 4. 3. 3. 2. 2. 0.]\n",
            " [0. 0. 3. 3. 1. 1. 2. 2. 1. 1.]]\n"
          ]
        }
      ]
    },
    {
      "cell_type": "markdown",
      "source": [
        "3. [Đọc thêm] Kiểm lý thuyết về ánh xạ tuyến tính"
      ],
      "metadata": {
        "id": "qimSJKst_y6_"
      }
    },
    {
      "cell_type": "markdown",
      "source": [
        "3.1.Kiểm tra một ánh xạ là ánh xạ tuyến tính"
      ],
      "metadata": {
        "id": "wfo_ADpy_ztj"
      }
    },
    {
      "cell_type": "code",
      "source": [
        "import sympy as sp\n",
        "from sympy import lambdify\n",
        "\n",
        "# Khai báo biến\n",
        "x1, x2, x3 = sp.symbols('x1 x2 x3')\n",
        "a, b, c = sp.symbols('a b c')\n",
        "d, e, f = sp.symbols('d e f')\n",
        "q = sp.symbols('q')\n",
        "\n",
        "# Hàm f1 = x1 - x2 + x3\n",
        "bieuthuc1 = x1 - x2 + x3\n",
        "f1 = lambdify([x1, x2, x3], bieuthuc1, 'numpy')\n",
        "\n",
        "# Kiểm tra tính cộng\n",
        "print(f1(a, b, c))         # f1(X)\n",
        "print(f1(d, e, f))         # f1(Y)\n",
        "print(f1(a + d, b + e, c + f))  # f1(X + Y)\n",
        "print(f1(a, b, c) + f1(d, e, f) == f1(a + d, b + e, c + f))  # Đúng hay sai?\n",
        "print((f1(a, b, c) + f1(d, e, f)).equals(f1(a + d, b + e, c + f)))  # Chính xác hơn\n",
        "\n",
        "# Kiểm tra tính đồng biến\n",
        "print((q * f1(a, b, c) + f1(d, e, f)).equals(f1(q * a + d, q * b + e, q * c + f).expand()))\n"
      ],
      "metadata": {
        "colab": {
          "base_uri": "https://localhost:8080/"
        },
        "id": "WPnjgDk5Eyjc",
        "outputId": "ce6922cf-5f5e-4461-e50b-9683bb714088"
      },
      "execution_count": 8,
      "outputs": [
        {
          "output_type": "stream",
          "name": "stdout",
          "text": [
            "a - b + c\n",
            "d - e + f\n",
            "a - b + c + d - e + f\n",
            "True\n",
            "True\n",
            "True\n"
          ]
        }
      ]
    },
    {
      "cell_type": "code",
      "source": [
        "bieuthuc2 = 2 * x2 + 3 * x3\n",
        "f2 = lambdify([x1, x2, x3], bieuthuc2, 'numpy')\n",
        "print((q * f2(a, b, c) + f2(d, e, f)).equals(f2(q * a + d, q * b + e, q * c + f).expand()))\n"
      ],
      "metadata": {
        "colab": {
          "base_uri": "https://localhost:8080/"
        },
        "id": "BhIg8JDNE1Ov",
        "outputId": "c4634717-c9ae-4341-a0ac-910209c158be"
      },
      "execution_count": 9,
      "outputs": [
        {
          "output_type": "stream",
          "name": "stdout",
          "text": [
            "True\n"
          ]
        }
      ]
    },
    {
      "cell_type": "markdown",
      "source": [
        "3.2.Tìm tổ hợp tuyến tính cho một ánh xạ tuyến tính"
      ],
      "metadata": {
        "id": "q4BeoGSW_1DG"
      }
    },
    {
      "cell_type": "code",
      "source": [
        "a, b = sp.symbols('a b')\n",
        "eqs = [a + 3 * b - 4, 2 * a + 5 * b - 5]\n",
        "solution = sp.solve(eqs, [a, b])\n",
        "print(\"Nghiệm tổ hợp tuyến tính:\", solution)"
      ],
      "metadata": {
        "colab": {
          "base_uri": "https://localhost:8080/"
        },
        "id": "w_OmMvnUE6BB",
        "outputId": "3998dc00-656a-4097-ed9b-a4bfefc32013"
      },
      "execution_count": 10,
      "outputs": [
        {
          "output_type": "stream",
          "name": "stdout",
          "text": [
            "Nghiệm tổ hợp tuyến tính: {a: -5, b: 3}\n"
          ]
        }
      ]
    },
    {
      "cell_type": "code",
      "source": [
        "import numpy as np\n",
        "fu1 = np.array([1, 1, 2])\n",
        "fu2 = np.array([4, 2, 1])\n",
        "a_val = solution[a]\n",
        "b_val = solution[b]\n",
        "fu = a_val * fu1 + b_val * fu2\n",
        "print(\"f(4,5) =\", fu)"
      ],
      "metadata": {
        "colab": {
          "base_uri": "https://localhost:8080/"
        },
        "id": "eDQ9q5SQGf9G",
        "outputId": "5e079e2d-954f-41ab-a440-d93edda891c5"
      },
      "execution_count": 11,
      "outputs": [
        {
          "output_type": "stream",
          "name": "stdout",
          "text": [
            "f(4,5) = [7 1 -7]\n"
          ]
        }
      ]
    },
    {
      "cell_type": "markdown",
      "source": [
        "3.3.Tìm ánh xạ tuyến tính"
      ],
      "metadata": {
        "id": "UBYrWu50__rq"
      }
    },
    {
      "cell_type": "code",
      "source": [
        "x, y = sp.symbols('x y')\n",
        "solution2 = sp.solve([a + 3*b - x, 2*a + 5*b - y], [a, b])\n",
        "print(\"a =\", solution2[a])\n",
        "print(\"b =\", solution2[b])"
      ],
      "metadata": {
        "colab": {
          "base_uri": "https://localhost:8080/"
        },
        "id": "2dGNviq2Gm_Z",
        "outputId": "1d2e82c5-6117-42f3-f86d-34f5d9ddf762"
      },
      "execution_count": 12,
      "outputs": [
        {
          "output_type": "stream",
          "name": "stdout",
          "text": [
            "a = -5*x + 3*y\n",
            "b = 2*x - y\n"
          ]
        }
      ]
    },
    {
      "cell_type": "code",
      "source": [
        "a_expr = solution2[a]\n",
        "b_expr = solution2[b]\n",
        "fu = a_expr * fu1 + b_expr * fu2\n",
        "print(\"f(x,y) =\", fu)"
      ],
      "metadata": {
        "colab": {
          "base_uri": "https://localhost:8080/"
        },
        "id": "NQY8_l9-GoOM",
        "outputId": "44e3dd76-ddbb-4a1a-ea05-d519a7d52bcc"
      },
      "execution_count": 13,
      "outputs": [
        {
          "output_type": "stream",
          "name": "stdout",
          "text": [
            "f(x,y) = [3*x - y -x + y -8*x + 5*y]\n"
          ]
        }
      ]
    },
    {
      "cell_type": "markdown",
      "source": [
        "3.4.Tìm nhân của ánh xạ tuyến tính"
      ],
      "metadata": {
        "id": "t5GASmcyABVd"
      }
    },
    {
      "cell_type": "code",
      "source": [
        "x1, x2, x3 = sp.symbols('x1 x2 x3')\n",
        "ker = sp.solve([x1 + x2 - x3, 2*x1 + 3*x2 - x3, 3*x1 + 5*x2 - x3], [x1, x2, x3])\n",
        "print(\"Nghiệm Ker(f):\", ker)"
      ],
      "metadata": {
        "colab": {
          "base_uri": "https://localhost:8080/"
        },
        "id": "EclztoG6GuCm",
        "outputId": "e1415cee-cd0c-48a9-d2c7-8aa128321f76"
      },
      "execution_count": 14,
      "outputs": [
        {
          "output_type": "stream",
          "name": "stdout",
          "text": [
            "Nghiệm Ker(f): {x1: 2*x3, x2: -x3}\n"
          ]
        }
      ]
    },
    {
      "cell_type": "markdown",
      "source": [
        "3.5.Tìm ảnh của ánh xạ tuyến tính"
      ],
      "metadata": {
        "id": "Zgfn1BxSAC1p"
      }
    },
    {
      "cell_type": "code",
      "source": [
        "import numpy as np\n",
        "from sympy import Matrix\n",
        "A=np.array([\n",
        "    [1, 1, -1],\n",
        "    [2, 3, -1],\n",
        "    [3, 5, -1]])\n",
        "rank=np.linalg.matrix_rank(A)\n",
        "print(\"Hạng (rank) của ánh xạ:\",rank)"
      ],
      "metadata": {
        "colab": {
          "base_uri": "https://localhost:8080/"
        },
        "id": "ulLzplvDHGVy",
        "outputId": "1dbbc93b-7d3f-45a9-f1f1-19d860100226"
      },
      "execution_count": 15,
      "outputs": [
        {
          "output_type": "stream",
          "name": "stdout",
          "text": [
            "Hạng (rank) của ánh xạ: 2\n"
          ]
        }
      ]
    },
    {
      "cell_type": "code",
      "source": [
        "A_sym=Matrix(A)\n",
        "im_basis=A_sym.columnspace()\n",
        "print(\"Cơ sở của Im(f):\")\n",
        "for i,vec in enumerate(im_basis,1):\n",
        "    print(f\"v{i} =\",vec)"
      ],
      "metadata": {
        "colab": {
          "base_uri": "https://localhost:8080/"
        },
        "id": "nbaiUG-GHKis",
        "outputId": "4684205a-7ade-43df-fb82-f89eee157d32"
      },
      "execution_count": 16,
      "outputs": [
        {
          "output_type": "stream",
          "name": "stdout",
          "text": [
            "Cơ sở của Im(f):\n",
            "v1 = Matrix([[1], [2], [3]])\n",
            "v2 = Matrix([[1], [3], [5]])\n"
          ]
        }
      ]
    },
    {
      "cell_type": "markdown",
      "source": [
        "3.6. Ma trận của ánh xạ tuyến tính trong cặp cơ sở"
      ],
      "metadata": {
        "id": "Edu3tQNKAFUx"
      }
    },
    {
      "cell_type": "code",
      "source": [
        "import numpy as np\n",
        "def f(x, y):\n",
        "    return np.array([x - y, x + y])\n",
        "u1 = np.array([-1, 1])\n",
        "u2 = np.array([1, 0])\n",
        "f_u1 = f(*u1)\n",
        "f_u2 = f(*u2)\n",
        "print(\"f(u1) =\", f_u1)\n",
        "print(\"f(u2) =\", f_u2)"
      ],
      "metadata": {
        "colab": {
          "base_uri": "https://localhost:8080/"
        },
        "id": "_43Mp5zSHQTS",
        "outputId": "663a19ee-972c-449f-e5d3-89c7e1138dbd"
      },
      "execution_count": 17,
      "outputs": [
        {
          "output_type": "stream",
          "name": "stdout",
          "text": [
            "f(u1) = [-2  0]\n",
            "f(u2) = [1 1]\n"
          ]
        }
      ]
    },
    {
      "cell_type": "code",
      "source": [
        "import sympy as sp\n",
        "a,b=sp.symbols('a b')\n",
        "v1=sp.Matrix([1,2])\n",
        "v2=sp.Matrix([1,3])\n",
        "f1=sp.Matrix([-2,0])\n",
        "sol1=sp.solve([a*v1[i]+b*v2[i]-f1[i] for i in range(2)],[a,b])\n",
        "print(\"Tọa độ f(u1) theo B':\",sol1)\n",
        "f2=sp.Matrix([1,1])\n",
        "sol2=sp.solve([a*v1[i]+b*v2[i]-f2[i] for i in range(2)],[a,b])\n",
        "print(\"Tọa độ f(u2) theo B':\",sol2)"
      ],
      "metadata": {
        "colab": {
          "base_uri": "https://localhost:8080/"
        },
        "id": "UOqwlQiVHUJF",
        "outputId": "548a5b66-589e-4784-be6f-0ebb78364f4f"
      },
      "execution_count": 18,
      "outputs": [
        {
          "output_type": "stream",
          "name": "stdout",
          "text": [
            "Tọa độ f(u1) theo B': {a: -6, b: 4}\n",
            "Tọa độ f(u2) theo B': {a: 2, b: -1}\n"
          ]
        }
      ]
    },
    {
      "cell_type": "code",
      "source": [
        "M=sp.Matrix([[sol1[a], sol2[a]],[sol1[b], sol2[b]]])\n",
        "print(\"Ma trận ánh xạ tuyến tính trong cặp cơ sở:\")\n",
        "sp.pprint(M)"
      ],
      "metadata": {
        "colab": {
          "base_uri": "https://localhost:8080/"
        },
        "id": "9nuD0WrtHjLf",
        "outputId": "b6f83dac-4476-44dc-d033-68c519ff90e9"
      },
      "execution_count": 19,
      "outputs": [
        {
          "output_type": "stream",
          "name": "stdout",
          "text": [
            "Ma trận ánh xạ tuyến tính trong cặp cơ sở:\n",
            "⎡-6  2 ⎤\n",
            "⎢      ⎥\n",
            "⎣4   -1⎦\n"
          ]
        }
      ]
    },
    {
      "cell_type": "markdown",
      "source": [
        "4. Bài toán ứng dụng: Đường conic và các phép biến đổi"
      ],
      "metadata": {
        "id": "s0L9J0LpAHsy"
      }
    },
    {
      "cell_type": "code",
      "source": [
        "import sympy as sp\n",
        "sp.init_printing()\n",
        "x,y=sp.symbols('x y')\n",
        "eq=5*x**2-6*x*y+5*y**2+14*sp.sqrt(2)*x-2*sp.sqrt(2)*y+18\n",
        "A,B,C=5,-6,5\n",
        "theta=0.5*sp.atan2(B,A-C)\n",
        "cos_t=sp.cos(theta).evalf()\n",
        "sin_t=sp.sin(theta).evalf()\n",
        "xp, yp=sp.symbols(\"x' y'\")\n",
        "x_new=cos_t*xp-sin_t*yp\n",
        "y_new=sin_t*xp+cos_t*yp\n",
        "eq_rotated=eq.subs({x:x_new,y:y_new})\n",
        "eq_rotated=sp.simplify(eq_rotated.expand())\n",
        "eq_rotated_collected=sp.collect(eq_rotated,[xp**2,yp**2,xp,yp])\n",
        "print(\"Phương trình ban đầu:\")\n",
        "display(sp.Eq(eq, 0))\n",
        "print(\"Phương trình sau khi xoay hệ trục:\")\n",
        "display(sp.Eq(eq_rotated_collected, 0))"
      ],
      "metadata": {
        "colab": {
          "base_uri": "https://localhost:8080/",
          "height": 97
        },
        "id": "ey8Q5WCTIApL",
        "outputId": "2a814d71-f539-49dd-c28b-1d73cc93ed01"
      },
      "execution_count": 20,
      "outputs": [
        {
          "output_type": "stream",
          "name": "stdout",
          "text": [
            "Phương trình ban đầu:\n"
          ]
        },
        {
          "output_type": "display_data",
          "data": {
            "text/plain": [
              "   2                        2                  \n",
              "5⋅x  - 6⋅x⋅y + 14⋅√2⋅x + 5⋅y  - 2⋅√2⋅y + 18 = 0"
            ],
            "text/latex": "$\\displaystyle 5 x^{2} - 6 x y + 14 \\sqrt{2} x + 5 y^{2} - 2 \\sqrt{2} y + 18 = 0$"
          },
          "metadata": {}
        },
        {
          "output_type": "stream",
          "name": "stdout",
          "text": [
            "Phương trình sau khi xoay hệ trục:\n"
          ]
        },
        {
          "output_type": "display_data",
          "data": {
            "text/plain": [
              "      2                                  2                                  \n",
              "8.0⋅x'  + 11.3137084989848⋅√2⋅x' + 2.0⋅y'  + 8.48528137423857⋅√2⋅y' + 18 = 0"
            ],
            "text/latex": "$\\displaystyle 8.0 x'^{2} + 11.3137084989848 \\sqrt{2} x' + 2.0 y'^{2} + 8.48528137423857 \\sqrt{2} y' + 18 = 0$"
          },
          "metadata": {}
        }
      ]
    },
    {
      "cell_type": "markdown",
      "source": [
        "BÀI TẬP CHƯƠNG 8"
      ],
      "metadata": {
        "id": "tefDFWesAIUC"
      }
    },
    {
      "cell_type": "markdown",
      "source": [
        "![image.png](data:image/png;base64,iVBORw0KGgoAAAANSUhEUgAAAnIAAAMqCAYAAAAGhKy7AAAAAXNSR0IArs4c6QAAAARnQU1BAACxjwv8YQUAAAAJcEhZcwAADsMAAA7DAcdvqGQAAP+lSURBVHhe7J0FgBVVF8cP3d1dSimgtJQ0In4GoGIBgoGNKKCIgKiggoAgCoKkIAgWiIGiSEiphDRISHd3zHf/Z2eW2cfL3bfx2P9Plzdz572Z2/fcc869k8IyCCGEEEIIiThS2p+EEEIIISTCoCBHCCGEEBKhUJAjhBBCCIlQKMgRQgghhEQoFOQIIYQQQiIUCnKEEEIIIREKBTlCCCGEkAiFghwhhBBCSIRCQY4QQgghJEKhIEcIIYQQEqFQkCOEEEIIiVAoyBFCCCGERCgU5AghhBBCIhQKcoQQQgghEQoFOUIIIYSQCIWCHCGEEEJIhJLCMtjHAdl24LR9RAghhBBCfFE8T0b7KH6hRo4QQgghJEKhIEcIIYQQEqFQkCOEEEIIiVAoyBFCCCGERCgU5AghhBBCIhQKcoQQQgghEQoFOUIIIYSQCIWCHCGEEEJIhEJBjhBCCCEkQqEgRwghhBASoVCQI4QQQgiJUCjIEUIIIYREKBTkCCGEEEIiFApyhBBCCCERCgU5QgghhJAIhYIcIYQQQkiEQkGOEEIIISRCoSBHCAnIiePH5fuZ38ic2T/YIYQQQpICFOQIIQHJkjWr/LVssTz2cGv5b/tWO5QQQkhiQ0GOEBIUr/d9R9o88qhq5hISy7Lk3bd6y7OPt5U3e70ily9ftq9ELkcOH5K6VcrLb3Nm2yGEEBI7UphO0rKPA7LtwGn7iBCSHDl//pzs2vGflCh1vR0S/5w+fUouXrgo6TOkl3Nnz0nKlCkkU+Ys9tXwcO7cWTmwf5/kzJVbMmbMpGGnT52UjJky63G4QT62aFhLnuvSXe5seZ8dGgWemyZNWkmTNq0dIvJQqzukdNly0vvtAXZI6Jw8cVwOHtgvmbNkldx58mrYqZMnAubl0SNHJGu2bCbfOe8nJBSK58loH8UvFOQISWZg8P7ph++kX+9XVaAod0NFKVCosPy5+A8pVKSoPPXCy1K/YRP72zGZPGGs5M6bV5re1sIOiWLXzv9k6qQJMm7UcD2vVbeBdHqui9xUuaqeO4z/dKR8MOBtqV2vgaQwgsHcX37U8EZNo+43d86P8tKrfeTh9o/pucOlixflqQ4PyScTptohV1g4/zcZ9M5bsmnDWsmRI5dUqX6L/LPybylT7gZ59sVuUrb8jfY3r2bF38tkyHtvy/q1q6VJ8/9JqlSp5PChgyYfikm27Nnlf3e3lmmfT5QxI4fp92+pfat0er6LZM+eQ9Py1ReTNLz5/1pKhyeelouXLsnQAf1k0cLfNfzxpzvLPfe2kcLmfvN/nyPvvNFTritTTu4ywlv+goWk/A0V9Hv79u6RQe++JVv/3SRNTTyOHz8mS/6YL7fdcbfc3eo+vXbq5EmpXL2mDHn3TS230mVvkElffifp0qXX/Plq2ucmH/rK/Q8/Ko91elYFNvDHgt9N+Jty4cJ5vff58+dlxV9L5brSZVUoHzHuc/2eJ5+OHC7fTJssD7R9TL6c+plUqHSz9HrrPQp0hAQJBTlCSLzSrF412bh+rbzQ9TXp3LWHzP31Z3m0zd2SKnVq+Xb2fLnhxor2N6NAV9G0blXV5nz+9dWLHrAgouJ1BfR42KgJcsddrfTYzScffSBFi5eU227/n6xa8bfc1bSuhv80b5kRTMqrMHLk8GHp+OQzGu4w4+tp8sKT7eXzb36UmrWifuPmfSOofDjoHbnRCBszf16gizLgz5c9Rw758fdlki9/VLzcfD19inR9/kmpUPFmmThtRrTgc+bMaen4UGu5pc6tqjGDRvCG4lEarCEfj5W7jGAFtmzeKI1q3azH02fNkSrVakYdT50kXZ97Qo/XbNsfreEDA/v3NfnSMoZwuX3bFrn3jsZ6/MvC5ar9An/MnysPtWohuXLnkSEjxsgttepp2bz60rMyZeJY/U7rB9rKgA8+1mPQ9flOMmDoCPssSvB+vdvzUr9xMxk14YtoIeySEThffek5Fehmz/9Tw9w4+dejT38jjD4vv//2i7S//y4Z+OEoaXXfg/a3CCH+SChBjlMrQpIp0D65gRbO0e4snPebHXqFuXNmy+aN62Xxwnmyds0/dugVUqW60p2kTBnz3g7XlymnQpwv7mndRkped7XZ9tMRURqxsSOjNH6eeKalbv2G+gmz4AIvaYHm69UXn9G09n1vSLQQBzJkyGiEoZHR93TfO0XKFPaRSaMr3K2lcn/fM16ZMmWSNGnS2GdRvPhURzXrtrzvoWghDtSqW1+1ZocOHjAC158qxIHs2XPKvQ+20+Ppn0+Qz8Z/qscge86c9pGolrHXK53Vp/CV19+8Ko793x8mJX2YyP9atkQ/ly5eoJ/Z7Hjt3rlDPwkhSQcKcoQQZc3qVeorBoGhxi117NArzP5hphQpWlyPx37ykX6GSoNGTe0j76RIkeKq7yxdvFCyZIkSJH75aZbs+G+bHvsD2kEHxx/MzdhRH2ta8xcoKBUq3mSHXqFQ4SLSus3D9ln88c+qFbL8r6V6fGOlq+Nxgx23yROuCGvgrfcGy81Vqutx39delr//jBK83IwxZQRBFemHAO0JhLmeb75jn8Wk4s1V9POXH2dJz26dZcHvv0mevPmMsEltHCFJDQpyhCRzli3+Q1eDPtSyuVSuWkO+/vF3qWQP5A7QwMEnq23HTno+48upqilKCGZ8+YWMGDtJFyJAuzRu9BXToSeWub53z27p1+c1Pb/j7tZSr34jPXbz55I/9LNg4aL66Y28+fLbR1eYP/dX9Y3D3zfTr/bXC5X1Ls0mTKie5MgRpWHbs2unHD92TI9B2rTp1LcNJuML58/L0x0e0oUMbmA2BfB79AV897wBremTz3bR40njRsmQ996SkeOnqIBLCElaUJAjJJlTplx51bS0avOIanZeffFpNT26+WLSeLn/wUfk/ofa6UpOONt/Nm60fTX+gP8YFmLA9Plgu6gFEIgLFmx4A8LM9CmfSaXKVeWbn+bJsE/Gq5bPEywciA0QZMrfWEH/Sl1f2g4NDXd8ArkoO+ZU4PldCJojxk1RoQ6LJZ7u+LBq4BwuXLign6k8zNw7d2yXfzdtiP6Dr583bqpaXW6seJPuIQifuscevld20bRKSJKDghwhyZys2bLrwgbsEwcBaM0/K6X7i1cWG+zft1c2bVivK11/mf29lClbXsOhqYE2KD4ZM3K4pM+QURcmZM4StU0GttH44vPP9NiTPEa4wUrVth2euEqr6Mbxw9u9KzTBBL+rVqOW/mEVpzdSmP98ce7cOUnt8pG7vkxZ+wh7yx22j65w7MgR/YQJGKtoPcGq4LcGDtXjZYsXyo+zvtVj4AiaB71oTl/r+oI0rl1Z7r6tvhx3maEdvvv2S3mqfRt5unM3+er731QziNW8oz+OehYhJOlAQY4QEk3xktfpJ7Q2DpPGfyqdu/VQYQ9/L7/WRx3n4aA/45vp9rfCz7GjR9WUWvfWBvpc+M7BVArGj/44ThsDY7Un2Lt711XaRwesXo0N2XLksI/MPU6fsY+iOLB/r+TKlds+gyBWTVfrgn9W/K2fbtauXqmf2FLEF/e2eVgefSJK8HYL1vc91F4/d2zfqkKYA8ypFW6qrMcFCha6aosYMOvbr/SzlBFcseDimS6v6DmEekJI0oKCHCHJFEcQumib42CWXLwgav+zu1s/oJ8QpmB+gwYKAgf+atW5VbezAJ98ODja5OcWrC5fvmQf+Sbm968Wyj4d+aHuweY8F39PPNNZr23f+q/88N0V7ZPze/jIBUOLO++JFgr7v9EzxvORnuFDBsg6238txrXLV8yb7me5v1Olao3oLUfwWjMHvM0Bgp17A16YWQcO+0TDvp42OYbJ+M+li4wgt0qFvaeej/JXAyeOH7sqv157o7/u3ecGe/090uFJTc+wQe/aocHhCPQHDuzTz2LFS+hn7XpRq4EJIUmHVH0M9nFAjp6O8rkghEQueHPAzG+/lK+mTlYhDhqbDevXyQcD+km2bNml0/Mvy9MvvKSb/HZ55nHZ8u8mdZh3zJEb1q2R+b//Ktu2/KsLHjDYly1/g0wY84ksXRS1XcXFCxekSLESahL0xqYN6/T7a/5ZYYekkCJFi0U7/E+dNF4Gvt3HxCeHlChVSrJmzSZnz56RP5csijYfwp8PPlzwo/vM3AvaIvi+FSxcRAUPvB3BH7e1uEsyGIFr9vcz5KsvJpv07pSF8+bKlM/GSsOmt0nNWvXUJwzxxOa84PyF83rvM6dP68rXVcv/0nDId8VLlNT4p0ufXipVriKLFszTBRHIR6z6nPvrbHm191vmmTH3lsKChUZNm8uqlctl8vjReq9FC+fJe2/20rc+DPrwExUMIbzBxIytWA4dOqjPy5Y9SvsHDSnu8fuvP6sfo0MDI3CXLV9BJoweIYsXzlctI0znP8z8WvLkySttHungVSN3s21ix+KOLCbvYVJtcVcrFSi9+RwSQq4me6aYWw3FF9wQmBCS5IGpF4KZt4194woEJAhbhw4eNIJY7ugtVuIK7ouFBKdOnZKChQrr9h2BOHLksOz8D2lNI8VLlpL06TPYV4IDWr8cOXPZZzFBHh48cECyZMmiAnYwrzmDSRbCemEjZGN/PUJI8PDNDoQQYvhv+1Z9gwI2K17493qvTv+EEJLU4JsdCCHEkCpVakmTOo2kTZvWHLPLIoQQN9TIEUKSPDDxpTbCnPsVVoQQkpShRo4QQmzwVgcKcYQQcjUU5AghhBBCIhQKcoQQQgghEQoFOUIIIYSQCIWCHCGEEEJIhEJBjhBCCCEkQqEgRwghhBASoVCQI4QQQgiJUCjIEUIIIYREKBTkCCGEEEIiFApyhBBCCCERCgU5QgghhJAIhYIcIYQQQkiEQkGOEEIIISRCoSBHCCGEEBKhUJAjhBBCCIlQKMgRQgghhEQoFOQIIYQQQiIUCnKEEEIIIREKBTlCCCGEkAiFghwhhBBCSIRCQY4QQgghJEKhIBcHTp44LnN//VmOHjlihxBCIpWdO7bLtCmfsT0TQiKKFJbBPiYh8vXXX0uRIkVk9uzZ0qNHDzuUEBKJdOnSRc6ePSsfffSRHUIIIUkfauTiwD333CP//fefPP/883YIISRSuXz5sgwbNsw+I4SQyCDsgtz+/ftl9+7d4ij6Tp48qZ8Oy5cvl4EDB8qyZcvskLiDZ3k+J9x8//33cuLECfssCpxff/31kiFDBjsksoE2YsWKFXLw4EE7xD9nzpyRr776yj5LPhw5ckTz6fTp03ZIaKC+QosbKJ9RpyFcuNm1a5csWLDAPruaf//9N0bbwrNWrlypbTIYkmsduHjxojz22GOxLlNfbN68WTZs2GCf+SbYOuHwzz//yKpVq+yz+AF9+S+//GKfxSTY+O7Zs0e2b99un4WPw4cPy4EDB+wzQpI5pkHGmXPnzll9+vSxChYsaDVr1szq2rWr1aFDB+vxxx+3mjZtan/LskxnaVWoUMFKnz69Vb58eevSpUv2ldhhBh1r9OjRVtmyZa2xY8faocExffp0jUuePHn0HkePHrVM52B16tTJyp07t9WzZ09rx44d+l3EG98zHZeeO9x7771W3rx5rQ8//NAOiWwmT55slSlTRvMhEMibu+66y8qWLZsdknzo0qWLdccdd8Sq/qLO9ujRA7Mcy0xq7NCrmTdvnjVu3Djr+eeft0OiGDJkiFWnTh37LCY///yzlSNHDuu1116zQ6J45ZVXrEaNGtln/kmudWDYsGFWvnz5rNatW9shcQf9BvoS9DX+CLZOOEybNs1Kly6dNXjwYDsk/BhhXvvoFi1a2CFXCDa+x44d07qUJUsWa+PGjXZo3DCTZ6t3797WzJkzrV69ellVqlSxtmzZYl8lJHkSZ0EODatq1araqKdMmWKHRoHGhg7HYcSIEVarVq0sM4uzWrZsqQNVbFmzZo0KjGnSpNFnhyrIgSeffFKFQAd0vHfeeadlZqF2yBU8B+2FCxfqM5GWBx980Dpy5Ih9JXJ57rnnrM2bN9tngfn222+TpSB33333ab2PLRjgghm0Fy1apAKdJ/4EyObNm18lyF2+fNlq06aNTlYCESl1APmybt06+yxuQGjt3r27Tki7detmzZ8/374SGsePH7c+//xz+8yyfv/9d+udd96xz/wTbJ1wuPnmm+NVkAPIC2+CHAgmvojf6tWrraVLl1rPPvusHRo3+vfvb7311lv2maXxQ90mJDkTZ9Mq/MP+/PNP+d///if333+/HRrFHXfcIY8++qh9JmI6HzGzScmaNat+XnfddfaV0DGzRXnvvfekRo0adsjVmPTZR95JnTq1pEqVSo/N4ChGsJPOnTtLo0aNNMxNypQxs6p06dLSvn17yZUrl0ycOFEuXLhgX4lcXn75ZSlVqpR9Fpi0adPaR8kHlPOQIUMkc+bMdkjoBJtvJUqUkLp169pnV/Csi2683TtFihTy6aefyvnz5+0Q30RCHYD5E/0OzKHhAG3fCFyalnfffTfW/RLyzm1qLF68uBgB0T7zT6j5mBD5bibJ9tHVBPP8hx9+WG644QapVq2a9OnTJyzllTNnTjGTaPtMdLGZmaDYZ4QkT+IkyMH/AUIMuPPOO/XTk169etlHog3wqaeeknvvvVfy588vW7du1XD4YuD3ZcuWlQ8//FD9fDCA4XzmzJn6HV84gpgnuE+6dOn0MxAY4CCUQRBt0KCBHRoFhMEZM2ZI8+bN5bfffrNDRXbs2CFmdigPPfSQdOzYUYXCbdu2acf9xBNPiJnVS+3ataVKlSrqo/Trr79K1apVpXLlyurf4gkGk/fff1+F3xdffFHjhMEFwuXOnTv1O+gIhw4dqp1i48aNddUsWLRokXaaI0aMkJEjR8qNN94oZqYqZtas3y9Tpoze19PHzwH5/8wzz2hZQiCfPn26hsMX64EHHpAxY8boAAd/wHbt2l3lt7Vp0yaNDzptb/5bwaTNicPbb78dIw6ewN8GdQrCFOLi+PD4+v2UKVP0fO7cuXqOCQTOUT7eQNqQZ4gf8nD8+PH2lSjfODz7448/lrvuuksmT55sX4kJ/KIwqL/11ltaJhD68UwnrQ7wgUPdgeA0fPhwO1R0YoR2grJEvVu9erWGwz/u9ddfl/vuu0/PgwFxxGpMrKp+4YUX5Pjx4/aVmERKHTh37pzmDfz4sDBh3Lhxfsv41KlTKvThuc5qVMQdz8akDdfRxtGWkU+33367HDp0SNsa7lu/fn1ZunSpdOjQQUqWLOlzMQTShrz77rvvpHfv3ipszpo1S9s/0o4+7aWXXtL04Ts33XST9nF79+617xCFrzrhC0xmIXgifk6Z+MpHtBWco69DfMD69eu1PqF/8gf6NizuQj5t2bLFDvUdX8QFbQd50aZNG/nggw80PNh8nTp1quYpnvf0009re0d+om/95ptv7G9F9X1oi4Qka6CWiy1GkFD1Ov48/cc8gQkG3/v000/VNGQEMPWVMx26Xjedu16H/wMwHY6em85Rz31x66236vc8Taums9LwRx991A65GtPZWaYTscwAFENd78natWutlClTWj/88IOem4HHMp2XHiMt8FkygpSaWY1gZ5lO2jIdo5pqzACipmfT+Vim07OMsKh+Rb6Aj44ZDDVf8AzTgdpXovIIJmWA/DbCo5qXEB/Tkeq9YcpAPAoVKqQ+fDBrmIHJMp29T1MMfBlhWgLwkTJCth7DBwr3gbnOCBeW6fzVVO6UNfIDZThp0iQ1teA+9erV02ve8Jc2X3HwBGZsIwjrsRkQ1XwP/P0eeeOuR8WKFYthAnNjBltNDzACvNYhxBPlXKtWLfUdAv/995+VIUMGLVdPjMCldaJatWpaL+G7VrhwYctMEvT6mTNn9L6vvvqqZQZdywx4mq9m8NfrRliKrmtm4Io2HcEEiDpbo0YNPfcG6pZjWkX5od7iecAIlOre4I1IqgMwayP/nHoA/JUxfKgQx++//17PAfqZZcuWabkiTk7ew/erRIkSGj+YWPEctDuUN+KUNm1abcfegL8WfO2AERA1Pvj9hQsXot1JkHb0myhLmEfxPBCoTniCOoCyRn9ghDFNH/oc4C8fUZ+qV69un1l6f/QT3kA9ckyrRpC3jDCmxyBQfPF8+HMC5CXSagRnzYtA+QqXApSBEQb1HO0GcUQ63aAOIn4oQ0KSM3HSyPnS8HjDDGQ6C82YMaPs27dPzUNYIYcZHfA0F/kzHwUDZnCmIxcjvNgh3oEmDXHC7NXXCq1y5crFMKWNGjVKZ9x4BrQ3BQsWVK0CzKyYmZqBTzV7MD9g5olnYNaYKVMmnYVDm+eLTz75RDU/zZo105msGZA03HSGql0xnZc+9++//1ZNG7R7eB7+oPGDRgTxgBkbcYFZA+YI5L2v5z7yyCNqAsczkA7HVIEyQ9qgpYBmATNn3BOzcwfTeYsRrtRcDo2Mo2X1hq+0AV9x8AQaGWhYsBIQ2iqkC/j7PfLfjee5A+oiytMMuHoOjRw0FTDfzJkzR7UYlSpV0msIgwYXGgNPkGdIG/Ie2g/kS9++fVWjCy22AzQhefLkkdtuu03T5Vx78803VZtrBntNh5OWHDlyaP4HS968ecUIkmIGedUSok35ytdIqgPe8FfGMFFD8wNNKoC2yEyAtL3MmzdPtbzQfqJdQUOH/gDaT2jPAX6L8kbaELdgVgDjHmiLDk7fACvD3XffrWV5yy23xMhH4KtOeAN9C1xM0A8gjU6++8tHaJRhIUD/AaAdg4bVH9CMYWU+2p0n3uILrS80cChjABMttMHQ2GGVc6B8RTvJnj27ugQAlBO0pEinG6yWRp8Y17GCkEgnTi3A3bCwn5o/0HjRQBcvXqzmTqeRmtmUfoabbNmy6UCBT3+gk4HpAZ0OzLu+hDknvgBmpJo1a6ppBn8wAzhmV/f3AEy/RmC2z6LO/aUZHTwGfZgMMIg6YLBBZ+c808x41eQGMzWIy3ORFpiwsS0MBEL37zw7SeSXr/tAcPXnK+grbcBfHNzgOoRoDJKPP/64dvgg2N/7A+WKtCGvANIOgRyfy5cvvyovIOBv3LjRPrsad5nUqlVLPz1NacDxN3LyrmHDhtKvXz81EULQcafFs5z9gftWrFhRTXoQ+PPnz+8zXyKpDsSGbt26yY8//qhbdvz000/RQgbKHPFw2hWEObQr+Ld5Szfw137deJZVqPkI/OWlG3e++8tHnEPQw8QVIE8wIfIF6itcOQKl2R1fmGsxSXenF20F1yBsBsrX6tWr60QNExkAUzEmNm4g2GFygckDIcmdmC0qRNDgnFknNBbewKALMMPFoILZODqRQJ1cXEGn8NdffwXV6aIj+eKLL7RD8yfMOUDDhQ7QzZo1a+yjuAGNAGbMmCXD/87pnDGjR97Br8TN2rVr7aPYg9k7ZtPwoypatKgdGjv8Db6+0gaCjQO0mhACJk6cKN9++60OvsDf74MVfnLnzq3amj/++MMOifLpQR5DuwVNstvHDJout0bJH85AB82JL5B3ENYxEMOnC/5jcRmoIJBgsMNADP8mR0D1RiTVAW8EKmOUE3z90Pdg4oVJHkBbhk+fYxkAEBySyh5loQizzncD5SMmgfD7nTRpkmq0/fW9EP6xUAa+afBLDATigLYCICQ7oK2g/kGQDAQWm6Huw8cUz4YPYM+ePe2rUaAdOpMjQpI7cZae4NAKMwK0WtC2uUFDfvXVV/UYpguY9qBah6DkrGByOnJHc4YOFZ09ZnUgUEfm/N65nwMcl6GSh9O5L/AbR9CDMIcOHiYCOARDSHCDeDhxgbD3ww8/yBtvvKELCjB7dBYeuL/nEOjcDZzZ0QHDnAGTCJyFAQYcdFxt27ZVARUz3gEDBkQPznF5LjQUMJ8BmOCQJygnCOEQbHzdB5/BPgP4ShvwFwc30JgADMqDBg1S0xHw93to7RyzMjRoKDNc8wSaGWiOYQbC95HHEIIwmME0DqEKg58DtFzQCvrCLfQtWbJETWqIizv/3OAcbQbO5EgLznGMeupoJxDm+Ts37uu///67DqAQftGuIIi67+UmkuqAYzZFOCaIIJgyfuWVV9Qch0kR+ixw6623qvAMoRJ1CZoeLITAd5BuEGz6EC/ECfmLuuN8z/kMlI/uTwfPcweE+/puoHyEYNS6dWvp1KmTmjd94TwD5lMIVpgMOAKu8yxvcYA2E/k6YcIEOzSqrcBlIZh8Rd8PzR200lhIASHOmQg5II/9mZ0JSVaYxhNnsBjACECWGTAsI2jo5sBwZIYzq7Pf1syZM3XPN2yQOWrUKKthw4a64AF7FQE47efIkUOddo2gpM7iiB6c283sUr/jZvfu3epMjGfie/Xr14+x5xacbREOZ1xvYPFFqVKl1MkW8TGDijrNIj74nZnh64KJP/74Qx25EYY0mY5Mf480mpmshmMxAxx+semlEbbUORxxwTk2REa6fvzxR8sM0uqcmzlzZmvWrFl6HzedO3dWR3E4jSPNcGbGM/r3769OwrhfuXLl9JmItxGO9XfYr8p0kLpoAw7BcCYuUqSIOkSvWrVK44K0YhHGypUr9TdusHcY4mQ6bN0cGeWCfZ+MwG0Z4UXjjLjDWRybe6J84KSOskY+wdHZDKJWu3bt9Ldw5vYkUNp8xcEIHvYdooDTPZ6L/ER5IK3A3++xXyEWJqAsEFcs/IDjORz3PYEDPRytkceoq6gnDnDsN4OUOnEbIVo3Bkad8QYWveA5iIuZ5Gh6kUeID36L+2MfRIQZgVTPsQk18gdO80aoVMd0OOUj7kiDGdw0Ddi3zXFsd4PFCPhdzZo1NR2oL2YCoOWOzVPh1I+0wZnck0iqAwD9B9ICR3kQbBkjHeiv3KBvMoKglgE2BUb+4JlYHIQwbKiMtBnhU8+xCMAIxvavr9C3b1/NK/Q5SKOZROr3sQACi5DQT6D+YA9KtEOUMxZbodz81QkjgNlPiAJ1H3WgWbNmWsbuMjHCaFD5iIUeWBzlC8QP/Qf6MrQx9CsoZ2yijjoRKL5YYILvoo0gDqgn6DuDyVcs0HL6ddQPpAULNNzlhg2usScpIcSywvrSfNN5qfMuZlzYcgGaADeYEcIx2nQsOvvCLNGZGQNoMDDDhkNwIFNJIHB/aDPgnB3Xe/kC8cUMNT6f4YmTLjgYx8Xs5gm0NTCJIB1IVzjvHSyIg+m0td74igM0HdAwwCcT5jJ3/fGXBtRL+GdB82sGD3Wy9gXuj4UN0NC57w9gsoLWrECBAqpd8AW2g4GWCM7l0IahjgQLng+NA8oYxKU80MagcUK6cV/kn2e7dIiUOuCAxVZGgLHPApcx2g40qEawsEOugDyCFgimb0/tTyh4ximxCFSWEyZM0PYDzVl8gfw2gqYulAjFVA43HcQZC8OgtUWeQrOI7ascjTyuYxzxVZcJSU6EVZAjJC7AJASzNgbUYHxpkjKOIBfMPobkCvFRByDUQYjFvSGAwzUiOYI8wGIPuApg8Qf8TJMaUAKg3LF4DBN6B7jtYJLfqlUrO4QQ4hDeFQaExAG8pQNbFGCwjWSw0g8aBPj6QKNAgic+6gC0cNC0YeVxchXiwLJly9QHFAsc/PkOJyYpU6bULXtQD7Bi/L777lP/VPgFU4gjxDvUyBESZrBHGRbsAGjl4FxOEg+UBbQ5cPdI7jhuATBfJ2XgjoDJEAQ7bF3ibFFCCLkaCnKEEEIIIREKTauEEEIIIREKBTlCCCGEkAiFghwhhBBCSIRCQY4QQgghJEKhIEcIIYQQEqFQkCOEEEIIiVAoyBFCCCGERCgU5AghhBBCIhQKcoQQQgghEQoFOUIIIYSQCIWCHCGEEEJIhEJBjhBCCCEkQqEgRwghhBASoVCQI4QQQgiJUCjIEUIIIYREKBTkCCGEEEIiFApyhBBCCCERCgU5QpIwp06dko8//liOHz9uhyQNli1bJt999519lnDs2LFDPvnkE/uMuDl79qwcPHjQPgue06dPy/79++2zKBKrfAkhoUNBjpAkyt9//y2NGjWSokWLStasWe3QpEGFChVkw4YNcvvtt8uxY8fs0Phl/Pjx0qFDB6lTp44dQsCIESOkZs2a8vTTT8sDDzwgxYoVk/nz59tX/fP6669LmzZt5NVXX5WqVavKtm3bNDwxypcQEjtSWAb7mBCSRNi1a5fUqlVLfv75ZyldurQdmvT49NNP5YsvvpAff/xRUqRIYYeGH9z/lVdekT/++EMyZsxoh8aN3Llzy4oVK6Rw4cJ2SNLhww8/1LiNHj3aDvFN2bJl5Y033pD7779fz2+77TbZu3ev/t4f06dPl549e8qaNWskVapU8uijj8p///0nc+bMsb+RcOVLCIk91MgRkkhcuHBBDhw4oMdnzpzRTwdoSlq1anWVEHf58mU5dOiQfRbF0aNHNdwfMNGeP3/ePgsfHTt2VHPn119/bYeEn0uXLslzzz0nffv2vUqIO3fuXAyzM+alR44csc/CR3zlXzhYsGCB3HffffaZSOXKlWX37t32mW9GjhwpTZs2VSEO3H333fLrr7/Knj179BwkRPkSQuIGBTlCEhgIXd26dZN77rlHhg8fLnXr1pUbbrhBhRBw8uRJmTJlSrSGxQEmrpYtW0qJEiVUSwJefvllyZEjh2zdulXPvTFhwgSpUaOGam4cYWTRokWSNm1a6d69u5774sEHH5QyZcrIE088oX/p0qXTwd0NhAgIBb6AEASNjr8/CCO+mDt3rgq80DS5gcapcePGUrBgQTUJwterfv36UrFiRfsb4SG+8y+uQLPo1pb9+eef0rx5c/vMN0uWLJHrrrvOPpPoScPq1av10yFQ+RJCEhcKcoQkMBj8N27cqM7kffr0UZ8mDKLOYLx06VLV1lWrVk3PHSCswOQG7RQEPQyuWbJkkb/++ktKlSplf+tqcuXKJQsXLlTNyrx58zQMggkEEfhU+ePw4cOyePFiXWAAzU2lSpVk2LBh9tUoYAKGIOZLKwiNIfy4/P0hPb74/fffpUqVKhpfNzAfQshDnGbMmKE+Yj169NDjcBLf+RdOZs2apabSd9991w7xDjTAJ06ckEyZMtkhItmyZdNPxNlNoPIlhCQy8JEjhCQMRhiwUqdObf3zzz92iGU1atTI6tWrl31mWaNHj7YKFChgn13N7NmzrZw5c1qdOnWyQ4KjatWq1oABA/TYDMxW06ZN9TgY+vfvb5UoUcIywpMdcoUVK1ZAlWjt2rXLDgkvDz/8sGUEJvvsaozwZhUqVMgaO3asHeKdO++806pdu3b0H8rBCMsxwg4dOmR/+2riK//AN998EyMeJUuWtPLlyxcjzHm2L9avX28VL17c+vvvv+0Q35w8eVLLDHXNYd++fRo2bdo0OySK+C5fQkjc4GIHQhIQaGbefvtt2b59u57DxwumsalTp+oKQQCt29ChQ1Vr5w0shICD/rp169TcFyzQWMH8OG7cODHCkWr2oFkKBOKG30Ir5e15W7ZsUY3g5s2bvWoG8UxoGf0B37fq1avbZzFp3bq1GMHV57YjkyZNkpdeekk1dP5YuXKlajodYJadPHmy5M2b1w4Ruemmm8QIePZZTOIr/wBMx06dADCdo/yxGMEB8cQKZm9g+5Bbb71VtZv4DAS6/fTp04sRMKVLly4aBvO8ESBVA1qvXj0NA4HKlxCSuNC0SkgCgsESplSHsWPHqk8cTIcO2GrE335gvXv31gF3+fLldkhwwAl+/fr1ukcYhJVghBCY1J588kl1docQAkHGE2fBhmOa8wSmunfeecfv36hRo+xvX42//IDZ9quvvtI4BHLwh1kTW2w4f8gD+NN5hvkivvIP5MmTJ0Y8ILBBwPcM8wYWg0DY7dWrV7QQh/xCuC9gxi9Xrpz8+++/dkiU6R7pQj65CVS+hJDEhYIcIQkIfNqczVf/+ecf+eGHH6RQoUKSL18+DQMYYLHy0j3oQ4OyatUq3e8LgzWc2bHCEH5OEBYA7nfHHXfoxrDegCACLQ9WxEJ4cvO///1PBRQ3mzZt0sUV0IRBQwMhpm3btvbVK0BDCI0ZBA9vQHvobYGD+8+fIIf8wDPcQFBB/BAfaDjxnd9++03zaOfOnfa3wou//EO5jBkzxj6LItj8iytYMJMhQwbd+w0LFaD9xKIPp/54ixvA/nGofxcvXtRz+NdBIPQU2AKVLyEkcaEgR0gCAud4aJEw6MJEB6HM06QIgQEamp9++skOEVm7dq1qSqAxeeSRR+Tee+9VsyBWFGIVK8B9MRjDXOsNrIzFVh0QJvLnz2+HRoEB3a3RguDYokULFRAgMGKlZcOGDeXmm2+2v3EFCGKeK0rDSbNmzXRBh1srB3Ml8gMrQaHpglAC8+rgwYOvSlu48Jd/EJ4gSDuEkn9xAato33zzTZk9e7bWKfxBUwize+bMmfU7nnFzgEkVGwljUvDMM8/obyAUehLf5UsIiSOmwyGEJAATJ060jHBmXbhwwTpx4oSGYaHDRx99pMdu3njjDatly5b2mWVdunTJOnLkiH0WxbFjx6yLFy/aZ5b16aefWvXq1bPPrmbmzJlWu3bt7LMr/Pvvv7p44sCBA3ZI8Jw6dcoyQqe1ZMkSOyR+aNCggTV06FD7zLLOnDmjz3Zz+PBh+yg44OgPp/9g8ZV/ly9ftooVK2bNmTPHDok7q1atsowAaJ/FnmDihrpoJgH2WUwSqnwJIbGHghwhCUS2bNl0BaDDsmXLdJD0FNAABJUqVapctYLQFxiwW7VqZe3cudMOiQLCHlYzYpVl/fr1rxJ+QLdu3azffvvNPguNxx57zHrppZfss/hj48aNVqlSpawNGzbYIQlDMPn3+eefW4MGDbLPkhZxjVtClS8hJPZw1SohCQQ2h8VeXDCLwu/IDLLy3nvv6YbA3oCpFKsd4T8HP7DYvJrqyy+/lHbt2qmzvBEK1WQbDuArhk2NYRbG3m0JAfy/OnfurH5cnTp1skPjl/jKv6ROYpQvISR2UJAjJAHBqlU448NxHLvqp0mTxr7iG6wsLF68ePSrlEIBwiAWTjh+dOECCzawIW727NntkIQDQkZCvX82vvIvqZOY5UsICQ0KcoQQQgghEQpXrRJCCCGERCgU5AghhBBCIhQKcoQQQgghEQoFOUIIIYSQCIWCHCGEEEJIhEJBjhBCCCEkQqEgRwghhBASoVCQI4QQQgiJUCjIEUIIIYREKBTkCCGEEEIiFApyhBBCCCERCgU5QgghhJAIhYIcIYQQQkiEQkGOxODs2bMybtw4Wbt2rR0Sfi5duiS//vqrbN682Q4hhBBCSGygIEdiMHv2bBk+fLgUK1bMDgk/mzZtksyZM8tbb71lhxBCCCEkNlCQIzFYtWqVfPfdd5IpUyY7JPyULVtWtXKvvfaaHUIIIYSQ2BB2QW7//v2ye/dusSxLz0+ePKmfDsuXL5eBAwfKsmXL7JC4cerUKTlw4IB9FnsQz+3bt8uFCxf0HPcFSAe0VAcPHtTzxGDPnj0at1A4duyYCmS+2LVrlyxYsMA+u8K9995rH4WHNWvWqHDoBnkMjVzBggXtkChg1v3222/tM0IIIYQEIiyC3Pnz5+WNN96QQoUKSdu2bWXIkCHy2GOPyRNPPCGtWrWyvxXlG9WuXTt5/fXXpX379nL58mX7SujgXrh/1qxZJW/evHLbbbep8BIqc+fOlbvvvlvefvttFdj69u0rzz77rMb/3Llz0rNnT2nWrJns3LnT/kXCcvz4cWnQoIFUqFBBTZLBsGHDBmnevLnG3RfTp0+XV1991T6LAgJXw4YNpXr16nLmzBk7NPZ8+eWXei/4w7l5//33pUmTJprPbiD0of4gzYQQQggJAiuOnDhxwqpatSrUb9aUKVPs0ChmzpxppUuXzj6zrBEjRlhGsLMOHjxotWzZ0ho3bpx9JXT69+9v3XHHHdadd96pz8bf888/b18Njs8//9wqWLCgtW3bNjskihUrVlgVK1bUYyMc6r2XL1+u5wnN4MGDrdWrV1tLly61jOBjh0Yxb948a926dfZZTD744AOrUqVK9pl3jDBsH0XRvXt3LRvky6BBg+zQ2DF69GiNe+HChS0jKFtGYNbwvXv3WkbAtIyQrOX1559/ariDZ5wIIYQQ4ps4C3KPPvqoCjr/+9//7JCYdOrUyT6yrCVLlliXL1+2zp8/rwP2ggUL7CuhM2vWLPvIsrp06aJxqFevnh0SBZ7li/3791tZsmRRgccbb775pn6eOXMmUQW5AwcO2EeWClkXLlzQ41OnTlk33XST9c8//+i5Jx9//HFAQc7N2bNnrePHj9tnlrVnzx77KHasWbNG8wxxfPnll62dO3dquDs9IK7PIYQQQpIzcTKtwndr4sSJenznnXfqpye9evWyj0QWLlwoTz31lPph5c+fX7Zu3arh8KvD7+EE/+GHH8q///4rdevW1fOZM2fqdzy5/fbb7SORGjVq6GfFihX1E+A+6dKl009vTJ48WU6cOCFGALVDYvLcc8/ZR1HAh65jx45SqlQpXdXpAPMwTIW9e/eWNm3aaHovXrxoX70CzIVGaJRbbrlFduzYIa1bt5bSpUtrPLZt26bpuf7662XKlCn2L6LuPX78+Oh74/cAJl/k44oVK2TYsGG6XYgv4CeHfEF+On6J8I+Defu+++7Tc5AqVSoZO3as9OnTRxo3biyLFi3ScPjRPfDAAzJmzBh59913NY4wj/syi8O3sHv37vLVV1/JiBEjNN0wueMPoM4YwU7Nuihzx2R9+vRpMcKnVKlSRdMH5s2bp6ZZTz9LQgghhNjYAl2s+Prrr1Vbhb/Zs2fbod759ttv9XuffvqpauOM4GClT59etXPgxRdf1OtGaNFzaPhwbgRFPfdH3759rbRp08YwM7Zv315/D42hN4wwYqVIkcIyQpcd4h1HI2cED9XiGcFKzcVG8NDrMEcOGTJEj5GWm2++2ercubOeu4EJ2giA+lsj5Ojv33nnHStHjhxqhjx69KhlhDIre/bs0ZpEf/fG/RAvfxo5IyxbI0eOVE1os2bNrFy5culzDh8+bD3zzDOWEYDtb0flP7RoAGWZOnVqzU8jdFpGCLOaN2+uZlAjZGsafJX3/fffb33xxRd6DO1bhgwZ1MQKdu/ebd1www3ReTdt2jQrc+bM+gxoGFHWSBPyHKxdu9Z67LHHousIIYQQQmISJ40cNFrBUrhwYbnpppskY8aMsm/fPkmZMqWuUnS0LTh343nuC6yAhNYKWjFo8Byw4OLzzz8XI0TYITGB1scIK6qJCgZor/LkyaOLKvBbaJYcLRsWQ4A0adLICy+8oBo7z7zBKs1y5crpM++55x4xAo5qvo4cOSIPP/ywZMuWTRc1GEFL8ySUe/siX758uiAEWq3PPvtM7/vjjz+KER5Vs+hgBCXVDGKxB/Lt77//ljJlyogRErXcsLoUGkNoy0qWLKm/hRbREyyWmDFjhmobQe7cuaVSpUp6DKAdvfHGGzXtAAthkKcIR70wQp6GOyC/Ro0apWknhBBCyNXESZDDYO/w33//2UfeqVy5svz222+yePFiHbhTpEih4Vh9Ghf69eun5lHPFZAQjGCOxKc3YCKEELh37147JDjSpk2rn/jt+vXrVRh1C50QPnDNMRu7cdLs4AiRRqDWT+cceRLqvQMBoapEiRIqgAJ3XLC1CYS5zp076x9Mo6tXr47eisRTqIZg5a3cULY5c+aMcW+3oIytZ9z3wvcgfG/cuDH6nBBCCCHBEydBDpoeR4syZ84c/fQEvk8Aflnw1YIGClt9eA7awWrg3EAwhHZv0KBBeg6fKghAAILGX3/95VNQhJCHZ37zzTd2SEwg8Dhx9waEL2x7AtzbgqRPn16FF8cnLLbEx72RHghznuTKlUvLZenSpXZIFKG+pgsCHgRjX1uXIE2eW6ggTfH5FglCCCHkWiZOghyAWRNmMexLBo2MGwzazl5lI0eOVCd/DPK//PJL9IIAaJiAozmD+Q8O845A5mirPIEG8P7775epU6eqeQ6aIJghHZNhly5dpGrVqupY743y5cvLM888o4sT1q1bZ4dGcfjwYRXwkC7n+Z7xwHnx4sXl1ltvlQkTJtihoubIli1bqnDkCX7jLT2xuTdMtADCGYTkQGCPNpg0sb8ccMcFeVerVi3dww3CLzSBAwYMiNamYWGDtzh6Ur9+ff0NzNwA30H8HMEOewf++eef0QIiriPvH3300ehz9yfMy7NmzdJjQgghhHjBDJpxBk7pt912m5UpUybLCANWnz59rI4dO6oDPZzyAfaUS5MmjZU7d25r1KhRVsOGDXXBQ7du3fQ6HOvh+I8FENgbrk6dOhjNrQcffFD3HHMDZ3hsrYHr7r/KlSvb34haKIAwLFLwxaVLl6w33nhD95LDoggjvOhiCyOI6DYfWAiBMNyna9eu6pSP/dVwjr3QjJBibdmyxapQoYKFLVCwaAHp99xiAxw6dMh68skn9bfYPw8LJ1566SU9Hzp0qO6vhrzAOfbIg4N/oHsjD0uUKGFNnjzZDrkCtv7AXnhYLPDJJ5/o4g/cD2zdutVq2rSpZYRn69dff9WwjRs3WuXKldPnY+EIFkmAOXPmWFmzZrVatGhhGcHc+v7773XbFpSREab1O26wmAWLIbC4AuktXbq0xhN74YF+/fppmpAHSNeYMWM0HPv1YZsSPB9bwiDvsfghZcqUujiDEEIIIVeTAv+YwTMs4M0KcIKHBgdba3i+rxPaGWwJAq0NHgtNDbReDtDAQLsEv6m4+kvh/kZwUef8QPeCfxjehgAz7HXXXacLE0IBz4KfFzReRYsWtUPDA+4NfzXkJdLiCRY+GMHKPrsaaC6DNcc6eQYNJ96YEVugVYXJG/HF9iJFihSxr0QBMy7KGdfd5e8J4oP7YKsaQgghhFxNWAU5Ej/gdVZYOQozNiGEEEKIAwW5CADvKoWWEItLCCGEEEIcKMgRQgghhEQocV61SgghhBBCEgcKcoQQQgghEQoFOUIIIYSQCIWCHCGEEEJIhEJBjhBCCCEkQqEgRwghhBASoVCQI4QQQgiJUCjIEUIIIYREKBTkCCGEEEIiFApyhBBCCCERCgU5QgghhJAIhYIcIYQQQkiEQkGOEEIIISRCoSBHCCGEEBKhUJAjhBBCCIlQUlgG+5iQJMEdzW+T9evXS8H7e0ipuv+Ti2dP2VdIUiJlmrRy+uBumdahph1CrjX27N4jt9a7VY7kOCKlC5WWD179QKrWqGpfJYQkBaiRI0mOP//6S3bv2S0ndv8rl86flRQpWU0JSQwmfjZRrr/uermY/qJcKnNJBn08SLZt2WZfJYQkBThCkiTHhx99LGfOXZBDm/6Ri+fOSIoUrKZJmRwFi9lH5Fpi7969snvXbmncuLHkyJFDcpbPKTsy7JBxE8bZ3yCEJAU4QpIkx8CBA/Xz0KYVcmLff6aWspqS8DN16lSpVq2atGrVyg5JWD744AMpUKCA3HLLLXZI0mHx4sXSr18/aXFHC+nbr6+ULVtOMmXKLFmqZ5X9lQ9I3f/Vtb9JCElsOEKSJAW0ALt27dLj8yePyeEta/SYkHCDurZ161b58ssv7ZCE5YsvvpAUKVJIy5Yt7ZCkw6VLl+TPP/+UP/74Q1rd1Ur+3bxZ9u3dJ1s3bpHMBTNL/ob55d6H7qWZlZAkAAU5kqRYsWKFXL58WY8vnjstBzcslxTmP9E/QsLDzJkzZdGiRXLo0CE7JIrPP/9cunTpIoUKFZIHHnjADg2dM2fOyOrVq6Vv377SsGFD6dOnj33lCt27d5c6derI6NGj7ZCkQ7p06eSOO+6QDOkzyK6du+TChQuSOXMmKXldSTl35pzc2ORGOV3ktNxSL+lpEwlJblCQI0mKp59+Wvbt22efiWrkju3aIilTpbJDCIk7//zzj5pW8+XLZ4eIrpR+7733ZPPmzaoV7tatm5QqVUpGjhxpfyN4Tpw4IRkzZpTnnntOatSoIStXrrSvXOHOO++UadOmyfbt29UPLSlRtWpV6dGjh3Tr3k1Nv4ULF5badetI1WpVJXu2bDrZqtnxFqnUppJMnjDZ/hUhJDGgIEeSDEePHpWSJUuqWSdN2rSqhDu+d5sc371FUqRKbX+LkLgzZ84c/YRGzAGmzmxGSMFkAuzcuVMqV64sa9aEbt7Pmzev1mUsEoB2LmXKlPL111/bV2Ny7tw5+yiyuHzhkhSvU0I++uIjWbp4qR1KCEloKMiRJMP3338ve/bskeuvu06q16wlGfIUkQsnj8tx1chRkCPhARqwdevW6XHdulec9teuXStZsmSR2rVr6zk+ixQpIv/++6+exwcVKlSQVKlSqdAYaVy+eFkKlikg+RrmkwHDBtBfjpBEgoIcSTJs27ZN7rnnHnmle1fJkyuH3PLcQGnW7ws5uHmVHN+zVVKmTmN/k5DY88QTT+iE4aabbpIqVarYoVGLHxYuXKjCHMiZM6cMHz5cTp48qefxAXzybr75ZtmwYYO88MILdmjkcOnCJal4W0Up+UxJad2ltUyZPMW+QghJKCjIkSQBfIhq1aolb731VlSAZelmwAVuqiulGrSSi2dOm0AueEiKHNm93T6KDJzFNCVKlIhhWk2dOrXUq1fPPov63ssvvxz9/fjghhtuiNb4wTcvKWKZ//wBzVzG7Bnl5ocry4eTP6SZlZAEhoIcSRJUqlRJ6tevb5/ZGGHOunRJClSsJVkKFDMDxnn7AiGxAxo2aH4B6pybu+++Ww4ePCiTJk3S8wkTJugE46p6GWbuv/9+XSU6f/58OyTygDBXqGxBadSvkXSd2FVefeVVmloJSSAoyBFCkg2DBg3SveOwEW/v3r3t0Chg1m/evLk8//zz8r///U9XbebPn1+aNWtmfyM03n33XcmUKZOMGjVKZs2aJQ899JA8+OCD9tUrQJBLnz69rnTFJrxJjiDfxm1djvpiw2cayuGaR+Sh5x6ido6QBICCHCEk2QChCauiITh5gr3joJUbOnSoashgVsUeb27zayhUr15dhcKuXbvKK6+8otuZTJ589VYdeC5WtQJnM+xIRrVzZQrqIoj3hr5HzRwh8QwFOUJIsgDbfJw9e1aP06TxvnAGPmvQnE2fPl03Bo4LDRo0kP79++tmwM6fNzJnzqwrV8Hx48f1M9K5fOmyVGhSQQ7kOCAjPxlJYY6QeISCHCEkWYBFBdirEGCz3qQCzLx4VReIxG1IvEEzKyEJBwU5QkiyANouZ/NdRwOWVHAES/jJJTUsK0gnOS/QzEpI/ENBjhCSLMD+cGnxxhAD/OSSEufPR63Ihm/etQbNrITELxTkCCHJArw3NXv27Hp8+jT2JUwaYHPiixcv6jHeaXqtQTMrIfELBTlCSLIAK1Wd1aqO4JQUwJsjHA1h1qxZ9TMpEWhD4GChmZWQ+IGCHCEk2YDNfrHVh7N61ZMZM2bIc889J7fffrvuAxcXsJXIN998Ix06dNC3lixd6l0Ldfjw4ei3R+TKlUs/r1VoZiUk/FCQI4QkG7ClCF7NtXv3bnnjjTfs0CggeBUtWlTeeecd1ZD99ddf9pXYcezYMalRo4a89NJLcujQIX2Xqze++uqraMESAuS1jGNmbfB0AzWzbtizQc8JIbGHghwhJNkAzVi2bNn0eN++ffrpgI158SL9cC2EKF++vG4t8t577/ldJbtmzRpd7FCyZMkY73q9prkskqdkHhn0ySBZvGCxHUgIiQ0U5AghyYaqVatGC3JYZJAUWLt2rZpWixUrZockMcLjIhcDbGmSNk0ayVQhkwz8aCBNrITEAQpyhJBkA/zj8Bou7NsG/7UFCxbYVxKH8ePHR79lAu93TU5cunBJKt1eSUo9U0padWklUyZNsa8QQkKBghwhJFlxxx13RK8O/fvvv/UzrnTv3l3q1q0r1apVkwceeMAODQxeBQZ/vSJFisiLL75ohyYfsJI1Y46MUrVdNRk2eRi3JSEkFlCQI4QkK+CLVqZMGT2eP3++fsaV0qVL68KGW265RSpVqmSHBubnn3/W7UcgyCVXdFuSsgUlXwNuS0JIbKAgRwhJdjz99NPSsmVL1Yi5qV+/vlx33XXy22+/yaxZsyR37tzy0Ucf2Vd907FjRxk4cKAMHTpUXnnlFQ3DPRo2bChffvmlbNy4UR5++GF9Kb/D+vXr9QX9xYsX11WtSZW4vKIrWGBmrdC0glToWUH6r3xHareoTe0cIUFCQY4Qkuy47777VHuWM2dOOyQKhD/11FPSo0cPefnll/UYK1ljA7Yyuffee+WFF16Qnj17SufOnaVdu3b2VZF+/frJkiVLpEWLFirUEWrnCIkNKcxsK/6nW4SEwJjRn8jMWT/IkRvvlhI1m8rFs6fsKyQpkTJNWjl9cLdM61DTDoksxowZI8OHD5eyZcvqRsEJDZ7Zvn17+fXXX9W/Lqny+quvy+9Hf5dmL98m50+ds0PjjxQpU+h+c3NHzpVbc94qHR7tIMVLFrevEkI8oUaOEJIsgRCFlaIVKlSwQxIWaOEee+wx2bJlix1CgPvdrHsq7uG7WQkJAAU5QkiyBFuR9OnTJ9qnLaF588035eOPP45hbiVXgJm1yI1FaGYlJAAU5AghhCRJ9N2sTaPezTpm7BgKc4R4gYIcIYQQn1jx8WqHIHGbWXfDzPoszayEeEJBjhBCSJIGZtaiNxaRvA3yynsf0MxKiBsKcoQQQpI8amZtRjMrIZ5QkCOEEOKbJLJBFcysKcx/DZ+lmZUQN9xHjiQ5uI9cZBDp+8iFAt68sH37dtm6dav+4fj06dOSLl06SZ8+vb74Pm3atJI6dWp9IT9eA1a+fHkpVaqUhkcyPV/pKfOOzUuwfeSCIVWaVLLht40yb9DvsmPzDjuUkOQJBTmS5KAgFxlci4Lcnj17ZNeuXfLdd9/pC/W3bdumfydOnLC/ERoQ8EqUKCHlypVTwQ6feKMEXgMWKSRFQQ6bBp88cVIy7cgk7Su3lxLXlbCvEJL8oGmVEJLsWLt2rfz000/y6KOPqsYsRYoU+lewYEGpVq2aDBs2TDVuNWvWlFdffVU+//xzWbRokezbt081bngbRMWKFfVl+XgVV4ECBSRXrlySJUsWOXz4sAqDc+bMkcGDB0uTJk3k+PHjMm7cOGnbtq1cf/310c/Ds/FWh/fff1927Ii7Zgnz8j/++EOefPJJOyTu6Fw/hX2SRICZNUu2LHK20Flp+WIrmTJpin2FkOQHNXIkyUGNXGQQiRq5f//9V2bOnKkC1n///WeHRgHB7I477tB3n9aqVcsODS8HDhyQuXPnahxmz56tgqFDqlSppHnz5vpO1tq1a6vJNlRGjBghX331lcybN0/Onj1rh8aN17q/JvNPzJdmLyUdjZxDytQpZceanbJu7FoZ3GuwVK9Z3b5CSPKBGjlCyDXPxo0bpXv37lK9enV58cUXo4U4+LB98sknsnv3blm5cqW8/fbb8SbEgTx58uiL9CdMmKBawVmzZkmzZs0kQ4YMcunSJTXpNm7cWG644QYZNGiQ/avgefzxx6V+/fpy7tw5fQXZtQ63JSGEghwh5BrjzJkzsnjxYrntttuiTZhlypRRbdUDDzygQl3r1q1l2bJlsnnzZhV+YBpNaHLmzCm33367/Pjjj+qHB8ENwhxeol+5cmXp0aNHdPxz5MihQuaGDRvsX3sHWj0IrLjv+PHj5cMPP7SvXLtcunBJbmpxk5R6tpTc80JLmllJsoOCHCEk4jl48KB888036q8GHzYsKMDChYkTJ6qPF/6OHTumgg181KZNmyZVq1a1f5345M2bVzWFeP9rgwYNNH4wjSLeEErxPla8mxW+eRDsbrzxRlm4cKH965hAmPvoo4+kcOHC8tJLL8nSpXHboiMx3+wQLNDMpc+SXu55726ZunuqtH6gNbVzJNlAQY6EHQxCbr7++ms1X8FsREi4gZbqmWeekXvuuUcXDGTNmlUGDBigptKHH37Y/lbkUqNGDRkyZIisXr06enHGmjVrpGHDhvLss8/a34pJsWLFpGnTpnL+/HmZMWOGHXrtw02DSXKEghwJO/fdd58Oqli9t2nTJh1s/vzzT91zi5Bw8e2336rJFFqq33//XcaOHStbtmzR1aIvv/yy/a1rB2xZMmbMGJ0QQUv3+uuvy6effqoaOrS3nTt32t+MAlo7LJrAitijR4/aodc23DSYJEcoyJGwAxPQggUL1JF71KhR6siNQQjbMBASV+BP1qlTJ7n77rvV3+2RRx5RMyOc+7FnW1IymcYHaEfQ0vXs2VMmTZqkGkiYlbFtCrZJcTYieO6559RMCxMtzLaxJgL3NeAiCJKcoCBHwg4GGPghdevWTR3M77rrLj0mJK7gjQodO3aUkSNH6jkWBHzwwQe6+jQ50rJlSzW7FipUSPbu3SsPPvig3H///bJ//359ywQWSWBvPGjwkhs0s5LkAgU5Ei9gJSAGlvz586v2hJDYgq004OeFrTuKFy+uK01//vlnGT58uApyEFaSM/Cbmzp1qu4dB19U7FOXL18+9ZPDVipY7bp+/Xp1eUhO0MxKkgsU5EjYwWpB+OXgfZNYKYgVdITEBpjnsXkv9l7DylT4fEErh73Wnn76acmUKZP9zeQN8gVviMAE6ocfflC/QeyVhw2OsUcehDr41sVmBWuk7xlPMyu51qEgR8IO/HGwWg4bnWJA+eWXX+Tdd9+1r0YBx2yE//XXX3YIITHBi+qhecMrslCfWrVqJV988YV9lfiiSpUq6jMH/zjk4VtvvaXbmmB/PbxRIjlCMyu5lqEgR8IO/HGwfxdMX6NHj1YndKywwyuJLl++LJMnT1YzUKNGjfSVRf369bN/SYjIkiVL9A0MuXPnVh9L+MBdvHhRnffh70UCg9W82JIFL/vHK7+2bt2q4dhHD+bX5AbNrORahoIcCTv9+/fXVXXYFgGLHvDOyA4dOqh2BZoBOGTjD9ex+/6pU3yXKrnCwIED9a0LEOQwIXj++ed1k9tbb73V/gYB5cqVU9My2pG3P7y9Ai/xR3t0wDYk2KoluUIzK7kWoSBHwg5eg+QGmgFoVrBJqzfgw0OIAzS10MjBPw6+cSS8YDPhUICPnBEN7bPIxzGznip8WmrWqWmHEhK5pDCNNLI9WUnE8vfff6v5FdslYBd6hzGjP5GZs36QIzfeLSVqNpWLZ6mxS4qkTJNWTh/cLdM6hH8wxPYZeG0V8Q0WgRw5ckRX9UIDFwh09TBRZ8uWTXr16mWHBuaVl1+RRacXSdOXmsn5U+fs0MgndYY0Mu/D36V9lfbyUNuH7FBCIg8KciTRgL8OduPHDvR4wbcDBbnIID4FOZJ0uFYFuZSpU8qONTtl3di1MrjXYKles7p9hZDIgqZVkijAXw6bunbv3j2GEEcIIQkB/eXItQIFOZKgwLTTt29ffTcktifBC8+xKpEQQhKaSxcuyU0tbpKSz5SUli+2lCmTpthXCIkcKMiRBAX7gWHX+fLly+uL9LGXXHJ8fRAhJGkAzVzmXJmlartqMmzSMG5LQiIOCnIkQcmYMaM8+eSTusM8XiWErRDwom9CSNIkObhRQzNXsHQBafROI3l5/Mvy6iuv0tRKIgYKcoQQQpI9zqbBjZ9vLIeqH+amwSRioCBHCCGE2EA7V7hcIclbn4sgSGRAQY4QQghxoZsG31ZB9mffLyM/GUlhjiRpKMgRQgjxiWX+S27QzEoiCQpyhBBCiBdoZiWRAAU5QgiJIE6dOiV//PGHTJ48WTZu3Khh69at0xXgeGVXbME9k/ML9X1BMytJ6lCQI4SQCKF06dJSrFgxWbBggdxwww2SM2dOGTRokDzzzDMyf/58yZEjh/3N0KlVq5YsWrRIqlWrZofYJPOXONLMSpI6FOQIISQCuHDhgrRu3Vo/u3XrJpUqVZLcuXPru4rxhpRwvOrOefn+mDFj9JNcgWZWklShIEcIIRHAvn375OTJk1K4cGE7JIqffvpJSpUqJe3bt7dDYk/btm0lS5YsMnr0aDuEuKGZlSRFKMgRQkgE8NVXX8mSJUvUR+6NN96QTz75RKZMmSKDBw+WFi1ayGuvvWZ/U/S1dzC7du7cWc+hscMbVQoVKhQd5o0CBQrod8CXX36pn8nhzQ7B4phZGz3bSM2s63evt68QknhQkCOEkAjgnnvukRo1akimTJmkd+/e8sQTT0ibNm0kV65c8ttvv9nfiqJmzZrSsWNHGTt2rKxevVoXQUycOFF96YYMGWJ/yzuVK1eWEydO6Cv0iHcg0OW9Lq8MHjVYFi/gu6JJ4kJBjhBCIpi0adNKvnz57LMrHDt2TBdGQFP3+uuvy8033yw9evSwr/omT548cu7cOdmxY4cdQjyBljJtmjSS8YaMMnD4QJpYSaJCQY4QQiKYVKlSqZbOkxEjRqgZ9e+//5b9+/erBi8YcK9Lly7J8ePH7RDiDSx+uOmOm6TkMyWl5YstZcqkKbJ79277KiEJBwU5QgiJYLCK9fDhw/bZFQ4ePKj7y+3cuVPWrFljh0Zx9uxZ3Tfuvffes0OuADNsmjRpJG/evHpOHznfXL54WTLnyiw3tb5Jvp37rfTu09u+QkjCQUGOEEIimDNnzsjWrVvtsysgDFuSPP/889KsWTMZPny4dO3aVa/NmjVLFz8gzJNt27ZJhgwZpHz58nYI8YeaWTOnk5RpUqomk5CEhoIcIYREMH369JHTp0/r4gZw9OhRqV+/vi5swMrVPXv2SJcuXVRw+/rrr6VTp07SqFEj3VS4RIkS+hsHbAiMRQ7Yo65x48YalhzftUpIJEFBjhBCIgCYOp977jkZN26cHRIFXtWFVab333+/nmOvuQEDBsioUaNk/fr18sUXX6jgBkEPG/1CoINfXbZs2fT7brB/HO712GOP6ZseCCFJHwpyhBASAaRLl06uv/76q16hhX3k6tWrp9uLAGwYjO9glaon+B7CsemvJ1gQgVd8QcCrU6eOHUoISepQkCOEkAimdu3aqkXDdiH//fefHRo6/fv31w2Hn332WTuEEBIJUJAjhJAIB75v8G0rWrSoHRI60Ozhxft4n2sM6CJHSJKGghwhhCQz9u7dqz5wv//+u74oH/53eK0XISTyoCBHCCHJDLzW68MPP5RffvlF5syZoxo9bjdCSGRCQY4kOW6pVUe2bNkiKVOa6pnCDiRJlhwFi9lHJFLAhr94pypWszZs2FD97LJmzWpfJYREEhTkSJJj2vRpkj1bVvmtbztZOrKXnDl6QFKkTGVfJUmNI7u320fkWoRvdiAkaUNBjiQ5ihQuLHnyF5LCtf8nW+bPkC8fqyWftSolnz9YQWY810Q2/DhJzp85ZYQ7Vl9CCCHJG46EJMlhXb6kf8Vq3y6FqzaKCrMsuXT+rBzfs03+Gt9PvnnqVvnjw+5ydOdmSZEC1Zg2WEIIIckPCnIkSXL50kVJlyWHlP9fB8mct4gdGoV18YJcOndW/v31S1k+8T05f/aUpExF0ysh8QFf0UVI0oaCHEmyXDp3RnJdV0HuHDZbCt5cT8PSZMoqzQd8K7cPnCl5yt4s2QpfL6nTpKUfDyGEkGQJBTmSpLGsy5I6fUap9GAXSZctl1w4dVzOnzwmua+vKA17jjFh2eXg5n90LyxCCCEkuUFBjiRtLJhSL0ruUhXlxnue1KBTB3fLpfPnJH3WnFKy7l2y8vP3ZfviHyVlqtTmKgU6QgghyQcKciTJA60cFj/ceE8nubX7x3L43zVy7sQR9aPLkCOvNO37uWQpUEJ+7fe4HNi4XFKmTmv/khASV1KlTiW7Vu+W8R3Gydi2Y2XjvE2mPVrUghOSRKAgRyKGSxfOSZFqjaVqh9ckTYZMYl26pOEQ6HIUuU4a9hglR7aukYXDXpaL589y7zlCwsClC5ekUIWC0m5Me3l04qNStmEZWTdnnXzc8mNZ9d0q0xY5cSIkMaEgRyKOqO1GYoLFDtDcXd/kAUmbIYvs+utXSZk6Nb5sf4MQEhtiLCQyh5cvXpYbm98obUe3lQNbDsjWxVskVVpOmghJLCjIkWsG6/JlSZEqlWrsDm36R7b8/o3tN0cICScQ5jLmyChNX2oqF89flLHtxsrOlTsp0BGSCFCQI9cWlmWEudRSpGYz2fXX73Lu5DGvGjxCSNyB2fW62tfJrU/eKss+XyaHth2mMEdIAsMRjlxzwHcuZ4lykil3Adm57BdJmTadfYUQEm6gkStVq5TkLZ1X1vy4Wi6dvyQpUtKlgZCEgoIcuebACtc0GbNIiXp3ytHtG+X4zn+5kpWQWBLMZtsQ5uo9WU/yXJdXZvaZKRfOXuCqVkISCApy5JoEe89lLVBcFzuc2Pdf1MIHQki8AYGveJVikjV/NtmxfIekTMPhhZCEgC2NXJNgBWuq9Bklc96CcnL/Tt1AmBoCQuKPy5cuS8acGSVX0Zyye/Vuvv+YkASCghy5ZrlshLcS9VvKgfV/y/E92yRF6jT2FUJIsAT90nzztUsXL0nZRmXl7KmzsmXRv9xjjpAEgIIcuWbBAJQmXQbJnK+InDCCnFy+bF8hhMQH1iVLMmTPKFnzZpVD2w/JpfMXqQknJJ6hIEeuXVSRkEIy5sorZ48dDMppmxASNy5fvCT5y+aX00dOy7mT57iClZB4hoIcuYaxzCCSUrIVvl5Xr8Jvji/VJyREzPwnRQjtBr5yBcoVkON7j8uZE3hVHtscIfEJBTlybZMihaTLnE3Onz6h25JQjosd2FT5wtlTcu7EUT0mxCdG8EudLrVqwC+eu8g2R0g8wx6ZXNuYwSRlmnSSOm16WwjhqBIbUqZJK6f27ZBlwzrL7r/m6NszmJfEG/BNRd3IlDOTnD58SoSuqYTEKxTkyDUN3r+aNnM2yZAzrxzdvkEFEBI7zp0/L3ff1kQ+f+FOyfrLQJnb/wk5c/SgfZUQG5hiU6bQzYH3bdwnl7nIiJB4JYVFD3CSxBg3dqx88+23MnfFBsmet2CUSTTWQGt0WU4d2q/7WmU0Ah2EOxIaMKeePHpIWjetJyOGD5P9+/fL9C+/kjf69pV9e3bb3yLXIm/2flN+3vezNH2pmVw4c94O9U/K1Cll07xNcnDrQan5SE3T5q7dYQZp3bNhr5z4+bikO5dOxnw6xr5CSMJAQY4QEhT33nuvVKlSRV555RUZPny4fPbZZ/Lmm29K48aN7W+Qa5Ed/+2QIUOGyGc/fybtP24vmXJl0pfl+wPCzeYFm2X/xv1yS/tbko0gN+mjSXYoIQkHTauEkKCA39OUKVOkV69eMm/ePFm0aBGFuGRAkaJF5Pnnn5cZo2bI5LaTZcnUJZImvZfNtVNg65HLcubYGT1NmTKlmlWTky9lh44d7CNCEg4KcoTEAwsXLpT333/fPovi6NGj8uOPP8rQoUPtkMjioYcekgkTJkjfvn1l6tSpdihJDhQrXkxq1Kwhb/d5W+Z9PF+2/7X9KmFOBTbz/44VO/UVXanSplJ/OdXGmXB8QtAjhIQXCnKExAMbN26Ujz/+WDp16mSHiGzbtk2eeOIJWbVqlR0SWdx1111SsWJF+4wkRxo1bCRPPvyEzOg3Q07sPyGp0lx5nyq8dNJlSienDp2UP6f+GW1+xcKHyxcuy7o562T3GiPguX5zrUH/OJIY0EeOkHhi+/btUr9+faldu7a0b99eWrdurSaq+++/X2644Qb7W4REFrt27pLdu3dLqzatpGL7ilLzgVuiF0GkzZhONs3bKBOfnCjZ8meTSnfeJClTpZDfhv8mdZ+oJ407N4raW+4aAj5yu9fulpO/nuRiB5IoUCNHSDxRrFgx6dq1q3z11Ve6UADCW9OmTSnEkYimUOFCUq16Nenbo6+c3HvSDo0CeoE0GdNIhmwZ5Pi+4/L3V3/L3I/mSubcmaV8k3J6/VokRSoOpSTxYO0jJJ6pU6eOnDx5Uv3mcEzItUDjpo2lTsE6sub31dH+ctjaJ13m9Cq4wbR6fN8xfWVXziI5JXvB7OYL+rVrFmrjSGJAQY6QeAR+ccuXL5e8efNKrVq1ZMGCBfYVQiKbwkULy7Mdn5W9k/fK510/l5SpUqrQljVPFn3XqmIENwh5jV9sbIS7LAG3LYl0uGqVJAYU5AiJJ5YsWSKjR4+Wdu3aybRp02T16tXy008/2VevsGvXLjly5Ih9RkjkkL9Afnl/wPtycvVJWThpoaROm0bSZkwrGXNktL8hcn3d6yV3idxy8fwFO4QQEk4oyBESTwwePFg1cQMHDlRtHBY7jBkzRgU6hy5dukjhwoXl3XfftUMIiSwqV6ks77z1jiwes1i2LtuiQlyq1FdWphapVESy5M16TW89Yl2KShtNqyQxoCBHSJjZtGmT9O/fXy5evCg33nijHSrywQcfSM+ePfXNCODSpUtStGhReeSRR3Tj1NOnT2s4IZEGtiX5d9W/snX0VjWzZi+UXcNL1S4l1R+uHvSrvSIVZ7EDTaskMeD2I4QkMm3btpX8+fNLnz59JGPGKyYpQiKNFctXSOtHWsuZdGfk2LZjUv3B6tLgmQZy8fy1teWIG75rlSQ21MgRQggJCzfdfJP0691PDqw7oKNL2YZl7SuEkPiCghwhhJCwATPr7FmzpXyJ8jJ//HxdyYpXdBFC4gcKcoQQQsJGrly5pH6D+jJ+3Hg5tuqYLPxsoaRJF7XPHCEk/FCQI4QQEnbKlS8n77/zviwas1i2/bntqpfsE0LCAwU5QhIRvIMV+8j98ccfuj3JuHHj7CuERD733nevbFuzVTpX6Cyjbx8tf0z+gwIdIWGGq1YJIYTEO9OnT5dHn+kg9w2+V0pULSEXzl4bGwTzpfkksaFGjhBCSLzTuHFjeeGx52Vmv5lyfP9xSZXmyqbB1woU4khiQI0cIYSQBOHYsWOya+cuuf2u26Xsg2WlzsN1Il4zR40cSWyokSOEEJIgZMuWTcrfUF4GvTdIFo78Q7Yv3y5pMqS1rxJCYgMFOUIIIQlKg1sbSOfHX5Bj+4/ZIdcG1MaRxICmVUIIIQnOscPHpFipYnJds+vkjtfvEOuyGYoicDSiaZUkNtTIEUIISXCy5cwmSxYtkUN/HZIFExZw02BCYgkFOUIIIYlCmbJlZPCAwbJ0wlLZ+ufWiN9jjto4khhQkCOEEJJoNGnSRPZs3iO7JuySSS9NkhSpUkTsu1k7dOxgHxGScFCQI4QQkmhkypRJ/4Z+MFTObjhLMyshIUJBjhBCSKJTukxp+WDAB7J0/DLZuizyzayEJBQU5AghhCQJGjdpLPu27pXdn+2Wz7p8FtFmVkISCgpyhBBCkgQZM2aUDBkyyLChw+TCpguyaMoimlkJCQAFOUIIIUmK666/ToYMHCKLRi2WLcu20MxKiB8oyBFCCElyNG3SVPZt2Sv7Ju+Tz176TDfepZmVkKuhIEcIISTJkS59OsmQMYPMmjVL3n/yfXm/4SDZsWoHtXOEeEBBjhBCSJIGe811ffplmfH2DDm275ikSpPKvpK0GMMNgUkiwHetEkIISfJcOH9Bdu7cKU1ubyKlWpeSum3ryoWzF+yriQfftUoSG2rkCCGEJHnSpE0jJUqWkGGDhsniT7kIghAHCnKEEEIiBphZuz3TTWa+PTPJmVmpjSOJAQU5QgghEUPqNKmle/fusujLRbLy05Vy9szZJLOale9aJYkBBTlCCCERBYS568pdJ8+0ekaWTlsqqZPIpsHUyJHEgIIcIYSQiKTTk51k5eSVspX+ciQZQ0GOEEJIRLJrxy7Zt2WfHJh6QCa+ODHR381K0ypJDCjIEUIIiUhSpkqpf8M/HC6Xt1yWeePm8d2sJNlBQY4QQkhEU7RoURn+wXD567O/5d+l/9LMSpIVFOQIIYSEnZ49e0r27NklRYoUkjVrVjtUZObMmVKjRg15++237ZDQuXz5sjRt2lSKFy9uh4g0adxEju46IoenHU5wM2uKVBxKSeLB2kcIISSsbN68WX766ScpVaqU/Pzzz7J48WL7SpSAV7JkSenatasdEjopU6aULl26yNGjR+0QI0ylTKF/H374oVhbLZpZSbKBghwhhJCwsnTpUtXEVa5cWRo3bizly5fX8AULFki2bNn0L23atBoWWyAQtmvXzj67QpEiRa6YWZfQzEqufSjIEUIICRtDhw6Vhx56SP78808ZN26cpE6dWrVnFy5cUC3d6tWr5cEHH9Tvzp8/X/Llyyevvfaanjs8++yzcuONN9pn3vnhhx/ktttus89iAjPrsd1H5ciXR2RC5wmJvpqVkPiEghwhhJCwUbduXXniiSckV65c0rJlS+nXr5/cfvvtMm/ePNmyZYtUqFBB6tWrp9/duHGjtGrVSsaMubKR7vvvvy+//fab5M6d2w7xTp48efS+vXr1skNcQGgzf8OHDxfZLvL72N9pZiXXLBTkCCGEhI2bb75ZypYtK8WKFZObbrpJunXrpubViRMnysqVK6VOnTr2N0U6duwogwcPlueff141c/Cb69Onjzz++OMyd+5c+1v+WbNmjX10NYUKFZKNazZK8zzNZcg9Q+T00dPx+m7WMXyzA0kEKMgRQgiJd44fPy7nz5+XDBky2CFRpEuXTu644w4pV66cDBw4UF599VXp3LmzfTUw586ds4980617N/nn539kxtMz5NdPf403vzluCEwSAwpyhBBC4p28efNKpkyZVKDzZP369XLw4EE9xipXN9DMPfDAA7pwApq77du321eiwD2DoUDBAvLxBx/Lys9XyuYlm7kIglwzUJAjhBAS72DlKvzadu/ebYdEAcEMq1kh4ME/DoskYG4FO3bsUFPryZMn1R/um2++kWeeeUavOQTypXPTsFFD6fFCD/mu/3dydO/RsJtZaVoliQEFOUIIIfEOtGkNGjRQoc0BYZ06ddKFEP/995/Ur19f+vbtK8OGDZMXX3xRcubMKZ9//rluIvzWW2/pHnG7du2Sp556Sv3tvvzyS32rQyh07dZVVs9ZLd89/Z3MHTdX0mZMZ1+JOzStksSAghwhhJAE4ezZs7qadfz48XpeqVIlWbhwoTz88MN6DvMpBLjmzZur8AazaYECBfQaSJUqlWTJkkWqV6+u98DGw927d7evBk/+Avll6HtDJe2FtHLp0iU7lJDIJIVlsI8JIYSQOLNz507Zt2+fmlLdGjOEtW3bVl+xBV+4ZcuW6cbBWF3qFtjgL7dhwwY9rl27tn5evHhRfeXwuq9PP/1UTbRNmjTxu2rVL0Z+e3Pwm7Ii4wq5ufHNcuHsBftCaKRMnVL2bNgrJ34+LpM+mmSHEpJwUJAjhBCSYKxbt073mcP2JJ999pkd6h/4zT3yyCPSu3dvadOmjYZ16NBBF0n88ccfeh5bWrVuJatOr5IH33vQDIgpJNQh0S3IpTuXjn5yJMGhIEcIISTJcvjwYbn33nvVDDto0CA7NHzs27tP6jetL3mb5JUmTzYJWTNHQY4kNvSRI4QQkmTBqtU0adLEixAH8uXPJx8P/VhWTVklmxZv4rYkJOKgRo4QQkiS5PTp02qKPXr0qC50wHCFl+07fnPhpvW9rWXlyZXy4IDgzazUyJHEhoIcIYQQYsBijAZNG0ieRnmkSafgzKwU5EhiQ9MqIYQQYsD7XkcMHSGrvviHZlYSMVCQI4QQQmzq3VpPjuw8LKe/Oy3jXxgvksL8n8L8Q0gShYIcIYQQ4sHwYcMl7e60Mv+z+ZI6XWo71DvWpcv2ESEJDwU5QgghxIO8+fLqatYVk1fKxkUbaWYlSRYKcoQQQogXYGY9vOOQvN/8fZly3xT5bexvkilbJtm0cZNMHDtRTpw4IalTp5YUqTiUksSDtY8QQgjxQ568eVQ7t3r6Gtn4x0bJkDmDHNh1QI4ePabbohCSmFCQI4QQQgJQt15d6f1SL/n+ve/l0O7DkiL11fvMcesRkhhwHzlCCCHEB/v375dvvvlGVq9erW+YOH3qtEz/droczX9USjUvJa3vv1eObD8iR388wn3kSKJAjRwhhBDig7x588qtt96qL+jHa8JGjBwhB/celIvrL8rBTYdk34G92KGEkESDghwhhBDihzJlysjgwYPlzTfflCxZskQFnhU5se+4rFq5Sk+x1xy1cSQxoGmVEEIICZIpU6ZIgwYN5Jmnn5Evv/pSUpZOJRXvriA3nbtJUpygMEcSHmrkCCGEkCBp06aNvsprytQp0qxpM7m88ZLsmL9DTpw5ISlTckglCQ9rHSGEEBIi2D9uxIgRcsf/7pBDiw7JgX8PyOmzp+2rhCQcNK0SQgghsWTTpk3y0YiPZNy4cXLk0BE7lJCEg4IcIYQQQkiEQtMqIYQQQkiEQkGOEEIIISRCoSBHCCGEEBKhUJAjhBBCCIlQKMgRQgghhEQoFOQIIYQQQiIUCnKEEEIIIREKBTlCCCGEkAiFghwhhBBCSIRCQY4QQgghJEKhIEcIIYQQEqFQkCOEEEIIiVAoyBFCCCGERCiJLsht27ZNxo0bJ4cPH7ZDws/Ro0flhx9+kGPHjtkhJBhQNrNnz5bLly/bISQ5wvZDCCFJl0QX5IYOHSpLly6VnDlz2iHh5+eff9b7f/rpp3YICYb58+fLunXrZMWKFXYISY6w/RBCSNIl0QU5aHuGDRtmn8UP9957r/z333/SqVMnO4QEwyOPPCLZs2eXypUr2yEkOcL2QwghSZcEE+R27dolCxYssM+iuHjxojz22GNy+vRpOyRuWJYlv/zyixw8eNAOiQImobJly0qGDBnskCi8xSkU9uzZo9qqcJoez5w5I1999ZV9ljCcPXtWvv76a/vsCkhf7dq17bMr/Pnnn/Lvv//aZ+Fl3759MmfOHPvsak6cOKF5fvz4cTskOP755x9ZtWqVfZZwoE6uXLlSdu/ebYcEB34Hs7ZnXY5PErr9+CNQO4htvgaqX4QQEnGYDjHWLFmyxLrnnnusbNmyWW3btrV69uxpdezY0brtttus7777zv5WFEOGDLHq1Kljn0UxbNgwK1++fFbr1q3tkNhz7tw56/XXX7eQpOXLl9uhUdx+++1Wnjx5rHHjxtkhUXiLUyhs27ZN4z9//nw7JG7s2LHDuuuuuzQ/E4qdO3daLVu2vOqZZvC2ypQpY2XJksXauHGjHRrF3XffrWUdboyAaJUuXVrzwBco53r16llvvvmmHRKYadOmWenSpbMGDx5shyQsr7zyitWoUSP7LDBGsLZ69OjhtS7HF4nRfnwRbDsINV+DqV+EEBJpxEmQA1OnTtXOf8+ePXaIZc2cOdNKkSKFNWPGDDskikuXLtlHlnX48GGre/fuOoB069YtTsLQ0aNHdZB+5513NC4vv/yytXnzZr32888/W1OmTLH27t1rPfDAA9bJkyc13MEdp9iwePFiq3fv3vZZ7Pjkk0/sI8v69ttvE0yQW716tebbY489ZqVPn16PIUQAHOP60qVLrWeffVbDHOKaZ5640//iiy8GHGgPHjxoPfjgg/ZZcNx8882JJshdvnzZatOmjdZTf7jzAYJ0Qglyidl+3ITaDoLNVzfB1C9CCIkk4mxaTZs2rX10hTvuuEOKFSsmn3/+uR0SRcqUVx5nBgAxA4f+/t1335XrrrvOvhI6MPnUr19fGjdurOdVq1aV3Llz6/FNN90k999/v+TLl08mTJigZkQ37jjFhho1asijjz5qn4XO5MmT1YTm4C0/44sCBQpoviG/UqdOrcf4BA8//LDccMMNUq1aNenTp4+awR3immduYpP+XLlySb9+/eyz4EjIfPXETGp0ocD58+ftkKtZv369tgeHhIxvYrYfh9jUg2Dy1ZPErAeEEBIfhG9EdgEfm/3790vJkiX1HL40r7/+utx33316DowQKf3795cuXbrI7bffLocOHVJhwcz+dVDBStYOHTroPfwthtiyZYu89NJLMnPmTBk7dqyGlSlTRsxsXo+x8vLVV1+Vp59+Wjp27BgtkHiLkxv4/jzwwAMyZswYFTSvv/56adeuXbQ/HNL3zDPPyNtvvy3PPvusTJ8+XcPhY/S///1P2rdvH+1HhkEaz/n111/13AGrAbt16yarV6+Wnj17qkO5w6ZNm3RghTDl9kPCgIc869y5szz44IPqK3bq1Cl5/vnnVYD+6KOP9HuIJwQDfA/XPcGz33zzTfnyyy/lp59+klSpUumgjU/8dvz48dK7d29p06aNfPDBB/avRP7++2/NR5SdJxDO33//fY3Hiy++qAMs4vDkk0/Kzp077W9dwV/6sd1FpUqV5NZbb1W/JoB44XtvvPGGliniB7A9xqBBg6RevXqyYcMGadKkiZQvX17mzZun19289957OmlA3XLK0k0o5bd48WJp1aqVPPTQQ9ErOhFXpN2pi0559ejRQ1544QWvvn1bt27V58EnEen7/fff7SsiJ0+e1PwuVaqUDB8+3A6N8lN86qmnpG/fvtK8eXPNQzB48GDN/1deeSV6uxC0DdQVPMeT+Go/CdUO3PkaSj3wVr/cIOzll1/WvPz444+1HLDYo1evXj4Fx1DSTAghYSNKMRd7vv76azXHDBgwwDKDv36aTjeGGQZmVCP0WDVq1NBzmGPgF3f69Gk9hz9QiRIlLNNBqokV94MJxHTolumwLTOLvsqkA86cOWOVK1fO2r59u57PmjUrhjnq+++/Vx8+B8ShcuXK+nzPOHkCP51ChQpZZpBU3xrTMauf1ezZs/X6448/rqZhgDjmz59fj8ETTzxhVa9e3T6zNJ333nuvfRYTM4haRhiwzyzLDDBq5pw0aZKa1/Ac+IQBxCllypSabgB/nxEjRuixGZD1d0izA0y+y5Yts8+usHLlSqtq1aqWGZT1vGvXrjHMWEgX/J8AygRmSSMQ6jlM6Dh30u4NlC3qAH4Ln0n4EvrCM/2474033qgmvSNHjlgVK1a0zOCp15AnTnnt3r1by9oMlJYZxK2BAwdamTJlskaOHGmZSYFlhByrVq1a+l2A38GktmbNGv0N8soMrvbVmIRSfkaotIyQbxnBxg6x1BRthES/5eUJ3BFy5cpln0XVbaTPCFGWmTRo20L9c9oMnom6AhBfmBgB8hz5B3cFh99++03bpSfx2X5AQreDYOqBv/rlCUy2RoDWdCAO6NPgCuKPUNJMCCHhIGwaOWxRgT8zMIgRylRbsXDhQr2WI0cO1Sg4YIZsBg8xna0YgUE1RhkzZtRZvrPVBTQmRYoU0dk4ZsDeVqeNGjVKihYtqn+gUaNG+unw1ltvSdOmTe0zESOwqEYJJhzPOHlSuHBhKViwoGoLq1SpoppBfB+b5AJszQGTKuIGbRO0AQ6YtWNFHZ4FoGWENi9YzICtGpSsWbNq+h1NSt68eVVrYgY42bx5s5q1nOciz5Fn0B4AaJuwBxzMZJ5AowVNErRvwJ1v0GxAA9esWTM9T5MmjWo8oA3CilEjsGq5+OOTTz4RM0jqPaDRg5k9FJDPSDe2PsGqWSf9derUUS0igMYDpjWkP0uWLFrvkC9mINU9zxo0aBBdVg7Q9EJDA40T8subhgqEUn7QVEGDBPMzwD0RF8TNX3kFC7Q5efLkkdtuu02MEKFaO4B8QN5gI23c07kvygvxxybbRtDRMLg4eDP/x2f7AQndDoKtB77qlyfQSsKcDK08tJHQNgcyzcY1zYQQEiphE+QwQJqZrrRo0UJmzJihQhAGIQg6AAObA8wlEJRg9sMfhDmYVYoXL36Vzw0GJgCznSeLFi2K9uUBjmDisHz58hj3g0ABgXHjxo167o6TN7zFxYlHzZo11Rw1cOBAKVSokJqKHXAOQQ9mV/Djjz+q+Ss2YOC4cOFC9HHFihXVFIbtNCBUuZ8L8xSehW02YC51hDFP/OUbTEHwg3KnHYMj4uAMeIHyDYM8TH54Dso5LrjTD4EDgmb37t01HHF00u+vrLzhvq8noZQf8hE+ZJMmTdLn4RP+hSBQeYUC7gWcODds2FD9BKdNm6b12n1fCOkog9GjR6tADeBX6El8t5/EaAfhrAegVq1aOhlB/wTBz+Gzzz7TvHP+cA7CmWZCCAmGmL1emEAHDy0WfHQOHDhgh14BM2X4u8DvxAE+Z96+6w900r5m0wAzdwiNbjDLD1VD5A1oOKAhgY+Oo9FwA2EDAi0GdvieeQ4woeAMUhhMoCGE9ueee+65auBFuuDXh0Fk6tSpOgB5w1++Ic+AO9+g4cCzMEgFAzSs0EpAEwH/MX8DZTA46YdgMmLECPVZrF69uobFBX9CVSjl99xzz+leiF988YVOXKBBAoHKKzYgzngGJhLw34L/ofM8B8QV8R8wYIBq3eCz5Y2EaD+J0Q5CxV89WLNmjU5SkW6kxQHPh0+c84dzh3CmmRBCAhHnHsa9mtEBZg5oq2C2cAZ/dJZOhwkHYwxGGORhlsRCBzjFQ2vgOKB7dq7eOltonP744w91yAaOU79jUsIABoHG0QriWTC/OJoqd5y8gbj4igc0XtA6Aph3MOvHczGgAzjUt27dWh2kYfL0BVaJ4je4L8xm3uLknMMJHkJVpkyZVAiGQzbyH+Y1Bzi5YyNV5CW0J95A+mGacgRn5BuEUqQXWlGUD0xKDtB6tGzZMlqr4y2ObuAEDwEXpijUBWdRgjdCSb87z+Gkj3AIiUi/v7ICOPZ33ZNgyw/AfI0VwDCzQhvmEEx5OSAfoAlFnOBi4MTNW5whXCH9yAuc49jzvtAKYkIFjd0tt9xih8YkvtsPSOh2EM56gHt/+OGHKpihPcAVBHUQYDIKIc35w7mDrzSjnJDfhBASVkwnFmuwIbCZiaIXtO68806rS5cu6gBdpUoVdXI3goJ+z8z6raZNm6pDveNgDufu7Nmz62+xqe6iRYvU+R77WSEMm33CqdkIA3r+2muvXbXgwXTa6lxsBBZ1KDYdru5fBwdnOIhjTzQ4ULdo0cL67LPPrHbt2kU7/3uLk5s5c+ZYWbNm1d+agVMdv7E5LtKJRRjPPfeclTlzZuu+++6zRo8ebaVKlUqd3JEGBzzr/vvvt8+8g+eYQUnvg726sLEy0gDndqQfcca9sagEG/OaAcMyA4c6aGNRARaJIO/cIM5r1661z64G5WIGd8sIApYZ8PUZyMNBgwZpnmLhRIUKFbQ8kTbEySlLlHnhwoXVoXvdunUa5gaLIuCUDudwOIZjgUHKlCmt/v37W0bosr91BXf6582bZ1WrVs0qWrSoLnpZuXKl1qVSpUqpAz72LEyTJo3VpEkTywiiVpEiRawGDRpoPj366KP6HJSzO9+mT59u/fjjj1rORgDRPHSXpRFO7JhcTTDl54B6W7duXfssimDLCxhhRBfMwDEfi2uwOAH1HgtRkB6UDc579uypTv3IF5QD6j8WtWTIkOGqDXtxj48//tg+u5r4bD9uEqodoM74qwdmQuK3frlBfW/cuHH0Ih/UE3wvd+7c1jfffKNh/vCWZvSNaFeEEBJOUuAfM0AkCpjpw7QDx3PHByg2YEaOmTi0ItAaePplIQyza2whYjp1OzTu4LkwP0HzAd8tTxMXZvEwQ0HD5Q9oQrCXVzAmGGhLkG9wxIYWEFocaCYcUJyPP/64miEDAQ0B/HsQf+Qf7umA+8AXCvHyZjoOJ6GkHz5f0DTC1AUNDuqNs/dduAm2/AA0g6gDnr5ogcrLDe6B70DbFAh8DxooLIQA3uofFqlgwQK0aP6I7/aTGO0gsfGWZmi9kUa39o4QQuJKogpy1yIYVLDYAA7YWHwwceJE+0r8smPHDn02TD8YkO+88077CgmFxCq/cIGVxZgcQTCDz16oGyeHi0jPx9iQHNNMCEkCQJAj4QNmM2Rr3rx5rRUrVtih8Q/Mhnjuk08+aYeQ2JBY5RcuYMJG/GH6PhrCq6vCTaTnY2xIjmkmhCQ+1MjFA3BGh1Ysc+bMdkj8A5MNnORLly5th5DYkhjlFy6gicP+gWXLlg2rG0FsiOR8jC3JMc2EkMSFghwhhBBCSITCDY4IIYQQQiIUCnKEEEIIIREKBTlCCCGEkAiFghwhhBBCSIRCQY4QQgghJEKhIEcIIYQQEqFQkCOEEEIIiVAoyBFCCCGERCgU5AghhBBCIhQKcoQQQgghEQoFOUIIIYSQCIWCHCGEEEJIhEJBjhBCCCEkQqEgRwghhBASoSQbQe7s2bMybtw4Wbt2rR1CEotp06bJggUL7DMSKv/995/89NNPcunSJTvk2iYh2i7y8tdff5XNmzfbIYREFpcvX5bffvtNNm7caIeQQCCv0LecPHnSDolMko0gN3v2bBk+fLgUK1bMDiGJRbp06eSJJ56wz0io/P7777Jt2zZZsmSJHXJtkxBtd9OmTZI5c2Z566237BBCIgv0CWnTppW3337bDiGBQJ/y6aefysyZM+2QyCTZCHKrVq2S7777TjJlymSHkMTizjvvlGeffVbWr19vh5BQeOSRRyR9+vRSq1YtO+TaJiHabtmyZVUr99prr9khhEQWJUuWVEGue/fudggJBJQK3377bcSPRdecIAczDArGk3vvvdc+Ch941ooVK+TgwYN2SPi4ePGiVq64qHwvXLggX331lViWZYdEsW/fPtm6dat9FpgzZ87ofYIB8f7mm2/k/Pnzdoh3nn76aSlVqpR9lrQJJf3hBOX2yy+/XFW/UH633HKLfRY+UF9Q506dOmWHhMaxY8fsI+/gOgQyX+zatcuryT3cbXfNmjUqHLpB2qGRK1iwoB0Sha/+JDagzaHswoE38xnSALP7gQMH9Bxt8dy5c3ocDH/++af8+++/9plvjh8/rv3eiRMn7JDY46vMvRHOduirXEPtG2MDygn5t3//fjskMMGkHRMRTPCKFClih8SdUMoH/RW058GOh//8889V7TDcoCz/+OMP+8w7OXPmlJ49e9pnEYrJ/FizaNEi66677rKyZctmde3a1TKdgIYvXrzYuvvuuzW8W7duGn758mXr/vvvt6677jrrk08+sUzFtGbNmqXfDyemM7KyZs1qmUHDDrGslStXWqaDtooWLWqdPn3aDo07kydPtsqUKWMdPnzYDgkfgwcPtvLly2e1adPGDgmNQ4cOWe3atYMEZ5mOww61NP033HCDZQYtzZdA7NixI7qMA4FnduzYUZ955MgROzQmX375pTVv3jzLDDCWacjWyJEj7SvhAWUxfvx4K1euXFa5cuWsRx991GrUqJHGa+fOnfa3gieU9IcT5M/rr7+uebl8+XI7NPTyC4X+/ftrnWvfvr0dEjyorx9//LE1depUOyQmRkC0jPBpVapUyQ65miFDhlh16tSxz6IId9udPn26lTFjRo2vG19p99afxIZwpcNM7Kw+ffpYe/futUMsywgEVtu2ba0OHTpYo0aNst5//31t+y1bttS2Fizos82AZp/5pm/fvlb9+vUtM1mzQ2KPtzL3Rrjbobdyjc+25WbGjBlW8eLFLSM02iH+CTbtw4YN0zrcunVrOyTuBFs+RjC2evTocVV/5Ytp06ZZ6dKlu6odhpM5c+ZYuXPntl544QU75GreeOMNbT9mcmK9+eablpmc2FciizgJcuDzzz/XwnN3LAAF5Q5fu3attWnTJu1IIfzcdNNNQVfkUDEzE/soiu7du1tmlqBxHTRokB1qaeEhLLY899xz1ubNm+2z8IG4vvrqqzqYv/TSS5aZUdhXQmPJkiVaBm5B7qOPPrL++usvy8wIrccff9wO9Y+ZuQbdgaIDxDN9CXKnTp2y6tatq9+pWLGiNqL4oHTp0tYzzzyjx5g0VKlSxbr++uu1wwkGTDYcQkl/ODh69Kh2cO+8847m08svvxxdz2JTfsGAdopBHHXu+eef14HOF77aDQRoz37AzQcffOBXkAPBtt3YMHr0aM3XwoULq9Ayd+5cDQ+Uds84uQm2DwlHOjAZxiC9a9cuO8Sydu/ebRUrVkwnlW7wXQh2X331lR0SGH/pdPPQQw/ppC1cBPvccLdDz+fGV9vyBO15zZo19plvQumDMIFFHUMdhvJk/vz59pW4E2z5QChGfxWMIAduvvnmeBXkwD333ONXkJsyZYpO7NKkSaOCcKQSZ0HOEdgOHDhgh0Tx9ddfew1PaDBwo7N12LNnj31kWU888UScCm/79u32UXjxzDN3nEMBDQpl4Bbk3PeGsBWMYPPDDz8E3YGuW7dOn+lLkHMIdD2uYGbtCHIA5Yx4/frrr3aIbyZNmhRjVhtK+sMBOmOUHQQKxBmdDYQ7EJvyC4ZQ6pyvduNPiAPQ2AUS5Nz4a7uxAYMn8hWTSAymjoY2Lu0tmD4kXOkYM2aMPs/NHXfcYTVo0MA+iwkGd08Bz5OLFy/qXyj8999/9lHCEt/tML7alifBjBvoR0uWLGmfBU57XOpwuMCEGf1VsIJcjRo14l2QgxXQnyAH0N+GQ9ufmCSYjxyWRsMO/cYbb8iDDz4ovXv31nD445hZsJgOScyMSMPw3XfeeUc6d+4cw18HfgKvv/66ftdUAP0e/A0GDBggPXr0UB8cM1hIlSpVon1DUqVKJWPHjpU+ffpI48aNZdGiRRr+/vvvy8SJE9Vnx4mLJ2bwlL59+0qvXr3k9ttvj14lCN8GIyTo7//3v//J9OnTNRwgTkOHDtX4t2jRQsaPH29fuZoZM2ZI//79NT+6du0avZ0EVh899dRT+uzmzZtH+xyYAV2fN3fuXD3HNh44N7MvPQ8GLE9HfiE9ZgBS51j4QDzwwANiBgp599135frrr5d27dppWtxgZR/y0AhJAf0mNmzYIA0bNpSKFSvq8m4HI5xo2pBHSNvq1as1PJg4TJ06VcsNeQYfuyFDhsisWbPsq/4xnbJ+wh8CfmfIt/bt20f7BME37L777tNtPcyMVuOF+gqfIwdf6TedvjRq1EjrUZs2bbS+wD8Jfyiz+vXry9KlS6VDhw7qkIx898WWLVvkpZde0lVUqLegTJkyYjpxPfZWfp6gjj/88MMyYsQIGTlypNx4441aF9E+kO+4H9qQ28fJdPxihBt59dVXdTGKEXLsKzHx1m6MsCBdunSJrstGaNFwX+C3qBd169aVZcuWaRh8cdC2UQYO3tpubPIUfQgcwOFjhDxB/AoVKqR/wFfaTed+VX/ixjMvUJdwHyzkGTRokKbRDMhhSwfaxW233WafRbUxPPuhhx6yQ2KSI0cObVMO8A1EncaCDqQTbRFxfe655+Tvv/+Wjh07ahl6A/0t6swrr7wiWbNm1TDUUZQ3/JCQXtQ5XyDfcQ88+8knn9QwzzIPVz8Um3ECeGtbKFO0R/T3yGszCdB6ayYt9q+uxle/jnigzmCVpLuf8AT5ib4J9RLlhVXqDr7SbsZyfSbaIeJ/6NAh+8oVMK6gHWDHAIwZtWvX1jxYuXKlbr1TtWpVqVy5svquAc/yCTYv4NeNugQfaKw2D8R7770n1113nbYBd1l//fXX2ibR16MeuP1LnT4HMkIwfQ7yBvUJ/raObyKehfzFNcTX6c8w7qM+16tXT9tYkyZNpHz58jJv3jy9DozgrHGbMGGCPProo1pvPvjgA6/5niBEyXOxx9HImQSpFs75Mw1ew52ZArQckMABzAG4Br8ZYAYvK3369Nb333+v58BkqmU6efvsCtBMmA5K7+dgCkJniTDbmY5V743ZAXjxxRej1dizZ8+2UqdOrbMdAHObabB67AnUyTABIm7AVBqrRIkSegy1O9TYADPe/Pnz6zGAKdSJG3whEBfTgPTcjekEo2fXmDkjXjBNAZgAMQMD+I7bT840Dk2jA8wqvkw7nho5lAu0IgDlAh8RmJvgg2EGNcsIVqoFgk8j/BeQXwBxQfkgXVCfI/2mkus1TxyNHPxoUH5Q8+PcUfX7SlugOMAfE/lvGp+eQwthGmV0HfIEGrlOnTrpMUz68E2COc0Bz65evbp9FuUfg/sBlGGrVq30GPhLP+pJrVq11EcUwG8IJgPTwWi+I91IP+oh6ijqixkg1NfJE9RZ+PU5M3b4kOK3zgzXV/l5Ak0T6glmo0YgVZMe8hbpM0KDmsXgq+rMhtEekV/OrBRtGn5CKBNvuNsNvpMyZcro9gaTthm09dgTxB1tBX6RMPs3a9bMgi8j2jTaADSoTh8BvLVd+FWGkqcA+fDFF1/oMfItQ4YMQaXdW3/iiTsvcG8z6GkeIL7ol6ClDEc6nHZlBhY7JMpUjDAjgNghUTh+ooiXGUjVVAgNDdKJNAEnnfARMoOyXke9dfo1T1CvzYRA27MDnmsGMD2GCRfp9cbGjRujNdxov2Zg1mPPMg9nPxTqOOGrbaHtwNcQeYfvIM7IJ/iDecNfv468hc8ZcPcT3sB90DYcAvVByF+nDiNu6Cs9fRiRFpjFoZGGZQKaKCPsWkaAs7755hutd2gr8McDnuUTKC+Ql8hTI+CoywzSjfJz4uUJ7otnoW2gH0f6HIsJZAGYRR0QDyNkalpD6XOQHid9ZgKv+QKfaYC89CaTQHs+cOBAK1OmTNpXob986qmntJ93MBMq1ZADI2hbZrKmZeYrrfFN2DRyefPmFdNJR/9hNuimTp068uabb+oxJPsUKVKo5AtM5qo0jlkSgKSMmSxmCJ5AMwEJ2NFWmDSIqVC6Uidjxow6U3EwFVkld9MRqPYGs05oI5wZhz/wG8yWEDeAmQlm0ADbPyAOuD9m7046MBOBxsNUdj2HFgQzHW+riLBflREW9Bh5tXDhQp0lA+QTZktIF+7t3B+YjsE+isLz3B/IA1Nh9fOzzz6TSpUq6YyjcOHCuloPMznM0KAZwGwKMzgH0yB15oPZOGaEgVZ2YZaP8sPMGvc0jUbDfaUtUBwwW86ePbvWG4B7Y/aD8vQF0mYapGoEMRN2r/rCbBgzUdQJgLLFrM8XvtI/Z84crc+ovyBNmjTywgsv6EzUdDQ6wwW4jnqA36LeoBw8GTVqlBiBU/8AtHxufJWfJ9A04Q95hPZgBgQxHa7mZ7Vq1VQridm06RD1+x9++KFq7YyAo+eol3ny5NHwQKDdoy2aTlg30zUdbIz66km+fPlUI2CEaE0D2syPP/6obQDxc/DVdtEvhJKnWBUHDYkZ6PQ8d+7cmm8O/tLu2Z8EAvcuXry4zt4xi4f2CukKRzqgTQPIbwdHC+FofBzwTPQ90FYg/Ugv0oO0IE0A6UR8cQ98F322t37KAfUabQZtCfUamAmk9oPADLqaXm9A6wUNDvp3xBVaIeBZ5uHsh0IZJ4CvtoW2gzhgexozEdQ4Y8W4O05ufPXryGdobMzkRa+5+4lgV//6Sjs0RWbyp9p3xB8aaKQRGjU3TlrQN5iJsGocoRHGGGIEKt3eBxo2p1/wLJ9g8wIaPLQhaI9R9tAs+gLPR3tBm8BY66QJ+di0aVM9BtBsou2gHYXa52C8QfrQn6IM0GdDu+dLJsmSJYuYCbXeH30V+kvklzudGI+QHwD9LOo16pzTjyQ0YRPk0PBq1qwZ/WekZPtKFBicUJnRiFGBkPloXA4wZ6FDR8cD85ZT4b0BVSsyEuYwz+86Az1A5UbHiA4Nf3g2TGbBbGeAjhYmEQcIERh8ANJnpG8VEtAonHRA7Y0CdX6HNKIC4NMTz/vj3ngGgEmyX79+ajrFhoXufIoLiB8GNCc/0AFArQ0844iOxnOAcED5wVQRLBAenMbsL23+4oD8QceKzhhAPY4G6g90EDB1oVNAut11A+UGgdzZPBN1D6beYHCnf/ny5Rpvd9zRCeA6OiVvaQLe8hYmNwyuDu76AfyVnyfutALcy53XOHfi4KTBAb9FZx3MDvHIC5gQYXLBBAkCQbD1FWlF5+3UjWDbbih5unjxYu2I3fd252ugtHvmYyDwfff9w5UODM4A+e3gTGJwP08wyGTOnFmFI4BB0B0vxBP11P0mi0BphYCCwXv06NHqTgCcwcwfEJTRztAWMS6439Dh+UxveeItP0CgfijYcQKEq2/01a8jDnDvcN/L3U+EijvtiDvK2Yk7hDnUCUwqPPFMN+Lqq18AcS0f4K+M3LjT5NkuMVZAOEW7xPdi2+c4Yzj6HH8ySaB0YkxztjXBWAQhLpRJX7iJGdt4BI0ffhLQ0DiZ6QYFBf8INHj4QsGHwBeYFaBRYjYDfzFPzYUDOhl0OPBBcRPMq34wyEBj454todM7ffq0zvQw04C/haM9AfgNtInufWug1fP2PHzX078Dz0OnD0ER/h3wJcHsy02gztYfGNAgsLhxZvqhEmzDAcgzDNiB0uYPlDF+A6EMPibwqYB/Q1xAA4a2BtpCaKg8G68/nPRjdojZHcrOATM5dIgQFkMBnYW/Tj2c5ecGacBg4AZpQJsMBAYMaFDg/wWtjHsQCwanbngSl7brBnkKHx5Hi+RJXNIeDOFKhyPgOwIdgFYGAzg0SIHaI9LpFtoAtAehpBPtA20G/kDQHsOPKxiQfmifMBGD9gL+qbERXrzhL93BjhMgXG3LV7+O/AfuuhbbfsLBSTvijmdCu+0A4eKAvZ9gYhPKWOHuVz3bJTSSqK9x6XPQ36AeY9wOJJP4A20OfoZoB/DphKYQ5ZBYxFmQc5w1PaVyz3DMiKA2B3DoRoFB+nY0LACqeZi/0Pk5JgBfwEkXan5Pc4BTEfCJjK1Vq5a0bdtW/vrrL50RoRNyCh4qZRQs4uA4wzugk0Tc8Rw0EAzWECAQL3da0Dniexgo8DyYS9BpQT2Ne6KyYcbgCVS9mDmhMkD4g/kFpkJUXuQP7o804Bh56eQTZneO6huzEzju+hqk3HkBoOKHKhmLMxA3RwMKEAfnew7u3/u6FggIbxBsIYQFSpu/OGBGi84f2jw4pkKIc2Z83sB9nTroCwiDmIV36tQp2jQKnHqBZ2Pmhk9f8UI5QiBFZ+CAWSLM66jHSBPw9Xs3GHSQV6gTwBm0nfL1V36e+Iuzg3OOARmO745wgXBoFhyzmSfudgNHbAxIMMs47cRdpv7AQAlhwtGEuuPsr+2Gkqcw3eA3MK0DfAdxd/I0UNqde3q7N/DWh6DOO4QrHbB4YBLnNpeh/k+YMEHz0Zdm1gHpxMIStwDpWcZ4rq90OmBBA+IBjbp7U2qYpny9Mg7xQ12F0IlJOgZjx3Hd85nh7oeCGSdAbPtGT3z169CO3XrrrVpeDu5+whPUK8QDz0GZ49NXHHBf1DkseoGrD56HxXbe7uvvPg7uc8/vByof96eD57kDwn19F/UVdcVpS0gXTJ7oI+PS5/zwww9qiUG79CeTBCpzjOvOIgksSgxVEAw7JnKxBg7LcJbEbbAYAM6pAE7uZtal4XAcRzg2CjWzY6tJkybW2LFjLdOw1GHdDJT6G4cWLVronnOBMBmtWxmY2Z4dErWPzcsvv6zPxZ5VpnDV0RYO5AgzHV+MDWjhkG8GYXXO9AbibAQ3dWQsW7as3gtg/zg4CsOxGQ6xuG46DH2eaZzqUInnmdmZ7v/jjaNHj6rTJb5nZhpWr169NNxUXHWgNp2eOs1i0YcZ7CzTGel1fOK8adOm6kwKp3U4oDp572AqeHRewOnZdAoaZjoaDcOfaSyaj9g4EfmAvDfCljqamkZjmc5NF2pgs1HTeevz4Gjarl07TTMcXj1BeaBONGzYUDcnfeyxx9TJFPhLm784wEEZTvpwPkW8zYxK8980nqvqimmE6oSKumZm5LrgxB+oq3CIdYO4mI5CyxfO6oHSD0dk1C20AdQHfB8O06gPcKpHnLH4B781AoWev/baa1c5taMskC+oc1iY0L17d30uHG3hPOyr/DyB863pxC0zGVHnXTjVo73BsdcMTrpJLPIGTs8r7Y1PjYBsVahQQcsC6XAceb3hbjdoE6ZT1HuhDhvBWOs/Fqd4gkUbFStW1DqBPbIQf9OB6jUjpGudzpYtW7TDs7e2G2qeAjMB0zZmBgHLTCjUORr108zs9bqvtHvrTzxx5wXuV61aNc17LCBwCFc6sPjKCAL22RVQh43AqnVmypQpupAB/RHKH320A9KJBQtIJ9KFuuqA76Fdok0ZAc8O9Q4WODgLAxzMgKaO795A/TPCm/b7cDA3wqM6rXuWeTj7IYdgxwlfbQt5UbVqVd3Ad+HChdpe0IeVLFlS95zzxFe/DlDXUc88+wlvGOFEFwbBwR5l4yvtqDsAjvZmkq/PxabA3tof6iHuV6hQIe0DcI78z5Ejh2UEV81z5D36Viy08iwff3mBxSmoF3g+Fn4hjtgvEedm0n3VIgA8D/dFm0Q83GWNxVoYr1q1aqXx+eyzzzS9qOcA3w+2zzGCtF4zgpe2L4zdWOwCfMkkiDvqKMYZPNud39gHF6CtIW34Q5tGWaHdJhZxEuRCBYMsCgggM430q8cOaDjoEIIFq2iCAffdvHmzNmBPjrv2d/IGKuCGDRuu6sQxwDuDqOd98V38xqkw/kAH5dmY8XsM3A6e90cDQ4cBIOSECjoUNJb4BCt90ODQYbsJlDZfQBjEyjjkFTqcv//+W1ciBtojKBDoGJ2NYd2gY/eMuz/OnDmjQpOz4jQuoG7t3r1bj9GJeGJm6NHXwwnaJyYiwdRbd7tBG3HqozMo+gN5FGz989d2QwE7tuM+uJ+3NhNK2j0J1IeAcKQDq0QxufAF2hzaBYR1X89BOjEpik06HbBpsmeaUf9xb29gdSTqBcod/V1CE+w4AcLVtrz16wD1INh+AhNf5GuwIJ9xb3xeK6D/wwQQ9cdNKH0O5AyMx25h3iGQTOINfAert9HG0JdAmbBgwQJdZQsBPDFIgX+MVJmomMJS8yRUnQUKFIhevUniB5hEYAKG70gkYDo/9SOB4zIc0R3gyA6zg7NKLFhQ12A2gckbi2wmTpxoXyEkaYOVo02bNtUVd7EBvlRYgAUTK/bVChb4CsO1AW3RTKDUxYGQ+AY+85988okuGkoqYPU1TOfwrU5h+6wbYVLbJuLrhCUkSUKQwzJlCHHwo4LzIYlfkNfYBgIO/pECNl/EhtEQQLG0HYtNMKBhc8pQgQAIYRYOtXBSdW9HQUhSB87VWDSAlXuhAoHM2TYEC0GCBT5XaIPwBUKbwSo9QuIb+KCvWLFCfZmTCvBthJ/dsWPHdOyA4Ab/PfhYhmuRVKgkCUHu1KlTqlnx3LKEEDcnT57Uho1VR1i6H8pA5MmmTZtU+4stGgiJNLBYAwtFEgpo4rA4AhrxVCGsEiTkWmXbtm26OhgLaTCWJCZJQpAjhBBCCCGhk2D7yBFCCCGEkPByTQly2IMODvHXAv/995/6ssExn1ybQDU/bty4oPY/ii1Hjx7VvZPgz0ECg53esYdYfJYJSXrAbxav6YtPAxV8vfD2FkLCzTUjyB08eFCeeuqpWO+SndTApocY6H1tskkiH7yXFzv+Y3PK+OLnn3/W+2MzaxIYvIcRu/Nz0VXyAhsHg/hccYg3EuB9qPRmIuHmmhHkMGB9/fXX18yCCayKwe7V2BWeXJvAgXzYsGH2WfyAd3pCu4u3V5DA4JU/yK/nn3/eDiHXOihvvBLS32shwwFeTYb6lRjbU5Brm3gX5L7//ntd8u4G53jlUmzNhngdDF434wb7Kjmv2wgnMLUgrhh0wwFeuwKB0wHn3377rX12Bbx2xP0KnKQIVn5uDOLF6p5g9SnMDMGY+7A6Dybz+ATaXMQHZREbsL8WZtq+wCugUGfdYN+hxx57TF/vFA4wy//ll180LW6Qx1hp6LnCEavEPd8JGRvQhtE+PNt4XAl3u/OWP776JuyvFl8rQj3bvwNeDYQ6iFVw4QDv98RrjdyEq8zjC7QJlDn6h9iCV9yhPfrCW5njVU94/3O43FhQhtDseoJ3/uJd0554i1NswJjhL+1u8Dx8n1wjmA4u3sCOy3ny5LFmz55th0SB11vkzZvX+vDDD+2Q4Pn555/1lSLu12FgV+fy5cvrq0Wc1+6EC+zWjLiOGDHCDok92M0er9PCq0kc8GoTvJYGu0Q7YNfqG264QdPjvEIpLpjBUF8tgnvidSp4bRr+nn76aX3FF95uEBvwGhfE3dkZO1jw6ha8Lgrp9Ad29cZrc9z5FR/gtVh4TRfyKVTwWiG8ig2vi/HF3Xffra+pcYPXpuFVOni9TFzBTu6vv/467DW6C7qb22+/XdsgXsvkZsiQIZaZ/NhnsSec6XATznbnLX/io28KhLf274BXyeHVR+HYGR5vdkAfaYQiOySKcJV5fIFXlqEutWnTxg4JDbxuC2Xs65VdCVHmeG0XXseGfssNXh+F1zjh9XB4Y4ODrziFSmzGDLy6Dn04iXziVSOH/YYwC2nSpIkdEjVjMoOL7iyOYzhjhwJeZu85q4HDOHZZnjdvXpxMVditGTNCB9wPqnC89Bk+a3FxGMc98KJp+CthM1u8WBmfeBn2kSNH9MXrDkgPXq6M2bPpXOzQ2ANVPt5+gHzDxoUDBw7UP7zZAZt7Yh+/2IByxCaIv/76qx3inVGjRtlHUWBDRWghA2k98JJt98vsg8GzDANh2oC+ZBp5HhuTR8OGDaVu3br2mXe+/PJLzScHlDe0JTDpGME6TloS1ElslAytAkA7cLR/0EC1bdtW8xsLZ9zl/MILL2id9kUw+RiudMRnu/OVP/HRN/nDV/t3QJrNoKqbVMcVlDW02GXKlLFDoghU5vEFtD9YSOAPtEFoslCX4Occm0UBMIcbAdY+u5r4LnPkO8oRm62jjqGuAfQx6ANQx7Gpsttf1VucPPHsP70RmzEDfauZ4KufLolwVJxLQNzvn7t06VKM924GC2Y7bo2c+554dxpm4KGC96xBq4L3LTq474uZU2zi6oD3IEIbAA0DZk3e3h/n4H4u3g8XqsbLF3hhOF4g7Uko7yL0Bt796gu8aBlaQDehvI8UL6QPViPnrQwDgZlsXMoVQJvnTyPniec7GPfs2WMfhQ7qOuoSNLtoznhpuvMOQvdz8H7AYMs52HwMRzriu935yx9P3M+Nbd/ki0DtP5Q2EQjPe8WmPwwn0HhDc+uPcLUJaPT8vUTfk3CWOfId5frYY49Z9evXj9aIwmLktj6EkjZv/ac33OkIZcxA3w1NHtJOIpc4aeTGjx+vvgUvvfSSzqjAzJkzpWPHjvr+1BkzZkjz5s1jbAmC8P79+8tDDz2k30udOrWGwxcGq/jwKpgWLVrovYMBv8Ps9o033pAHH3xQj9OmTavaB8zQED/MyJ3v4v6dO3eOoZ3AzBgrXuGjAo0eZjcA2qouXbro97H4IF26dKqFGDx4sJjBW2c/0KjVqFFDZ2K+wEIMaGQwK8OsDbMwM3jpc/HeNtwDxw7IrwEDBuhMEfFBejBDffjhh3U1HfyxbrzxRs0naByQb5h9I62h+FrAxw2zxFy5ctkhUcAv7fXXX9f7Ia3IN/jwIE49evTQuMLvC3nWt29f/cSKLE/gr9G+fXsxHZf07NlTtQF///23lhXuBZCHDzzwgL526N1331X/pHbt2ukz3SCu0MaaTser5sdXGUIb9fLLL+tMGO/wRbwdcIzyRRmgnjppCDZOnqBe47tYYGAGBA1DelHPcc3BtDs9x7NRxmg7ZlBXrYUZAHSGjNkytFz+NMxbtmzRtoc2N3bsWA1DPTCCrx5D04V0P/300xoHPAPAVwrle9999+m5G2/5iPxA28I7D6HhQxxxL2/pgEZj0KBBUq9ePdmwYYNqGsqXL++1ffgqM2/tDvVv6tSpqgGFdgvlhfv6e1+wr/yB9jvYvgkrx7t37y5GGNH8rF27trZX+KBBE41XZeG1cahnvvDV/vGJOvX++++rlgbO9nhfo1NObqCpevzxx7VNIn8AfJxefPHF6LQh7/F79J1msiuTJ0/WPMOz/JU5CLV/QbzRpp1+t3fv3hruCdKGdxl/9913+h1oqtAesUoU9QSvGcMbI5DPTn+CcoEvY2zaBEAc0V4RZ7xL2amrwZY54oh6g9f/Id7IP2jdoTnzBfJo9OjRWo7wG0YbxPPB+fPnNV0oG5SLY8HwFScHb/0n8gPvyoW2HX7hWEABvI0ZwfRjxYsX1/xBPEgEYypTnDCVyjIdjH1mWaazs0wHosdr1661UqZMqVoVAB8R01j0GDMA+GuYzkPP4bM1adIkPTaVSmfPpnHruSdujRx+A38rsHv3bv2dMxMyHbmVPn166/vvv9dzYDoTa9myZfbZFUzj1986mgH4ZyHuRqjRc/g2YDaNmbXpiKwCBQpYpnGo7wPyIGfOnKoN9AT+Cqazj559d+3aNVrDBG2E6eT0uc5zMJs0goUeY5YFHzTTQWjelSpVSrU/8AOEdqVQoULq32E6OY0X/N3gZ+ILaOTgp2EGFct0wFbNmjV1BukNaC3gZ+OUCTAdnmUGFD02nUJ0uWLG7cuvxQyilhEU7bOo2ejNN98cXX7IZ6TDdGaqNTGdqGUG7mifETwDZYh4mEFF65oREvSaJ55liPqA2aYzG542bZpqQ/BM4CsNgeLkCcokU6ZM1jfffGOZDtYqUaKE1ahRI73mpNcIA3qOeg9/MidORjDW78NvBm0H8TeDs+Yz2pHpkHVG7wnqC3xxHO0LfF3wW6c8UefhZ+ZgBiXLCBz6fNRTnDvtxhPPfERcihUrZhmhzDKDg9WvXz+f6Th+/Lg1cOBAzQ8jEGi9NAO0VatWLf2eJ8G2O7QV+Hniu2ZwthYuXGgZQU/PzQCn33UTKH+C7ZvQzswgr1pDMwCrdssINNqmUd4oG5S/p0+Ug7/2D1AvzORTj1EHUFeQLm8gnUiDEcrsEMsyApH6duIPcTYTBw1HmWXIkMEygrxlJq8ByzzU/sVfv+uJEXyjNXLo04wwqeWK9oQ+xQhIXtsitMihtAkAjRzuj3pqBFzNA/R3IJQyhy8j+g70x8g7lAvquDfQX8PfGOA+yBenPuAcdd9MVvTcKRfUHeAZJ0/c/Sfqxx9//KH5gTaANo7xzNeYEWw/hn7CCIz2GYlE4uwjhxkhfD8cDRf8PJwX3OJ9mGbg1GMAW7/p+FVrhhkMVpmaxqSrlHBuGo9+DzNBzFrwDrNAYFbi+B9hJgU/J8xMgRlYdBYHjQvATASzP8yiAwFfFcx0sQWI835P3Bc+LphpwRcDsz34nWEmBk0dNhL1BDNW+Kdh9g3MAK+fIGPGjKphcoO8MR2jfn722Wf6Ul5oNkyD1D/EHb+BFs10LmI6X6lWrZrGCzNH03jtO3kH8cbMGzNQ5LMvMKN89NFHo2f7pq7oJqlOmSDPoZ1AGPLFyfNAGEEyRrnCDw71ADNJaDow40aaMEN3gEYGs35oUqCVC3ZlFnxFoFlwfPFQDnny5In2IfGVhmDi5Almu5hto3w/+OADXbUGjYlneqGZMsKFaj1Qxmg3qAfQmECzA1Bn8RukFbN51AdP0JaKFi2qf8Bdr8Bbb70lTZs2tc9EjACh2kFoc1AHkJ5gQVzg94P6gvyCls9XOqCVQ7tHu4EWC/USGgR/eefGV7vDvdEWADQ62JYHfp4oGyNUaLibQPkTbN+Edoa8QttDOqDpgIYImhuUN3zvoK3x1e78tX+szEVdadasmZ7j3cHwY4OWEVolT6DlRB1x2iTaAdKBPg/1DZog9AkAZQbtG8obGsVAZR5q/+Kv3/UH9uiDFgjaVGhrX3nlFa1b3toi8jiUNuEALRTuBW0WtHxO/Qi1zLHa++6779a8ww4C3uqwEdRU0wbNMUB9RT1xQLkgf5y6izTAmgMtIPCMkz9QP1AGAP0hNHl9+vTR+HsbM4Ltx/AdaLlJ5BJnQQ6dOyo6KhAaHwZb98vM3Q7kMI9B8IHJBH9Q+0MljHA0CKezcxoDPgOBjhodIjordLL4DYQOBwhbELBWrVqlZg2n0wwE7gW1P1TsMJtgQHbf150uNBB0Rt5U7zBZoPNycNLo4L4PQF5AEHbyCAPme++9p9c8v4t7ueOEc+SjP5AudKRo0Bg0kC5fwCSH8oH51TPvYOLq16+fCvHFihWLEY9AeKbDs5xRf3ylA/GHmS0Yli9fHuPeeC46Z2fLFH9pCCVOnlSvXl0/YRIB7vSifNHBOuWLzhcmXZSJt2cCb88NVK880470QRhy0u5ZBoHA993PCDUdweZdoHYHnLgjPsjr2LQ74Fku3vom4JlXuFew7c5fPNCusB2JO78wsKN++5qswCQJ8yeeBwEFkzIAId0zjRCWIAw7BCrzUNIZqN/1B57jGVdfbTGUNuEN1A+nHYJgyzzYOgwh7cCBAz7L2LMdApSxe9umQOXixvmu+xn+xoxg0oGJLhQRJHKJWcqxABUFsx7MIiHMOR2LNzCr89RaYSaARgBtGVYNOcBuj5VEgYA2DB0bfACcAdQNOgXM0N5++21tqPBDCQYMSpjJYMaDFXSeHY8n6Mwg0HmChhOsBgn4yqP4ACtY/QlyEPYgvKFs586dG61NwIwYHSB8Zp588skYK24TgmAHDGh30Mm5gaYHdSI+04BZPtqFow1yg/KF7wq00A7wp8NgEAqB6pW3tEOzibSHg3Clw5Nrrd35i4ezQtVdTqifSDO0Y95AX3bmzBn54osvtA479Rb3ggbYrcnDAB2u8vYkUL8bCvHdFmGZ8UY4yhzlC/yVMcoFQq+D0weFi7imA5MJ3INELnEW5ACcRDHz++uvv1R17AaDrjPwwtn8hx9+UHMDnGih/v366691Zg8VOjREUN2jYqEj9yVkuO8JTRFUwwDOzQjHjBYqegeo77EcHypzaCW84Sy6QMOHmQuOpWhwMJ1gsEJjhHDp3NfdMPF9ALW/JxCEYApxBjiYoODk7TicOulw5xHMDFgWjnxAA4U2EbjT7RDo3A3iH+xM1gEaADihu8sVAw/yGvmO5+HYnTdukK9IB77n5BOO3fFEXnjG2zn3/C7wPHfwLEOYVrCgwZkQ4HcwrcNkHCgN/uIUCNRxmFqczhG/c35766236sAF0zbMODBFYgEO6qZnnXDw9lzUK0x84IAPHNcGDPIAacfEBc8CeBYEd0er6o6TJ5756ODcCwRKRzBpAKG2O+C0PdwTfY5j1nITKH+AOw989U3A/T2HQOcO/to/tJfIxwkTJug1AC0kXEyQj95A3qC/hbYcJlsHmHkhAGEy7YB7YdNpB2/pcOPtuq/zYPpdB5QxyhfX0BcAd13y1xZDaRPeQJliXHHA75zf+ivzYOswBDK42mBRh9O3ooydeuaUi9v8j3LBwhUHd5w88dZ/Anf++RszgkkHzLIwvQJMBLjwIQIxhRoW4DRqGrd9FgUcYvEIXDMdmYYZAU2dOxEOJ2Bnubep3OosjfDcuXNb3377rYZ7AqdNI/ipoz5+YwYry8yK1BHbdJiWETh08QGczN20aNFCHUv90bBhQ40DHGo3btyoCxjg5NyrVy917MY1LG4YNWqUOpSaxqNOqnAQnjt3rn2XmCDdt9xyi2U6KXWkbdeunWWESd0U9+jRo7pwAmnGZpam87LM4KWOsgjDH5xQTWNUR2fTuVtGWFSnYjgBI61wrMUGoPPmzVNnZcTXc0NI/B75ifibgUDjbzpJ+6p/8FtsWYIl7Q6mE7HgwIxygGMyHG7hwGsEPvsbVzADsS6wgMMvNstcsmRJdPlhaT021EVeonxMh64OvEbgsEznpItd2rZta6VIkUI3LYbzLvIvVapUPrcYcJchgGN+hQoVNG5dunSxxowZo+H+0uAvTnBW9gTPMh2u1m3ToVvPPfecOucDJ73Vq1fX9AI4MGfPnl3LF87ZqFMoeziSI8xMPDStuBfOsTAE9cINygXxRl2CQzqc5pFPWFiANmU6dMsM9JoGM7hrvjmLfLZu3Wo1bdpUne7hwO8Ndz6iXSO+KDNnsQDwlg7UdyMoaxvHc91lhsUK3gi23aEs8Cyk2wxWuigA7cYbgfIn2L4J8UHdLVSokLYxnCPvcuTIoXFAnJDHWETjbXNVf+0fcTRCi9ZP1E04qKO+O/HxBdpF3bp17bMroC8ywqEunkDdwQIB1CsQqMxD7V+C7XdB3759tT1h4QUWUlSrVk2f9d133+l1f20xlDYBsJikXLlyurkvfoO8cAi2zNFOcYy8xKIapBfxK1mypPZhnmAxCMoX/STu3ahRI6to0aJaP4C7XAYMGKBlbYQ+veYtTm7c/efixYuj86NDhw66yAT4GjOC7cdQrr/99pseY0EY2okzLpPIIGyCHFY1ofIEAwQYNGjP76PTMbOi6EEwWCCUYOAC+C1WO7nBc9BQgsHM9u2jqD3G0JDQ6BwhC0AQwoomrLhDo/d8njewYgirLnF/pD8QZvYV3VATG6zi8gT54W7sSJsv0FFjFWFC4S5DgPoBod+zXoWShkAgfai7boHXH1j9iAETn3EBK/6ceoKBzhOEoY46A3ooeOajN8KVjmDanSPIIb14JtpfIALljyeoA5s3bw66LwsWf+0fz0J6nBW2weCtTQL0g6jrvq6Hk0D9rptAdQnljLJy+om4tEXEBXXeiVsgwlHmSDvaP/o61DfPvIhLuQTbf8ZmzFizZo3ueefGmzBOkjYp8I/pHBMUrHqD+ja+fL8cTMet6m6YAQoUKKAq6FDBaiWYfd37VcE/xHHuJoSEH2/tDu4bWB18wMO5nFwbJNS4QK7QqVMndT2CmZ9ELmHxkQsVbCrqLL+OT+CHUKJECV05FBshDsBXz+3PcPJk1AvfsVIu2C0VCCGh4dnuLly4IEuWLNHjZcuWhezrSZI+CTUukCh/aWy/glWuFOIin0TRyCUUp06dUgfR0qVL2yFxB47dznYHWF3m7NtECIk/jh07FmN1J7bW8LVwiRDin/Pnz+v4hT8S+VzTghwhhBBCyLVMophWCSGEEEJI3KEgRwghhBASoVCQI4QQQgiJUCjIEUIIIYREKBTkCCGEEEIiFApyhBBCCCERCgU5QgghhJAIhYIcIYQQQkiEQkGOEEIIISRCoSBHCCGEEBKhUJAjhBBCCIlQKMgRQgghhEQoFOQIIYQQQiIUCnKEEEIIIREKBTlCCCGEkAiFghwhhBBCSIRCQY4QQgghJEKhIEcIIYQQEqFQkCOEEEIIiVAoyBFCCCGERCgU5AghhBBCIhQKcoQQQgghEQoFOUIIIYSQCIWCHCGEEEJIhEJBjhBCCCEkQqEgRwghhBASoVCQI4QQQgiJUCjIEUIIIYREKBTkCCGEEEIiFApyhBBCCCERCgU5QgghhJAIhYIcIYQQQkiEQkGOEEIIISRCoSBHCCGEEBKhUJAjhBBCCIlQKMgRQgghhEQoFOQIIYQQQiIUCnKEEEIIIREKBTlCCCGEkAiFghwhhBBCSIRCQY4QQgghJEKhIEcIIYQQEqFQkCOEEEIIiVAoyBFCCCGERCgU5AghhBBCIhQKcoQQQsg1xtmzZ2XcuHGydu1aO4Rcq1CQI4QQQq4xZs+eLcOHD5dixYrZIeRahYIcIYQQco2xatUq+e677yRTpkx2CLlWCbsgt3//ftm9e7dYlqXnJ0+e1E+H5cuXy8CBA2XZsmV2SNw4f/687Nu3zz4LncuXL8uOHTvk9OnTeu4ZX4AwfC9U0JDWrFljnyUeiP+KFSvk2LFjdohvzpw5I1999ZV9Fj8cPHhQ4wPVf2xAec+ZM8c+iwnKcuXKlfZZYOKa3n/++UfLORDbt2+X1atX22fEIVLzD3X322+/tc8CE2w63YTaTvy1i0jlwoUL2j6d8QTs2bNH8yXYPhn1Ztu2bfZZYGJTVkmRe++91z4KH5s3b5YNGzbYZ/65VvIxIjANJM6cO3fO6tOnj1WwYEGrWbNmVteuXa0OHTpYjz/+uNW0aVP7W5Z18eJFq0KFClb69Omt8uXLW5cuXbKvxI6+fftaGTJkQAu3KleubJmOzL4SHNOnT7eaN29uvfvuu9ZTTz1l3XnnndaLL75oX41i6dKl1ujRo62nn37aDgmOKVOmWGnSpLE+/vhjOyTxGDRokFWjRg3LCKt2iHeMEGTdddddVrZs2eyQ+OGJJ56w7r//fst0xHZI8Pz5559W6dKlNZ7eMIKzxn/dunV2iG/imt5p06ZZ6dKlswYPHmyH+Ab1fejQofYZAZGcf6iHWbNmtczkyA7xTSjpdBNKOwnULiKRQ4cOWe3atdP+3Qh0dqhlGaHMypcvnzV//nw7xDe7du2yMmXKZC1btswO8U9syyqpYSazOh4XLVo0YL8fLBi/c+fOreNmIK6VfIwU4izInThxwqpatao2NggvbmbOnKmF6TBixAirVatWlplpWi1btrTGjRtnXwmdsWPHWm+99ZY1fPhwK0+ePPr8l156yb4aGDOrs/Lnz2+dPHnSDrGsb775RjsOT/766y/rl19+sc+CB0JrYghyn3zyiX0UxaOPPmrt3bvXPvPPt99+G5JgM2/evKCEJgcMSqgDZ86csUNCB8K2vwHrp59+UuE1GOKa3ptvvjlgZ/Xvv/9azz77rH1G3ERy/oUyEQ0mnW5i004CtYtIZMmSJVcJcmDx4sVW79697TPfjBo1yvrqq6/ss+AItazChWe/HRe6d++u4+znn38edF/oyfHjx/X3Dr///rv1zjvv2GeBSax8TI7E2bT6/PPPi5kNyv/+9z8xs0c7NIo77rhDjBBhn4mYghUjqYuZyernddddZ18Jnbp168prr70mTz/9tLz++usaljJlzOSY9NlHVwOVL0yOjkkVmE5QbrzxRvvsCoUKFZJGjRrZZyLnzp2zj/yTNm1a+yjhWL9+vZjGZp9F0adPHzEzWPvMP6HEGXmH8jczNTskMDATGeFW0qdPb4eETqA4Nm3aVMxEwT7zT1zTG8zvzWRGhgwZYp9FmfNhMiKRnX+e/Y0/QqlnIDbtJNRnRAK+0lSjRo0YY4sv0Bfcc8899llwJEY+Tp48WRcnhAOMTxgbc+XKJW3atJEHHnjAvhIaL7/8spr3HYoXLy5GQLTPAnMt1sekSpwEOfgqTJw4UY/vvPNO/fSkV69e9pHIwoUL5amnnlLbff78+WXr1q0aDr86/L5s2bLy4YcfipmBq6CG85kzZ+p3PClVqpR9JHqfSpUqSdeuXe0Q0ftgAMCnN2666SZJlSqV1K5dW+Pl0LZtW/2cOnWqCqdz585VIQiCJ8779+8vBQsWVN88T06cOKFxeOutt6RTp05y4MABDd+yZYuY2bI88cQTeg5/jS5dumhegAULFmhjGzNmjLz77rty/fXXS7t27WL4gCA+77//vj4fwisGtlmzZtlXo0A+tG/fXsulZ8+eYmZQ8vfff8sbb7whAwYM0O8E8yywadMmady4sdxwww36G0/QWSD+8FUZNmyYLnMH8ItAB/Dqq69qmULId8Ax0o0Bqnnz5tE+T8HGyZMffvhBy/3WW2+N9pNEejt27ChffPGFnsd3eh3wTHdcjh49quWFyQwGYwiB8A3Febdu3aIHl3Xr1mkbQf1Au9i7d6+GezJixAgxs1vtoJ988kkNwznu98orr0T7P6K9PPjgg1oX0Omizs2fP1/reZUqVdR/8Ndff5WqVatK5cqVtbwAvoPfzZgxQ5555hnNp2effVbTferUKRVg8ayPPvpIv4/8w4Shc+fOej0QuC/qLp6BNnLp0iX7ShTvvfeeTuw6dOig9w4m/6ZMmSL169eXpUuX6u9KliypZeMmmHZz/Phx+eCDD+SWW25RH8vWrVtL6dKldXBFW7399ts1P/A8gLigDiM/kT+I66BBg6RevXrqP9SkSRMpX768zJs3T7/vxjOd3vDWTjB5CCa9wFu7cIMwtFHkJZ6BCS36K9RDp19DHFDf+/btG6OtegLfRfwO+Yp29csvv2g4+nTUo7ffflv7zenTp2s40uD0q8DpV1H/gsF9X9RP576eIG/RB44dO1brXO/evTU8nGWFtoT+FvmIPgP9POrlpEmT7G9ECWgoS7QTxAN1zZOff/5Z6zTyGHFGXPyNF8hj5Bmejf4IuNs9xjWkGxN49GmLFi0Kqf4AtBmM7VgsgbxDnUe7QZ1H241rPh45ckT7oMWLF+s5iSNRirnY8fXXX6vaG39mNmGHegcmLHzv008/VZOEqWzqK2c6Dr0OswCuO+pyU1H13FQmPfeGEZSsHj166L3M7COG+dNUcv09zIq+MAOalTNnTv2eGewt0ynZV6IwM5AYzy9WrJjG0wgpdkhMYNZAOgFMt2ZGEm1axX2M8KnHAKbhMmXK6DF8tQoVKqT+eqYDVVMSTNJOnpqGaJUoUSLaV6ZBgwaWGfSt9evX67kb06A1LxwQD6i4jQCg54GeZQYBLRfTGan/D/wcTWPVa57ArI68M8KAnu/evdsyglC0Twb8JDJnzqzPBGYw1PsD+P+Y2aIeB4qTJzAb3HjjjZbpAC3TIVgVK1a0zGCi1xIyvQC+hyh3+FF6xgW+PPi+k37Tyeq56di0/OG/U7NmzWizEfw8vdXXjRs3Wka40GPUAcdfE20H+WAGAT0Hv/32m2WEdjWrPPTQQ5aZsGg9NwKHZQYcdYOACwFcCuB/5Zji1q5dq75Ed999t5qm0U5Tp05tmUmAXjeDlObT999/r+cAbTUY3yPUSZQ3OHz4sN53/Pjxeu7kH3wbUZ/xDMQX+Ms/mMzgI4VztMn//vvPMoOmtjnHXSLYdoNyhYsG6gXMcKi/MCHlyJFDy9UMWpYZ8Kzs2bPrvYzgqu0Zz4bpEyYoI2Rq/o0cOVJ9u8yga9WqVct+gv90euKtnaCOBEqvv3bhCdKE/gj3R71H/4c64uCrrXpihIfo9mAGfS1rgHaE+ADEE24sDniuZ7/qNuG5Wb58uabZaSP+7usG7Rl5DtAv4R7I93CXFdxuUAaIC9qCe2xAvU2ZMmW0eRw+jHAv8gbcgmBKd/A3XgCUSfXq1e2zK+0eoH4g7gD9HNobyihQ/fHECG1a74G7zqMs4pqPyBMz+dW+jcSdOGnkoIEKlsKFC6sWLGPGjDojhFkC5gPMBoGnmSIYswVMtNAqwPRpKpI8/PDD0TN9zBBN56BaC1+Yjl03S8TMBrMVaGPMQGVfjTLpuDENQkzjkX79+tkhV8AqXKwYczST0DhihuKA37pxnyNvoOXDzB8zHsyUoHHETAyYRipmEJEUKVLoOWYySK9p2HruD8SjSJEi9lngZwGkG7M75C9mdJjlBQO0nzBNZ8iQQc9NxyR58uSJ1oq++eabqhkyg7nO6PAHgomTJ7iOuCFfcE8njgmZXgfMcqGR84yLt/oDHnnkEa1zQ4cO1TrohEOLCI2bJ9D6YGYM7QnqNzRtIE2aNKoNgXbQdIwahjoPkxPMKkgn2gaeYTpsjSeeZTpX3ZIAWm8z2OjvypUrp/FHPsAchdkzjh3tghGINAxxAJhZQ5uIuhgIaKhRF4ARjlQD7tbgI15oK6jPeE4w+ffYY49p2weIF8ocZQeNElbNg2DbjZlsaPpxf2hUUH9xL2gN0Kdky5ZN8xD1Ff0V+jD0FQ5ZsmTR35uBSrUoZnKo3/esv77S6Ym3doK4BUov8NUuPEGaJkyYoJpq1F1oYFBHHHy1VU9QN6GthVYGmjv08QBlhHqI+O3cuTPG751ydPA894e/+7qpU6eOpgHAwoM6gO+Gu6xQJtBaQmNmhP7oZ4K8efOqZgzPwmpPjGm+4utJoDxCu4dGENo24LR75IsR0NRMizEQFgqkAW01mPrji3DXefwO+QVNN4k7cRLk3B2ikfDtI++gEqFjhSoVA7vTuXqaWEIBHQ8GCAwMqFgwSznmTHRU8A/Apzcw8GEwgtkUjQ2CGIQA+Pm5/QKCBQ0Kg6cbqLiDxVNwxSDt5A2ER3SU6FQBzAvoZIPFyWsHf8/yBHkcrD8StpZx3xvPhXnczLr0vGHDhioEw5yCTSrNRELDQShx8sQzjgmVXm+E8nt0ru46gkEYf55AOIYpCeYwmPzcO7Wj/kM4QqcIwQM49dAzH/Asd57j3DMf3L8xs+sYpl6Yf3788Uf1L/3pp5+kWbNm9hX/eKYT9RmChjdCyT9v5Qpi02685RVw8ss5d+4dlzoG/KXTVzsJlF5PAuUlyhd9JEx6nuXhr626gbkbZjcM8o8//nj0fWrWrKnmPlzHZMLX70Ml2PsWLVpUzZiY9CAfkHf+8jG2ZQXgKoBJBxQT7nqO31WsWFFeeukldWHA+BKufEDaIdTC3Opu9zB1QziDKRd/SD/KF24bodYfT+KzzpO4EbMkQgQdpSOl+9q/CI0c7Nq1Sys1Kh0GpUCVIhSgdbn77rtVmHMGMVSov/76y2fFwmwGwpsDtDWY1WDGvX79eg3zjKM/UInhm4YZqjdCuZcnWGgBvyhoNj799FP1N4AvRUIRbOeDGSh8zdxg5oWBAJ0LOmH4kyAt0H6Fk3B1kCCu93J+H6jMc+fOfZU/HuqlJ2gzL7zwggol0CrBP8aZ2aLdoLOGD+SoUaNU0xcu0PFCg+mAcoS/IdovfM8gBARDsOl0CDb/ApHY7SYQ3upZuNuJv7q8Zs0a1ZZACHG0vCCUOECzi0nsxIkTdV89CA8A2iH0hT169FChyk1cytXffd1gYgO/UvjFYpyKK/7yEVpr1Ksvv/wyxp6UEKBgCYCvGjS9biEvEMHkEcoM7cjd7jH+ob+AH5ybpPKaLn/5SGJPnAQ5MH78eFW7wunU03ERgzqc3sHIkSPVjANNGJw1nZV/joTuaM4gSMF52hGmvBU8zCNoGG4zKMDMx5llQNWNQQ9aDF/AWdMN0oFOCxoQgNklZjgAWiU4lDuCqSeYwULDB3U2QLyRVsfkhXtBI4BOCNfgTOxcA/itZ1qdc+QFBm7MkGEGQaeBQdYbUMFjZojfQngGOHbf29+zPL8LPM8dHHU/8gTPQmeCdDmdBn4HbQw6X9QFOAPDzIlwHKMOONoSf3HyBOH+vut5Pb7SC/z9HnUJHbJTh5yJg1OHYOKE0zfMlcgLaDS9OQtjwIUmDBMWCFAQqNxO7DD/4TnQnsBh38Ff3Bw8z93O2EuWLLlKMMTCCgxWGDDQXhzQD6CsvYF0ol3AoR1lAdMP2jDwF8dA+Yd7AV+/D6XdeIsH8HVvz89A9RfH/q47+GsngdKLT1/XPEE/C8sIhAGYWNE/Q8sKArVVN05/BwEf/SnMnQD3wu8BzIqYUKO/Q9mhL3RM+k6/6u4L3bjTBvzd1437e4g/fo+xxslHz3xxn+PY33U30LQhzTD1YzIFM6NjqsRiM0xkIewiv9FmfeUj+hakAc+BQiDQeAEwMUEbdLd7mDihacWiPSgyMBYgXhAiA9UfT5w4Ib7OmAKcz7jmIwR/z3IjscRkbJyBo/Rtt92mjo+mAunmwHBkhFMlHIkBnGCNkKUbCsJR2Qg+ukjBcdQ2g4A6F5uKrxvz1qlTByWuzrSmMut3HOCoiQ0hTSevTrpwbMfmwKZR29+IcvzF730tTIAjdN26ddX5GQ6ocOqsXbt2DGfuDz74QOPTpEkTdc42DUedweEw7w0sbDADhTrWw/GzZMmSukEy0mYaoW5qesMNN2ia3n//fd2/DHvpzZkzRzcXbdGihWU6UY1DlixZNB+QVmxKjLxFelKmTKkLCMwsU/PdE9NZqAMwnE7hiIt9mIwAoE71iIe/Z23btk3LD/mK9MJZt127dlpOWNjiDZRjiRIl1HEWmEFT989DuowwbY0ZM0bDzSxfnWcRFzjqwlEemzkHk343cNqtVq2abnQJ510zI9X7lipV6v/t3Qm8TOUbB/D32vd930VCRHaRbJHIHtkrSaUsJZUKJUkSKpGEsvxJWUKhUpZsKZGQrBEi+76+//N77nuuc8fM3Ll3Zq577v19P5/LnDMzZ855z5lznnnf532PJEbH5/ZawZXsQ+xjJGt7rgtYPzhkfyDpFwNpWidHOeaRLAxIcsbnY771693ruGHYTit4k4RnJHFbgfENY5gh0dnuWANIIsYxkD9/fhn7DtMYnBvfMaw3ygJlgmNp4cKF8h68tk6dOrLt+D7gc6yLnzznhPc5jz2UG45NfD+8OXHihK5Xr568JnXq1FEJ+M7yw/o59411cZTX+Co/LBNjVGGZVnAp64DvFKZxPrAunAF/b6ygUnfv3l1eh+PRuoDKfsE0BiHGGIz4TEwPHTpUPtv6gSjTOEfgeZQVPmPq1KnRjiOscyDbafP3PfG3vb/99pvf74UTOonVr19f9+7dW6axDngdzs3oCONvHTzhXIfvELYR53x8NjzzzDNS3m3atJEOIygLjAVoBTKyHCwPx6N9XsW4op7nVexDu5xxPFrBhN/lOlk/eOR6g3M3vjcFCxaUYxvlFqp9hTLH9xJlBqtWrZLvMo6xX3/9Vd6PznTocIRjHh2WcO7AtccTzlO41mC7rMDJ7/XCqVevXjeMVYrPLVWqlJQbrkfojIDyien74gnXVJw7cQ1Fhxjnvgj2mMd5HcuyOwdScEISyNlwgsPBjYPY24GBni/2F86K5mXaCQcLTrJ4LiYI7nBRxwkLX3BPWIb1i83nsnAhxQkLF0T0qtm0adMNASPg5ILtAs+gwhss1z4heb7e+vUhn4PPxMXDWxl5g9646E2HEzAuwCjfzz//XL7E3mC7vAUE4WIHJTaciLBvPPcv9j0ukjbsbzfy3F5/sK8RUOLYwn5Br1pP6GGKoNIXvBdlh17Vvl7Xs2fPWK2XNwjkrF/30kMVPwi8wfcJF2xPWLeY7n6CdccxHBuBlJ8vsf3eJBQJ4XuCdcDF2j6P+FoHPI/zGM7bnt93vN8+/3q+f/fu3bE6rzr5W64TzkP2tQHr5u1HSbjhnI/vEo5jlKm/cz6ew+tseC+OW2yrr+sFAlVv33u8B9e/YI+dYM8p/qA3MYVGBP6xImOKJ+jpg8FqkWcUCOsLKYmt6CiCjgM2NGOjec/uDUhJD3qNo+kQx4gVoEgTYjAKFCggTWUYR82T9YtbmrHQZJU3b94bxo1ETg7WxXNQ8JuF35vgIS0G4/+haZ/iDs2e6Ow3ZswYMyc4+B6iwxE6T6CHOZp3KWlLPgiZmBRv0O0b3bQxLEcgIiIiJJ8IScfoUv7111+rqVOnSm5Ely5dzKsoKcLQOgi6kFuHHCfk48TVli1bZDgUDBGAHBvkxzghQHvmmWckOEIuqpP1q1+dPXs22t1PbjZ+b4KHfY278ThHJ6DYwzkfA+ci8AoF/GhCBw50MMGfv04flDSwRs4lzpw5EzUWEWr17E4dlHSh1mnr1q1S45Q8Fj3iPGE5GG/KhguP5y3dEKihJgvDn7gJvzeUGP31119SM54hQwYzh5IyBnJERERELhX08CNEREREdHMwkCMiIiJyKQZyRERERC7FQI6IiIjIpRjIEREREbkUAzkiIiIil2IgR0RERORSDOSIiIiIXIqBHBEREZFLMZAjIiIicikGckREREQuxUCOiIiIyKUYyBERERG5FAM5IiIiIpdiIEdERETkUgzkiIiIiFyKgRwRERGRSzGQI7oJtNZq7ty5asOGDWZOwjBu3Dh14MABMxU/EmpZJEYnTpxQp0+fNlPBuxnHCxFFx0COKARy586tMmbMqFq2bKnKly+vMmXKpDp27KgqVKigIiIi1H///WdeqdTRo0dVgwYN1N69e1Xp0qXN3IThrrvuUp06dVIzZswwc8IrIZdFYnHhwgX1/PPPq6pVq6oXX3xRVa9eXfbzoUOHzCviLr6PFyLywvo1TERBOHfunE6VKpVeunSpTHfp0kU3adJEHu/YsUMXK1ZMHsOVK1d0jRo19NSpU82chOf06dO6TJkyetmyZWZOeLihLBKy7Nmz63379pkp3w4ePKhTp06t9+zZI9OnTp3SOXLk0L169ZLpYMXX8UJE3rFGjihIaKp65plnVJ06dWR6zZo1UusBqKnr27evPIZp06YpK/BTHTp0MHOuO3bsmHkU6ciRI+rq1atmKvbiurwMGTKoV199VbbJOkeYuaEXn2URWydPnoz2eVbwI+saV+fPn4/2/kuXLt2wjeGSK1cu9c8//6jChQvLNGqOb7311huaROO6zfF1vBCRdwzkiIKEC+U777wjj48fP662b9+uqlWrJtO4yD3xxBPyGD7++GPVtm1bMxVpx44d6qGHHpKgb/bs2ery5cvqqaeekmX079/fvCpwoVhekyZNZDkISn354Ycf1KJFi/z+IWDxJT7KIrbOnj2revbsqYoXL6769Okj89577z1Vr169qEA9tkaMGKEqV64cdUyg3B544AFVoEABOV7CLVmyZCp79uxmKjKo3LJli2rUqJFMh2KbAzleiCg8GMgRhdDatWslJ65KlSpmznUIanChQ16R0549e9Rnn30mF3ZcVA8fPqyefvpp9dxzz/kNhHwJxfLSpUunypUrp5YtW2bm3AifgWR3f3++anTiqyxiC8HICy+8IIEJPv/atWvq9ttvV59++mmcPh+1WshNQ44algdXrlxRixcvljzKm2HAgAESWHbp0kWmQ7HNgRwvRBQeEWhfNY+JKEivvfaa1CRt3LjRzLlu586dUuvx559/qhIlSpi5kVDzlDZtWrV69Wq5yELXrl3VY489FtVMGxuhWF6LFi1Uzpw51fjx482c0Al3WcybN08NHz7cTHnXvHnzaM3eTrVq1ZJaMwRgMGXKFLV//3710ksvyXRsIXj65Zdf1MKFC2V63759sj0I6ALVrFkz6Rxiw4+GO++8U6VKlcrMUeqrr75S2bJlM1M3mjlzpho6dKj68ccfVZYsWczcSMFucziPFyLyjYEcUQihuapQoULqo48+MnOu27x5sypbtqzkK+XLl8/MjYSApmTJklKDgxwmvKZHjx4yLAegFgdNkZUqVYoKbvzxt7x///1XTZw4UWpf0JsWzWreeox27txZcp5wQfdm1apVMdbYoMbNGWjYwl0WyKlDT1h/0CSOfeVN3rx55TNQS4W8MezXL774QqVJk0ZqDHft2iVBFZ5H8BOTdu3aqfz580c1wffq1Uu1adNG1ahRQ6axzVj+yy+/LNPe4McBglxb/fr11fTp02U7bOgxnSJFCjMV3cqVK1W3bt2kaTdPnjxm7nW+thlNsaE4XogoTBDIEVHwrl27prNly6ati56ZE50VWOBHk7YuyGbOdfPnz9fWBVkeW8GRbt68ubaCBZles2aN7t69u7YCAXldIPwtb968eXro0KHyeNKkSbpmzZry2NN9992nrQDKTN3ICk50w4YN/f4dO3bMvDq6+CyL2EIvTKzbli1bZPqVV17RX375pTy2gkptBWDaCnT07t27pbfyuXPn5Dl/KlasqD/88EN5vHjxYt27d295DFh+s2bN5DWxEWivVdi/f7/0nt66dauZo/WhQ4fMI//bHKrjhYjCgzlyRCGCBHL0RERzlzfI+0LnB9QweUJNB3Km8D9qb5DgX7RoUXmuTJkykm+G2hZPaPZCbYknf8tr2rSpjCcGKVOmvKGJzYb1RM2YL6gN8tbBwfmXNWtW8+rowlEWoYLPBdS+WQGN1ChifEBA7SGaJ9GBAGWHbbBrwH7//XepzcK4bZ6wTNQuzpo1S2pr3377bfOMkn2Bzwkn9ChFJxLUZqI2FPvG3ibwt82hOl6IKExMQEdEQfjpp590o0aNpFZjwIABZu6NWrRooXv27Gmmrvv22291RESErlq1ql67dq2ZG13jxo1vqIWqW7dutNodWyDLQ41MlSpV9M6dO82c61CDg/dv377dzAm9UJdFqJw6dUqnTZtWFylSRH/66admbnQYAw+1aHPnzjVztF6+fLns/xMnTpg512G8PCsA0v369ZNaRk8///xz2GrkfvnlF1kvz7/atWubVwS2zTf7eCEi7xjIEcUjDJqaL18+feHCBTPnuuPHj5tH3nkGL2jKLVy4sP7+++/NnOj8Le/o0aO6Tp06evPmzWZOdG+//ba+//77zVR4hLIsQg3BGMrXG8zHoM/Tp083cyJ98sknulatWmYqurNnz+qLFy+aqRvFJZCbMGGCPnPmjJkKnr9tTgjHCxF5x6ZVoniEnoG+ekv6arKyWd9X8ygSmviQNF+3bl0zJzpfy0MiOxLTR44cKcNMePac/OOPP6T5b8yYMWZOeISyLEItc+bMMoyMN+iQcM8990iz72+//SZDpGB9vv76a2lu9gbDc3jr9GGLy/agJ2/69OnNVPB8bXNCOV6IyAfrBEJE8Qi1HoMGDdItW7b02kzlCbdWQnMtmubuvfdePX78ePNM3IwbN05nzJhR33bbbbpEiRLRbiE2evRo+Yxt27aZOeF1s8sitqygRTo4oOzwlyFDBun0EAzcogw1jFZQpl999dVoHRISgoR0vBDRjTj8CNFNgo4RqO3A2FsJBe5K4TmuW3xIiGVBMbtZxwsRXcdAjoiIiMilmCNHRERE5FIM5IiIiIhcioEcERERkUsxkCMiIiJyKQZyRERERC7FQI6IiIjIpRjIEREREbkUAzkiIiIil2IgR0RERORSDOSIiIiIXIqBHBEREZFLMZAjIiIicikGckREREQuxUCOiIiIyKUYyBERERG5FAM5IiIiIpdiIEdERETkUgzkiIiIiFyKgRwRERGRSzGQIyIiInIpBnJERERELsVAjoiIiMilGMgRERERuRQDOSIiIiKXYiBHRERE5FIM5IiIiIhcioEcERERkUsxkCMiIiJyKQZyRERERC7FQI6IiIjIpRjIEREREbkUAzkiIiIil2IgR0RERORSDOSIiIiIXIqBHBEREZFLMZAjIiIicikGckREREQuxUCOiIiIyKUYyBERERG5FAM5IiIiIpdiIEdERETkUgzkiIiIiFyKgRwRERGRSzGQIyIiInIpBnJERERELsVAjoiIiMilGMgRERERuVSEtpjHRESURPz7779q4sSJ6uzZs+q///5TPXv2VKVLlzbPUmxt2rRJff755+rKlSvy98orr6gsWbKYZ4nChzVyRERJ0Nq1a1VERIR64403VLVq1VT37t3NMxQXX3zxhapdu7Z66623JDAeMWKEeYYovEIeyB0+fFgdOHBA2RV9Z86ckf9tGzZsUO+88476+eefzZzQuXDhgnw2Be7gwYPqhx9+MFPBW79+vdq5c6eZipurV6+qb775Rs2YMeOG4yehwPF9+vRpMxUe58+fV7NnzzZT7nf8+HH122+/SQ1QIFDGS5YskYvizfbPP/+olStXmqnYw7YvWrTITEX666+/1Pbt281U/GvatKl68cUX5XHKlCnDVnuE7/Hw4cPVunXrzJzE6fXXX1f169eXx+EsTyccl++9954Ejwn1XBnfEFvgeMMfYoJwQa3roUOH5Hp106FpNVgXL17UgwYN0vny5dMNGzbUzz//vH700Ud1t27ddIMGDcyrtLY2XJctW1anSZNGly5dWlsFYJ4JjQ4dOuh69eqZqcBYQYd++eWXdebMmXWlSpV0165dtfXLVN977726d+/eev/+/eaViY91YtXFihXTbdu2NXOC17x5c/3KK6+Yqdizvni6ffv2sm6tW7fWJUqUMM8kLNZJW/fp00fv2LHDzAmtffv26WbNmslxmVhYFxpdvnx5PXbsWDPHNxwH/fv3x69Bbf34M3NvnlGjRumaNWuaqdjZunWrrly5sq5Ro4aZE2nhwoU6U6ZMsq03k3Ux0lWqVJFzYThYwYbsR+sHo5mTuC1btkzXqVMn3vYrvk9Zs2bV165dM3OSLiug1Q8//LDesmWLrl27tpkbenPmzJHzAa4Bt912m7Z+pJlnbo6gA7nTp09LAIQvqvXLy8yNNH/+fJ06dWozpfW4ceN0q1attPULW7ds2VJPnjzZPBO8iRMnyjrENpCDf//9V977v//9z8yJ3C4EhjjR/vLLL2Zu4vPMM88EFciNHz/ePIoUbHD+0UcfyRcRzp07p+fNmyePE6IRI0boy5cvm6nQw7a7KZA7depUtO+QNwhQH3vsMTPl38mTJxNMIAfBHNvDhg27IZCD0aNH66+//tpMxb+jR49K0LF582YzJ2a///67/AAM1B9//CE/3s+fP2/mxJ/3339ffpzHl/Xr10slAL4LgQp2HYcOHaobNWpkpoKD6/OUKVPM1M0TlzJBpQviDcQX4YRzWPr06fXevXtlGnFMlixZ5Hx1swTdtIoEWTSnPfDAA8oKCMzcSE2aNFGPPPKImVLqzjvvVLNmzVJWcCT/Fy9e3DwTnD///FN9+OGHZio6axvNI99SpUplHl2XIUMGZe0gdcstt8h2Wb92zDOJi7dtD9S2bdukSt8pWbLgDik0vVtfRnmcNm1aaf5JqKxAX6VIkcJMhV5c983FixfNI+8uXbpkHoVW3759Y2wGLVCggCSBByKYYzMcgjm2fW0Lzp+lSpUyU3GDdBY7wd76YWHmRrICimj7G8/bKQFoEurcubMaOXKkuv3229XixYtlfqitXr1aVa9eXVnBnDT/eTZF4XjFetpwzkZTtO3EiRPxev7FZ+E49lzPmNbDCiSkqRrXtowZM4atPG3Y72g6XLNmjZSvE9bfee1DOkNM54VgHDt2TFmBjJmKhM8M17nGmwkTJqiyZcuq7Nmzmznh8emnn0pcUKhQIZlu3ry5HBvWDzKZvhmCuuoiv8qK3uWxrwvugAEDzCOlfvrpJ/Xkk0+qBx98UOXJk0ft3r1b5uOAxPtLliypPvjgA8mxuvvuu2V6/vz58hpfcHAOHjxY9e/f38y5Dsm8mTNnviHADBQu0k888YTasWNHVB4ZglZsA/IhrF9ByvolKydQ5IEg0RV5II8++qjsaOtXhbwH8JohQ4ZIL7FevXpJuVi/xtXGjRvNK26E8nn22WflAtmxY0fVunVrWRd8cdu3bx+1fHwmggo7mMXJBhfL1157TV43cOBAmW9DEi7mPf3007IsG3KA8Prx48fLCR7bg/WePn26rEfv3r3leZx0sW4PP/ywHAP4rGXLlqlff/1VWb+ilPUL0Swx8uSHssL23n///bJPfMF+xDrgNTghbtmyReb//vvvUgYvvfSSHCfYB4DjBPOxHe+++66644471NatW9ULL7ygHn/8cbVixQpVo0YNVbFiRSnnpUuXqkqVKqkKFSrIMv3xtt67du1Sffr0kWUDcthQLjge8Hrwdnz4gvVDeX711VeqR48e6tZbb5Vt8TzhIpcKuTe42Np5WjNnzpQfTz/++KNM4+KBaZR9vnz55ASKdcL6o1ybNWsm+xHvK1++vCynXbt2cjwOGzZMPrtLly7RLlR4LY4VLPOpp55So0aNUgsXLjTPRofX4VywYMECOba8HUvWL1j16quvyn4E7L/nnntOth3vw3rhe4+8Eydc/HFcFStWTI0ZM8bM9Q7rb+cMNW7cWE66NgQH+GyUiV0egHLC8VOrVi35UXjvvfdK783ly5fL88hDwnq3adNGpsHf5wTCeZzgf+dxgs+JaTthzpw5cnzjnImLCX4oO/Pw8EPUPv5xUce2FS1aVPYl4MKHbcT58bbbbpP9EA6rVq2Ssn355ZfVXXfdpQoWLKj+/vtveQ45kzi2cczu2bNHnTt3To4VfJcBxweO+06dOsk04FhDJw3k0YYa9mmrVq3kWMe149tvv5X5gazH888/L+eVqlWrqiJFiqj//e9/Mj/UnPsdZfn9999HC+RwjsKxgHMJoBNGjhw51NSpU2U6lHBNx3kOee+VK1eW8oPPPvtMygHXcDuYQ0CPHzQ4P4caznEoDwSwOH78bSsCTHxP/P3Z51lvcC1wVkLhOMmVK1eM15Swsr7gcYZ2YiwCf0uWLDFzvUMzEV73ySefSBNF8uTJpbrd2snyPNqa8bx1EZBp66Ik0zFV8yIfD1X31pdJXu9sWkWVJ+ZZJy8zxzvrBC+v89YsZB2o8hyqesG64MlngXVB1w899JA0r1kXZXkdtsM6SWnrIqGtg1byggBt99YFTR6j2h1Ntm+++aa2AiGZ5wmvQT6RFeTKtL185NsAqp2dVc/WRVhy+2DatGna+hLJ4wMHDsj7tm3bJtPWr29ZR7CCNG194aOaVrHehQsXlqYB60CW9UM1crJkyaKaRZCzhiZyQNO59etHHgO2Bcuzvqgyjf1sXZi1FQDJtBX0xLgvnNsBWH/rBCrNrGAFLDpDhgyyXkeOHNHWRU/WCccfmhiQ74MmcZSdFbhJ/maTJk2k+X/u3LmyP7C9yD/zxd9643h0NitNmjRJciTs/ejt+PAFeRyookdeofXrXb4b1o8HbQXg8jyWg+8I9ieq7ZFzal0Q5TmwLhbRvh/Yd9i3VrAi+TLI4bCCa3kO+zZt2rTyHI5FlF/+/PmlScYKKiQ/Cs0S9vfYOunKNmM5gOY36wdY1HHkjRUwRH1PvB1L1q92bQULUU2MaAJBigX2L84leB7HD3LjAMccjl2sM74HVrAk62gfC95YF1wpL7ACZHm/FSDIPrWCCG0FDvKcXR44JvBdsy5Esi/QtI/mRiu4kteDvd72dwp8fY4v+N7Z2w3+jhPsf3y3/LECMJ03b96o4w7HjxVURGtWwjJwvOM8hH2AfYFzpX0OiavYNq1aF3PJlcZn43jCe/FdBZQBzkMoazQz4/tvXUjluEW54/yLXEJ8L+z9bl1Idc6cOeW7HZPYNNEhDxLfL6wP4BhA2k0o1sOf2Kwj9nvu3Lmj9rv1g1fOzziGwfpRItcKfI+zZcsmaQktWrSQ7y3OlzGJTdMqzhtWABOVJ4zvKa7bYP0wk3VBeVnBsMzDdxDfsUBSJWJTJjacD+3vpD9ogsX5398fvu++IJ+0Y8eOZioSvs9PPPGEmYp/QQVyVtQtJzD8xRTIIc8MF1cES7g4p0yZUt6HLwngxIhpO5BDYWLa30E1e/Zsbf2qlMc4IeD1zkAOBw4uEDElpPsL5HBBw3M4EQPyAPGlwckeQcR9990n860oX16HkxzgwoPp7du3yzROZHYABUh+tn6Nm6kbDRkyJFpAg3LC8uyTMJ5zHuh4bL8ebff2/sCXGif4NWvWSPItkmLxBbShQ4cdyAEOUpzQbDhJ4QIKf/31l5yUEQiAZyAHTZs2jQrksE+sX4ryGFDOOPn54xnI4aLuXD9cCBBg2J/Rr18/CYScBgwYoBs3bmymtFykq1WrZqa0tn656QoVKpipG/lbbxwjzosYjk9nIOfr+PAFwdTnn39uprQE+3YHD6yHM0du5syZ2voFbqa0fK7z+4H1so9hnDxxknVC2SLYsuEYtAMvQAckO+cRgReCKht+MNWtW9dMeecM5MDzWIJ33303WkCD5eLiYXvqqaekswvYgZx94rdzWX0l5SOvFecV+0cHvv8I5vE/vg+4ADohF9MOznCRdh7L2CfovGXDetuv9fc5vngGcrE9TjwhSB88eLCZ0nrq1Kny3fQGQRKOFfvcFFs4n2Dd7T8cF/iB4Zxn7zNPOG/h/PPxxx+bOVrKERd9J3zP8V3ADyNP+BGDYOXnn3+W6TfeeEOOT28QmDvX65ZbbpH97pw3fPhw8+rrsC8yZswoHRV8ic16+BPXdQTsd/saCZ06ddJ33HGHmboO1yMEUbju4Hj1Bctyfi6+Azj/OOd999135tXR1a5dO6pjG36U4vyD49AJP6DtbcGPCWfnR6dgygRw/sW5AdeocMM2eQZypUqV8hv8hVtQTavWycE8UlFV5b6gOQvNk2jKQxUoqqTBOvnJ/3GB5g7rwiVV89aJQeYhxwrNHYCcFjQ5WAeYTMcFmiOgTJky8r91MVPWl1easgoXLhyVh4DPckL3c7C3z7qoSdUy4D2oArZOsDLtjRX4KuvXnplSUeUVCLTdWycmqcJGVTbWDZ+JbUHzkjOHIHny5OZRJHyOcx7ej2YONC2g6hhN4vY2e+NcTzRzOpeF7vgoh9jA/nSWLZaP6np72AbP9QXPssLzznXGtL/jLpj19nV8+ONcXxwTnk2LNuwLzxwoX9DM7VkuaC5E07zN2zHrPF5xvFgXYplG+oN1MpXHgQpk3/hbB0/YfvBVBmiCxnvtz8Sy69SpI/97HkeA3DT7OIppPZzr7e9zAhWX48SGc4fdpGXDudW6yJup6LDf0Wxtn8NiC81GaGq0/3BeQVOdc5631BbAOQ9NT9aPCDNHSRO79WPMTEXCOiKNA+kanpBTjWuNncYyb9489cwzz5hno8P3x7leaCbFGHnOeWi69oQmVOxzX2UIsVkPf+K6jvZ+R1O+DU2AnvlxkC5dOinjFi1aSL63L0h7cH5uuXLlJI3HOQ/Xbk9YF6TToGkcr0eaEJrykeLjhOZWO21g7NixkkrgTVzLxIbme1zXAsm7R/M9UlL8/fkbKgfXA2/5gPie3CyBn3m8wMkeeQOAdnpvUGiAPBMEBAgkkCsW0wk9EMjrQf4M/pD0CfiC2Y8BBxGCmrhCDpH1C0VO1Gjrx8GFThzdu3eXL3agEHRmzZpV8pGQXIw2/Xr16plnb4TyQQ6RL57l54Tcl3HjxslnOQMQO7i0cxMDgfJDjtigQYPkpOB5YfYHJ3vkptnJ1YBAwj4mAoEvBy6cTkiaxsUvXPytt79yD+b4sCFYQX6lL84Lvr91Qblh5H7nNqDzSKDlhmMT24DBYj/55BM5QQbaSSHcfAU92G/IXcNJ3YbzAXIt7fJwngviehz5+5xABHucIBBCGSA/CnBuxQ9ab4E2fhDiBxgC2bhCOSG31P7DOR8dkjzneYMyQqBhn3tw4T969Gi0YAQ5ihgv8ciRIz7HAUUwgc5VCBhQZr6CE/z4da4XftRif3nO84RzLb53MV2HAl0Pf+K6jvZ+t49ZlBXO5TiWPCFfGt/3mPY7ttn5ubhGIQD0nOcJn4t1wXGHfDRcb7wFwXZ5YWy3FClSSN6cN3EtExuOs0B/bOPHKSp7/P19/PHH5tU3wrHuvDbj+3zw4EHJRb1ZggrkAEm+iP6RUOlMnAdcgO2aso8++kjt27dPEsS/++47OfGB/esav9oAQRmiW+x88HXSBiR94jPxh+AI8AsAQQfgefRiueeee2TaF3tdnPCLG8mrf/zxhxysCGCwPUh4R2Iu1guP8V4cGDixg+f62tNYBn51oGYLCfKev1w8YZ2//PLLqFo8JEc74VcByhNwsUZ5oWwBvaWwjoB1xDqgnPGLBV9SJOnatQ0oa/t9NhyYNvzqwok8ffr0sm9wMbS3GV9MBM1YPi4mgMf2NqOmFJ+DpFv7vQgKcLz4gtc79wd+oWPb7Ysklo0as0ccvaGd6wvOdbDFNO3kb71R7qidQocELAPrhvLDn7/jwx9ncIFEWrtWAsvwt95YF5zcATVL+JVoB8nNmjWTAMGZ9IsL+mOPPWamIhP2fS0fxxNO1qg16tq1qwRxdo2YLzge8PnYXvvHVEz7xt86eP5v85y2oUcsLhzoTITvBtYB5wLUItvlMW3aNPPqyPLo1q2bPPa3HoDH9rS/z/HF+f6YjhN0grG/297YgR8CH5Q3frDhWEBNNRK1UeaoTcW5Cx0M0GkFn4nvKM4N9nc/PuACmzt3bjMVOWguOk1h21Grg/VCrRB+3KOGFDWLuNUVeoA6obzRMQPXDnQmC7W8efNKTbh97lmyZIn8eQr3evjj3O8437z99ttyXXLud/wAnT9/vpQhKg/sTnqh7lGJ/YcfknbgjbJDeTjP3YDywrkJ64IAKVxiE8jh+2t3avD15y+Qe+ihh+QaZLdu4DjB8YNOUoDrMTqwxSvrRBI0tI8jxwOJjMjxweDAyNlCTpi1UfIa5FNZv8q0FWVLvkTdunWlwwNynAC5X8jfQu4F8qyQC4DVQ+5FIMmk3nLkkPdiHWzR8p08Id8G+VZ4L17Xt29fydtBgnzPnj0lKdpmfVEkD8g6ECRBGfkFSJhGpwrkwGAZSD61TsIyxhimMdiwFQzoMWPGyDT+kLtgnXglCRXPeYNtvv/++2X9kfuC3BG8F+UEKHOUN8oJZYh8HySNIw8BuVQoayQ3433Iq0KyOvIIkLSL3APkuWA8L+Q5IB8BeRBImMZ6Wb/wovKSkOOHpFnkNyL3DIP0IkcNuYNWgKOti5fk4CAHEnlkKBvrCxW1nlgXKwCSfY3twPJ8sb5AkieD9UGyrHWykvnIQ8FA0ihndDzAmIGwefNmyfNCXgdeD1g+1gfLQWIwppGXgWMLy7cuHJI/hw4TOD588bXeWCfkkqGscWxiPyOPDctEvpOv48MXrCf2DXI5kV9mBajSeQZli+8S9j9yFHFMIccN64PXApLD8X3BfsZrihcvLvmCdg4ZvhNIAB41apSsJ76P1olWnvv++++lww3WG2WCscyQI4TvHo55DMiM4wvHXLJkyaS8sF9x3PmCnE8sE/lP3o4lKzCM2hfIKcMxYv3SlnXEcWldhKT8sP+Rx4mcGHw+vo/YfuSpYRp5OVYAI8v0hDwwHJ94Hc41znEIneWBZeNYsoIaSQJHuWM7kePjLGvrB2rUemM/Y73B3+d4Qo6Zvd0oF3/nEUCukTOf1hucn6yLqXQWQc4xvs/IlbJzefE9LVSoUFSHHZwXkSeHfNFgYdudeaK+4FjDOqADAfYZ8p6xL1HmgFxVbLfdsQM5fzg34VyG74ATcj7xffR3/vAm0KR5HE/I3UN+GMoR5Y/95Cmu6+FPbBL77f2OvFLsd5Qf1hfnAkDnC+uHqORDWz8M5NjEdvnKc/OE5U4JsLMDrm04/yN/DddzfH89YT3wPQqkE4JTbMoE10p0gorP8Rhx/ihXrpwcz+gY5xxrFh3ycN62OyrGh5AEcjb0UkGvMPQ48hagIAHTvpBYv4Bl2gnJpLhQ4LlQwUXJDghCAeuPnpH2MrHOgcCFFF9+fPmsX8tyocQJHAGDP7goI9kef7ho2AES4AJk/cqWx+iJY58gAV9ifIkA5ew8MeIEhXXA/1gfe5/4gpMc9i3gtc59i2XEVL54Pz4vps/xB9uDC4jnMRNOvtYb8xH84DhF8OYsD7zW+QWO6fhAIIcvPi64CN5iC8eHvW+cPzpsOAZQbv/FcpBMnPjRmQjHGLYV32l0AOjVq5d5hXdIGr/ZsA+w37wdK3EtD2/8fU5M/B0nWLdAfrzinGDD653HIZbn/M7j8wI9V8UEx3ygF3v73IDvr2dwhuc8yw6v8wY/sO0fcLGxadOmqOA7ENgn/s5ncV0Pf2K7js79jooS535H+TmvnzhXxXR+dsKPHRzTgcLy/X3nEaTjR1FsxaZMVq1aJRUX9nkwvuA7h/OjN3bnt/gSgX+sAIFiAc3FqDpF00Ug8Dp0ukC1N5rnbBgrCrkiRYoUMXN8Qx4JchWsQE6q0ilxQDU/EnkxRmBCgWZGK8CUZhnnsYYUBjTPIRGZKNyQh4RzHtID0NTva9D3cEso6+EWSBVBzhiazpGSsXDhQr/pNMHCuJBoSp47d66Zk/QEnSOXFCGnwznobUyQlIxeWfgfHQcwIDIuhpgXSBCHCytypwDJwtava3lM7oa8P3T+wT694Oigc7Mh4Rt5ekhMRicf9BZDjhkS5xnEUXzBDxwk4yN4wkgHN0tCWQ+3QA9gJP4jP/Pzzz8PWxCH6yIGIkZ+Pgb0TspYIxePkKSK5HR07ECP20BdvHgx2qjR6AKPW8CQe+EkhCFCbAjynUnhCcGZM2ckoReBHRLR7Z6HRPEBHR7QweZmDusACWU93AKtR/iBio514XT58mXpbIYhU8JZ4+cGDOSIiIiIXIpNq0REREQuxUAukUBTHZLTt5uR6omIiCjxYyCXSOzZs0fyODCwJhERESUNzJFLRHAbFNyBAb1hiYiIKPFjjVyIYWgQdFNHj79QOX/+vNyL0B/cdge30rLvv+gNbjXl6564gB5AGDPJCcvF9jjv2Rlb6MGE25444dY8bAYmIiIKTlCB3Lp162QgU9znr0GDBqpHjx5yD0w8xn3gEtLYWPEF4wzVrl076h6OwULX93bt2sV4X7+xY8fKvd58vQ5jgNWqVUu9//77Zs6N0Cw7efJkMxUJy8X2xPW+gggCGzZsKDdfd0Igh/viYmgVIiIiipugAjncpBaDhZ48eVJ99tlncqeCSZMmyQ3yp0+fripVqiTPJRb+bqQLR48elRuq//333zIyvn3D+7iwPwsj/8cURKHGCwEfPhcDV65cudI8cx0GaMRdJPzBTfoHDx5spgJbbkxwZwBvdy3AwMj4rKVLl5o5REREFFtBN60iwd4TBgJcsGCB2rVrl3r22WfNXHdDYLpkyRIz5R3SDd98800pE4w4HdcBET0/y1sZO6H586233pLXDRs2TBUvXtw8E11My8HAr06BLjcmvj63Z8+eMtAsERERxU3YcuRQk4Tb+iAoOXv2rAyPgfuuvfbaa6p9+/Zq4MCB8jqMAo3ba6DZ788//5TmQSTrL1++XJ4H3BEB9zdFrR+abocPH65Gjx4tNWBO6Ln5wgsvqMcff1ytWLFC1ahRQ2qicI9T1PyghrBChQpRd0nwtU6ecMuRfv36qc2bN8vrUUOFdb7nnntkuWXLllUzZ86Uz3/yySfV66+/rho1aiT3mgPUZKF5dOLEiRIQ4a4OXbp0kc/35O2zbGiOrF+/vrr99tuj1Y4hgMQtwxA0o6bLs1w8ffPNNzIaNtYfeXOAuwx07do12q3HvC0XOYAzZsyQ5lY0raO2ELV1/ppsPSEXzy4n/I9ttaGGFzW7REREFAD0Wg3GnDlz0OvV693+hwwZIs9ZgZOeNm2arlq1qsw/cOCAzN+2bZs+deqUfuedd3T69On1Rx99pK1gQVsXd33XXXfJa+G+++7TVhAkj5ctW6aTJ0+u58+fr8+dOyfzbFbgpDt06KDLly+vrQBLX7x4UTdp0kRbAZyeO3euPnPmjG7btq22Akx5va918ua5557TrVq1kscnT57UI0eO1OnSpdNTpkzR48eP16tXr9ZWgKatIEleYwWT+qGHHpLH+/bt0/nz59dWcKetIEbv3LlTp06dWi9ZskSe9+T8LMAy06RJI+uLz+7WrZu2Al957urVq7p169ZRZdG/f39dtGhRfenSJZl2soJcXaZMGW0Fi/r48eP6jjvu0AMGDJDnsP/uvPNOeQ34W64VJEtZ9enTR1uBpraCdZ0qVSopX29QVlZQbaa0z3ICK6iWfUtEREQxC1uNHNhNdajFqVmzZlT+FXpGRkRESG0c7hmK5jX0uERNWrZs2eRG3ajdsmGg2+zZs8tj1KqhyQ/3K02bNq3Ms+E1xYoVk/w0LANNeqg5SpEihdQOYmiOu+++W1mBlbze1zrFJFOmTHK/Uyy/Y8eO0rGhWrVqsizUAh47dkyWYy8LtZP58uWTWi3UEKIGC+vp3MaYWIGf1Bris1Ert3v3bpmPmkvcvxV5ibi5M2o/cd+5f/75R573hM/F+9FBBetqLydPnjzRerz6Wy5qNQG1cXgPlmcFeMoKhmV+THyVE1iBpbKCbzNFRERE/oQ1kENTKYKdEiVKqEKFCqlTp05J0yfmIcizAkl5nWduFm7OjWDNht6Nq1atksfoTIAgDs2L3iAYc0qePHnU5wCm7WX7W6eY4HOwLKe6detKjtysWbNU4cKFoy0rpm2MDawrbhgMaG5FoNi7d2/5Q9CFpsoiRYrI8/44lwPOsvO3XG/bAoFuj79yIiIiosCFLZBDbcucOXNUp06dpCZnwoQJaty4cZIjht6usTF16lTJeUNPTuSZoSMAau6CFcw6eUKNFGrlUJvUvXt3qTkLJzv4QTkgX845bh2CXeQVBsJXEBXscn2J73IiIiJKzIIO5NBs6glNZQ8++KA0IaL3JixevFiaFwG9WRFAoDYIAR+S/j0DCuf0oEGDJOkeyfhIkPcXdOF9/pYF9rS/dfKE5tlz587Jaw4ePCjzEJTYUIOFZWB5eA0eo2zsZcW0jU6en4X/fb0XHRawHh06dJChQtAhAT1N7aZoJ3/LAefz/pZrd9Lwtywn53JjKicE7HbTNxEREcXAupjG2dq1a3Xjxo1xhZbEeCTK9+zZUzonDBs2TJ89e9a8UuuZM2fqlClT6nvvvVdPmjRJFyxYUNepU0c6AjzyyCM6WbJkeurUqTLdpUsX6dDwxRdfyHutoFA+A3+pUqXSefLk0S+//LI857R9+3bpJIGOBcuXL5fpBg0a6KxZs+pFixZpK4iQ9c2QIYNeuHChz3Xy1nHj+++/lw4Hbdq00YcOHZJ1xvq8++670qnCCnp0xYoVdYECBSSBf+DAgTpt2rR68uTJ8t5MmTLJZ2Mdvv76a50xY0bdtGlT6SzgyfOzOnfurCMiIvSnn34arXzQ0QTQOSBLliyyPrlz55aOF57Q4aRy5cq6UKFC0llh48aNsr7FihXTGzZskH2JdbeCZL1161Z5j7flWkGXdF7AvBdffFHWZ8SIETKNfeLZ4WHv3r1R+8AKnP2WE2B90ImCiIiIYhav91rFALPIw0KiPWqckKOF2id/UFtjBQjyh8GF0dSH2hsreJBm0Vy5cplXxg3WCU2/6EwQ0zoh4R8dLDxzxGzIEcOQI8jhQ+cN5N/Ftekwps/yhNozdFzA2HXYhlDBcrds2SJDwoRquSgn7MOcOXPKtLOcUPOHDjCh3AYiIqLEKmw5ct4gKMmbN68kuSN4iimIA+TFoakNF3f0kEQP16pVq8odA+xAIBhZs2aVIA5iWif0evUXWKHzAzoFoGcqBJP/FdNneULgY/ekDSX0GEZTdrC5cU4oJ+e+c5YTmm4ZxBEREQUmXmvkAJ0VkOgeaE0aBu9FhwnUxmEQW9ToIajDEBbo8ZjQbN26VfLAmjZtaua4G/IdEXgjPzE2gSURERGFX7wHcnGFMdfQaxK1cqjVIyIiIkrqXBPIEREREVF0bCsjIiIicikGckREREQuxUCOiIiIyKUYyBERERG5FAM5IiIiIpdiIEdERETkUgzkiIiIiFyKgRwRERGRSzGQIyIiInIpBnJERERELsVAjoiIiMilGMgRERERuRQDOSIiIiKXYiBHRERE5FIM5IiIiIhcioEcERERkUtFaIt5TESJ2KhRo9T69etVypQp1alTp1TevHnVn3/+qebOnavSp09vXkVERG7CQI4oiWjZsqX67LPP1OjRo9Xx48fVO++8o+677z61aNEi84obHT16VCVPnlxlyZLFzIl/U6dOVcuWLVOpU6dW5cqVU926dTPP3Bwff/yx2rhxo7p48aK65557VMeOHc0zN9e+ffvUvHnzJEhv27atKlasmHmGiBIzNq0SJQJ2oJMtWza1bt06mffmm2+qiIgI1a5dO4Xfa59//rnKkCGDWr16tapRo4a8ZubMmfK/N2fPnpXA6fXXXzdzIh04cECCBCx7woQJMu+nn36S6QoVKqiDBw/KvFBZs2aNunz5svrggw98BnEIXt577z311ltvqTNnzpi54YF1wLqcP39e1s1p2LBhUeVw+PBhmdegQQMJhseMGSPT4YD936ZNG1WvXj31+++/S3kRUdLAQI4oEUDN0MMPP6wKFSqkqlSpIvOuXLkiNTPTp0+X4CJFihQyf+3atequu+6Sx5kzZ5b/vRk6dKhKmzatOnHihJkTKV++fOqNN96Qx61bt5b/r169qm677Tb1/fffS5NtTPA+1LSFSqZMmVSqVKnU22+/fVObifv16yflUKtWLZUrVy6Zh7JB4NejRw+Z9geve+yxx8xU4J588kn1wgsvqFKlSqn//e9/qmTJkuYZIkrsGMgRJRII5DZv3qyOHDkiNWRoMp00aZIEcbbt27dL8JY7d24zx7s9e/ZIwNeqVStphvXUokULWc7SpUvVf//9p3r27Km++uorlTVrVvOK+IeAs1q1atG2N77hs7t06SLlAsOHD5egCoFWuKA2DrmOdevWNXOIKClhIEeUSFSvXl0VKVJEmhh79+6tvvjiC6lRc0KzKl4XE9QsoWkWzbXeArk0adJIkDdt2jTVqVMnNWLECFWiRAnzbPxCEyZqH9HMGci2xda5c+eimkkD0aFDBwmo33//fQnokJMYLmgaRxCNGsmmTZuqvn37mmeIKKlgIEeUiCDxHk2iH330kTSBOiEgQ04batCQqO8LangQqFWuXFly6jybVm0I4GbPni0dJpCbFd/mzJkjuX5ojnzggQekWTeUgdz+/fvVgw8+qF588UXVvn37qGbkmKB5G02r7777rjRz2k3a4YCmc+TjYT1//PFH6cBCREkLAzmiRAIJ7mgORccGb8EDmj1XrFihvvnmG6lp8+batWuqf//+UhsHGTNm9FojBwicEPAF0pQ5aNAgVbNmzag/BB2DBw+ONg/LCxS2A82VX375pXTG6N69u9ScVa1a1bwiOKdPn1a1a9eWAAk1nKihXLJkiXnWPwSA6EGKziIIhP1BL1NnGYwcOVItWLAg2ryYgrNVq1ZF5UUSUdLD4UeIEonHH39cVaxYUc2YMUNVqlRJ8rNiCzV5EydOVLfeeqtM7927V23atEmdPHlSpm1oUl24cKEk9iPw+Pnnn80z3u3atUsdO3bMTClJzEeg1KhRIzNHSU9Ybzl2Tz/9tPREnTx5spmj1N133y21gAgQAUOCoGYOw4KEwmuvvaa+++47CRix3sh7QyeO8ePHm1dE1n5iWBZ8rg3BG3qpotNFw4YNpemzcePG5tkbIZ8RZWxDz2LkMb7yyitmjpJOE6jl8wbDw+TIkUP2UdmyZc1cIkpSEMgRkbuNGDFCP/roo/LYCsZ0vnz59NWrV2U6UCdOnNBWYCb/2+bNm4cfevrKlStmjtarVq3SVqCoraBFb9u2TZ7funWreTYwrVq10lOmTDFT/vXo0UNbgZSZ0toKfnRERIRet26dmaO1FVTp7t27m6nglSlTRraxU6dO8jd16tQbyrNDhw6ybjY836xZM/3ZZ5/JdLt27XTbtm3lcaDef/993bVrVzMVs/nz5+sMGTJE2z9ElLSwaZXI5VAjNm7cuKiaoTp16shYb4E2BdrQpHrvvfdGG5IE45/BP//8I/+jNys6OWBg4XTp0kmNHHLxnLVl4YYaLOvcpQoXLizT2Fbk6qHHaqigBnHgwIGynfhDB4ZkyfyfLpFLhzJB7iBgP6Dp1FfTdCigWRW1sPZ+IqKkh4EckYshUMBAsMh5Q34boBMAoPky0CACifljx46VpkR0hgA0pyI/DNCBYtu2bdKciWXaQQ06RmAa792wYYPMCzf00AQ0S2JQXjRjookTw3xgyJVLly7J88EoUKCABIiA5fXp00ft2LFDpr1BEIymbDv3EGPHzZ8/X124cEH16tVL5oUDeiGHKi+QiNyJOXJEFO8QcN1yyy0BDVniLUcOvVR//fVX6aWKYT6Qh4bgqWvXrjIcR7AQIOMODlg/BHLo7ODZa9VbjlywcFcGBNKozYsJhlzB58+aNStariERJS0M5IgoQfMWyAGGRbHvAYtgC712Q3lXBwSG+Izs2bObOdGFI5CLDYxRh9uv/f333z57IRNR4semVSJK8NCMigF/0aPTZgdxgNtzhfrWXMg78xbEYR2wLnYT9M2AYVcw+C/GBWQQR5S0sUaOiBI0NKHaARxy1zC22s20cuVKGSsO0PSKAXnj2y+//CKdPTD0CBElbQzkiIiIiFyKTatERERELsVAjoiIiMilGMgRERERuRQDOSIiIiKXYiBHRERE5FIM5IiIiIhcioEcERERkUsxkCMiIiJyKQZyRERERC7FQI6IiIjIpRjIEREREbkUAzkiIiIil2IgR0RERORSDOSIiIiIXIqBHN1Us2bNUsuXLzdTREREFBsM5Oim+eeff1TPnj1VwYIFzRwiIiKKDQZydNN8//33av78+apo0aJmDhEREcXGTQnkzp49q3777Td14sQJMyfS+vXr1c6dO81U7GG5hw4dMlPeYfk///yzmVJKa602btyoDhw4YOYkXLt27VKHDx82U3GHcj9z5oyZip24vPfChQtqzpw5Zuq62rVrq5w5c5qp64I9DuDo0aNyjOGziYiIEqugArkvvvhClShRQmXJkkUNHDhQnT592jwTGXQ0btxYlSlTRq1atcrMjTRx4kTVrVs3lSpVKjMn0pAhQ9TkyZPNVOy1b99e3X///WbqRt99952qXLmymjdvnpmjVEREhJoxY4bq3LmzmZMwbdiwQdWsWVNVrVpVXbx40cyNnXPnzqlmzZqprFmzqkyZMkl5BbqsuL4XzacdOnRQjzzyiJkT6dSpU6pBgwaqbNmy6q+//jJzIwV7HMCAAQPUG2+8oVKnTm3mEBERJT5BBXKtW7dWL7/8sjp58qR64IEHVMaMGc0zSt1yyy3qrrvuUu+8847874QaMDSppUuXzsyJ9OWXX6rBgwebqdhBM92WLVtuqOVzql+/vqpWrZqZuu7NN9+UmiFsx83w8ccfm0e+Idj8448/JDj56KOPzNzYee+99ySAPn/+vJo7d66aPXu2Gjp0qHnWv7i8F+uLzgzZsmWToG/UqFFRwR+Ceexv7Dcs2ymY48CGmsspU6ZIoE5ERJRo6SBZF2adO3du/cwzz5g511mBnnkU3d69e80jra9cuSJ/wcD7a9asqa0Lt86SJYuZ612zZs20FXyaqevOnj2rrYu/mYo/W7du1VbQa6a8s4InfebMGTOl9cGDB82j2Pnpp5/Mo0iPPvqobtCggZnyLy7vPXr0qN6wYYMeN26czpAhgzy29/WRI0fkf/jvv//05cuXzVTwUF7//vuvmYp04cIF84iIiCjxCDpHDs2jTz75pDSFobnMtnLlSmkKdEINzSuvvCI1Sk2bNpVcqKefflpZQaD69ddfVdeuXaPV8rz77ruqY8eOZsq3sWPHqubNm6v8+fNLrdq1a9fMMzGbPn26evbZZ1X//v1Vr169om2Dbc+ePeqFF15Qjz/+uFqxYoWqUaOGqlixotQsLl26VFWqVElVqFBB/f777+Yd15fbu3dvaYb0ttzdu3erhx9+WFmBmZTLsmXLZJvvueceWS6aHWfOnCnv7devnzQ5ouYTZQvII3vuuedUjx491IIFC1T58uXV3Xff7TNP0LNmNFeuXOq2226Tx6ghRRm2a9dOmkMXLlyoHnzwQbV27Vp53t97vfn222+lVg21a4sXL1bJkyeX9cP/2D+ffvqpNMc/9NBDavTo0eZdyutxYLOCM9W3b1/VpEkT2efI1XviiSekGfXSpUtSViifNWvWyPqhNhDTWFa+fPnUn3/+GWN5oQn71VdflVrSTp06SS2iXQP62muvqccee0weExERJQgmoAuKdSHUVkCnrSDEzNG6W7du+vjx42Yqshbp9ttvl5ovsC6yUktjXRy1dVGV5++8805tBUzyPMyePVtbF2Ez5d2xY8d05cqVpWZw3bp1Gpvk/FxPzhq5ffv26WTJkkkNDpQoUUJqjzyhxqhDhw7auvBrK8CSz7KCCW0FcHru3LlSW9a2bVtZNgS6XLACKJ09e3Z5bAWheuTIkTpdunRSuzh+/Hi9evVqKUu7XKwAUefJk0ceY71atmwp5TpnzhwpC5ShFZTK8zGxghhtBYNmSusPPvhAp06dWlsBpqwH9osvnu91sgJcKRu79u3555/XmTNnlseAbbECJHlsBWCyzlbAK9PejgOnEydO6GLFimkrqJbysgJP2R+2IkWKSNnZChcurPv06aNfeumlGMvLCph1zpw59a5du2Qax2bx4sW1FczK9IwZM/R7770nj4mIiBKCkPRazZ07t9SsvP/++1Lbgh6DKVKkkE4QNitIUNYFNCovrlWrVipHjhxS24ROEVZwcsN4Yi1atFAvvviimfIOtTF4DWoG7Rw9K5CT/2OCWptJkyapNGnSqB07digr+PKaY2cFWsoKHqTGr06dOvJZ6HGJbUQHgPTp00vNjhXAyesDXa4ndCJALReWj5pI5KQhpw81Q+gsgFqn/fv3Ry3LXq+SJUtKbRo6IlSvXl1qEGOCGjjUViGX0Yaaqrp16yorKJVcOOwXb7y91wk1V9i/qH2DevXqyf+A/Y0auIYNG8p0ypQppSZ0zJgx0lnG23HgZAWE6rPPPpMcO9TcjRgxIlqnGc/ODdhHVapUkTzImMpr8+bN6siRI/I6QE0rnkMHGUC5oPaYiIgooQjZ8CO4GKOpEBd5BDFoMnRCk5l9YQckoZcqVUoCHVtsE9PRuWHRokWSeI/AB82TEEjQBAgA7rjjDmluQ7MogggruDXPRue5btgW52sxffXqVXkcm+V6wuc4ywkQzKFc0XEEwaRzWQgSnRAY2evhCwLOH3/8UT3//PNmznXoeLBu3TqVN29eMyc6f++1rV69WoJ0m3N7tm3bJkOCONcbx8Hly5fl+IGYjgM08+KHAwIv54+FQPgrLwR4CKbtXtboMIFAL7bHJRERUXwJWSCHHDHkxI0cOVJy31AL4oRaKmfQBmnTplWFCxc2U7GH/DPUzEydOlX+8BgCrZFDIIDhSgYNGiS1f54BVFyFermojUNvT+TxFSpUyMyNm2PHjknt6FtvvWXmRDdhwgQJ5hCYe9bsxfReG4IjOyjzhOMAnEOOoOYSZYQgNRDItSxdurTUviF30SmYoAs1dMj1RP4dcvi2b98ueXdEREQJVcgCOcDFHwn7zqY0G2roMBAvatFsW7dujTa+GGqanLVNSOa3k+09IZEdnQTQpGmzAyY0P/ri/AysK4IINI0icR7J9FeuXJGAxZPnuoGv6dgsF01/qKHCe9HJANCE6oTOAkjWBwTDqEFC0yfGdkNTdkzrZcPnoyYNTbZYp71790rt6aZNm+R5BMIYogXNh40aNZImXbu2Kqb3OqHZFM+hmRIwUDMCUaxrkSJFpDMHmkdtqLVs2bJlVJMm1t/XNqA8EUwigMMy0BEB5WNDDR3WDRCIofMLysnmr7ywj95++21Z9y5dukhzrLNmcsmSJTIWIRERUYJhXcRCBsntZcqUiTZUhpN1YZTnJ0+erPv27asnTJhgntGSUF6gQAFdpUoVGZIDunbtKsnontDhAMOM4M8KDs3cyCR6bBI6P5w+fdrMvW79+vXyGdWqVdNW8KCtC73Oli2bdGIYMGCADJdStGhR6WDghNfdddddOn/+/Hr58uUyjaE3smbNqhctWqT/+usv3bhxY+m8sXDhwoCXC1ZQJJ0XsPw1a9ZoK7CVbUDHETuJH0O7YNlt2rSRMrMCVv3000/rzZs3S6cCJPhjeBB0MqhYsaIMZ/LLL7/Ie23oJICyx7Kdf7feeqs8j0T+ggULyrrDW2+9Jc9bwZzes2eP3/d6wtAi1atX11bwqTt27KitoEg6cGCbrEBKOhOULVtWP/vss7I9nTt3jhqOxNtxYMNrrEAzqmOEFbBLx4ccOXJIpxMYPXq0toJofe+99+pPP/1UOis0b95cOmZgef7KC8cMHmPbIiIiZDlY/pdffinLRvmg7PG5RERECUEE/rEuXCGDWhhvt12yodkTNU9IlPccENgTaqpQ84Qmr3DB8lEDhiR61D7hM1GTFqzYLBf5YXgNavF8QS2YFczJMtBhALlcCR3u7oFcOTR3oiYMZWHDYWcFjdK8HmxzsSd8Lmr38HnI6Qv0pvw4LqdMmaKeeuopqYFE5wuU+4cffih5mHiMpmcM0eKrowcREVF8CmnTKvgL4gBBGW7bFVMQBwhswhnEAQIJO8BA09wEc48AABjQSURBVGwogjiIzXKRU+YviAPcNxRlgWDDDUEcINjBuqI3sTOIAwR36KEb6iAO8Ln25wUaxAHG/UPTLNYZTcAYx69cuXJRdwOxg20GcURElFCEvEaOwgM9cZEXiCE3PHteUmigY0OfPn2klzGGKUFeH+4ljNuiIYBbvny5qlWrlnk1ERHRzcdAjsgBzdzoUIIOGgji3FL7SURESRMDOSIiIiKXYhsdERERkUsxkCMiIiJyKQZyRERERC7FQI6IiIjIpRjIEREREbkUAzkiIiIil2IgR0RERORSDOSIiIiIXIqBHBEREZFLMZAjIiIicikGckREREQuxUCOiIiIyKUYyBERERG5FAM5IiIiIpdiIEdERETkUhHaYh4TEbnOxYsX1fjx49XZs2fVI488onLnzm2eISJK/FgjR0Suljp1apU9e3Y1aNAglTlzZjOXiChpYI0cEYXE/v371cqVK82U9SsxWTLVpk0bMxVeH374oZo1a5b64YcfzJxIJ0+eVN98842ZitSkSROVIUMGM0VE5G6skSOikFizZo1q166dWrBggdq2bZv8xZfVq1erOnXqyGMEbzY0u9rrMmHCBFm/Q4cOmWeJiNyPgRwRhVTHjh2lmXPAgAFmTvitWrVK3XHHHap9+/byf61atdS1a9dUrly5ZF3wV79+ffNqIqLEg4EcEbna4cOH1e7du9XixYvVuHHjpHl3xYoVat26deYVRESJFwM5InI11MYlT55c9ezZU2XKlEnlzJlT5p86dUr+JyJKzBjIEZGrIZBr2LChKlWqlEzv2bNH/i9atKj8T0SUmDGQIyJXQyCHnDjbokWLVOnSpdWtt95q5hARJV4M5IjItS5duqR++eWXqEGA0WP1vffeU8OGDZNpIqLEjoEcEbnWhg0bVKFChdS0adPUwIEDVYsWLdTgwYNlrDgioqSAgRwRuValSpXU5s2bpccqOjssXbpUdejQwTxLRJT4MZAjItdCb9WUKVOqiIgIuU0XEVFSw0COiIiIyKUYyBFRvDl+/Lg6f/68PD537pz8T0REccdAjojC7o8//lC1a9dWr7/+uurRo4eqXr26evXVV82zREQUVwzkiCisUAuH+5wicBs5cqTcRgs32K9Ro4Z5BRERxRUDOSIKq3fffVfdfvvtql69ejJ95MgR+T8UgRw6OcT0R0SUmDGQI6KwmjdvnmrUqJGZUuqHH35QxYsXjxrEl4iI4o6BHBGF1e7du1XBggXl8dWrV6V5NVTNqlrrGP+IiBIzBnJEFFaZMmWKak4dMmSISp8+vSpZsqTasmWL2rFjh8yn6K5du6aOHj1qpiKdOHFC5hMROTGQI6Kw6tOnj3rppZekw0OdOnXkbgxjxoyRe6LaNXWhcOHCBfXff/+ZKffC/WJbtmypihYtqj7//HOZ17dvX5U1a1ap3SQicorQbHsgohD44osv1IMPPqi++eYbdd9995m5kU6fPi01ccmSJZPmTgQrWbJkMc8GB71gJ0+erEqXLq327duntm/frqZOnaruvvtu84pIb731lgSUf/31l+ToJQTTp09Xy5cvl8cI1IYOHao2btwod6kYO3as2rp1q2rYsKE6dOiQeuCBB1SFChXU+PHj1a+//irvQSD88ssvy2MiSppYI0dEYZcxY0YJ4gA9SUMVxMGoUaOk1m/ixInq22+/VaVKlVLPPPOMeTZhQxC3adMm9c4770SNq1euXDlVoEABGXdv2bJl6rffflMDBw6UIA46d+4sr0+dOrWaNWuWzCOipIuBHBG52sqVK1WbNm3MlJKA58CBA2Yq4UOAmyFDBpUuXTozJxJqGI8dO6Z69epl5kRKkyaNvB73mCUiYiBHRK6WI0eOaOPFrV+/PtpwJ26FWrhbbrlFbdiwwcwhIroRAzkiSjQWLlwotwMbNmyYmeMuyB9EUyty+e655x4JSJcuXSo5hqh5JCLyxECOiBKFP//8Uz399NNqwYIFKk+ePGauu2BIFuTIpUiRQnXq1Ek6j6BDBJqO0YuViMgTAzmiJAAD8e7Zs8dMJT6HDx9WzZs3l96rd955p5nrPuiogXvTDh48WKZRK3fw4EEJTvPnzy/ziIicGMgRJQEYsw01OqdOnTJzEg8Eqa1bt1YDBgyQwAcwnhzmxwaaY5Frh84SCAyhQYMGKnny5DLuXXxAxwfPHr0YUBnrQETkDQM5okQOQQ2a5wB3B0hsEGSlTZtWlS1bVm3evFmtW7dOhu44d+6ceUVg+vXrp2677TZVq1YtlStXLpmHYPCDDz5QPXr0kGkiooSGgRxRIofxydADEtBsl5hcunRJmiGXLFkigRz+qlatKgPpYoiO2EBtXJcuXaRzAQwfPlxuJfbkk0/KNBFRQsRAjigRQw9I5Fg1btxYpv0FcrgrwqJFi/z+IRk/IUmVKpXcxxW9PZ1/qElzDkkSqA4dOkit3vvvvy8B3ejRo80z3rmxzIgoceEtuogSMeR4IShBkyFukTVt2jTpFODN4sWL5bZQ/uDWW0888YSZis7fLboSgkBv0YVm2b1798r4bTHdgSLYMsN8BI5xGVoE91/97rvv5M4PRJR0MZAjSqS+/PJLucUTOjoAhuTAvTwfeeQRmQ61xBDI7d+/XzpMYNw23B0Cw4CEEwM5IgoWm1aJEqGLFy+q1157TZodO3bsKH/nz5/329kBgcuPP/7o9w83pE+szp49q9q2bas+++wz6SiB2raYJPUyI6KbjzVyRInQm2++KXli9o3YAcNqNGnSRL3++utmTnRff/11VO2dL8i183VDejfXyF27dk21bNlStWrVSgbibd++vcybMWOGeYV3wZYZa+SIKFgM5IgSGQz8W6ZMGcnzyp49u5mrVOXKlaVX58SJE82c0PIXyCFQwbAghQoVkjHfbgZ/gRyGHkGzqj1My8cff6x69uwpNW5Zs2aVeeHgK5BD7SBuio/OHL4wkCMiYNMqUSKC4K1Zs2YSCMyZM8fMVeqrr76SHqz4/2b0oqxevboERwhaEpr+/fvLUCOpU6eWadRkzp8/X124cEH16tVL5sUnNO1iCBUMfYLhVWD16tUS1L3wwgsyTURkYyBHlIgULlxYbdy4UYbgeOyxx8xcpZo2bSp5cxgcuHTp0mZu/MGdCY4eParq1Klj5iQcaIZGeU2aNEmmsa4IeDEPQVV8Qy3qTz/9JEObLF++XOYhsEMg165dO5kmIrIxkCOisNu5c6f0BK1WrZq6fPlyrO+6kJQgpy5z5syqfPnyUc2mqJGrUaOGzCMicmIgR0Rht2rVKmlexZAodevWVTly5JCOAuQbchrtpmiMVeerkwoRJW0M5Igo7BDI4Yb9aLZcsWKFNBHG1NszqUMv423btqmff/5ZxrND8yoRkScGckQUdmgaRPI+xmmDnDlzSmBHviGQwxh0GEIGPW6JiLxhIEdEYYXcODQR9u7d28yJHCKlaNGiZoq8uf322yXY7dy5s9yVg4jIGwZyRBRWa9euVWnTppUaJkBnB9yQ3tc9XynSt99+K3fkwODERES+MJAjorBCfhw6NyRLFnm6+fDDD9Utt9wid1EgJQMUP/zww+rZZ5+VGrg///xThh8ZMWKElJWnMWPGyOsXLVpk5hBRUsY7OxBRSPi6s8MDDzwgY8hVqVJFhh3BWHbjx4+X4C4+BXLT/JsNvXq7dOmiKlWqpGbNmiW5hERE/rBGjojCCgEJauWGDBmiRo0apWbPnh3vQZxb1KtXT/3+++9ys30GcUQUCAZyRBRWadKkkf/Tp0+v0qVLJ4/JuyxZsrATCBHFCgM5IiIiIpdiIEdEiQZ6xCIfj4goqWAgR0Sud/78efXkk0+q7t27qxdffFGacc+ePWueJSJKvBjIEZHrYay17Nmzq4kTJ6px48ZJT1kEc0REiR0DOSIKm4iIiBj/grVs2TIZYBg1cYD7uc6YMUMeExEldgzkiMjVMPZa3bp1VYYMGcwcIqKkg4EcEYUNxhuP6S9YO3fuTLAD/BIRhRsDOSJytbx586p9+/bJYwSGuLXVoUOHZJqIKLFjIEdE8ebIkSPq4sWLZio0evfurVasWKEqV66sypUrp7Jly6by5MljniUiStwYyBFRWO3atUt16tRJ1alTR+51WqRIEfXII4+oa9eumVcEp0yZMlIjt2DBArVhwwZZNhFRUsFAjojCat26dWrTpk1qyZIlasKECWrOnDlq8uTJ6quvvjKvCF6yZMlU7ty5pccqEVFSwkCOiMKqefPmauXKlSplypQyXaFCBfn/wIED8j8REcUdAzkiCivcND9jxoxmSqn169erFClSqPr165s5REQUVwzkiCjeXLlyRT333HNqwIABqkSJEmYuERHFFQM5Ioo3vXr1kgDulVdeMXOIiCgYDOSIKKRws/oTJ06okydPmjmRhg8frv7++2+5H2oobs0VCPSMxbrg78KFC2YuEVHiEaFDMbQ6ESV5P/zwgwwvYkMeHDo5wKJFi6QWDvdFxc3sEWAdPXpU5cyZU54PFwx9ghvqO33xxReqQIECZoqIyN0YyBFRWJ0/f16VLFlSjRw5UppVccrBUCTotYq7MBARUdyxaZWIwmrs2LHSpNqqVStVtmxZdccdd6i+ffuqTJkymVcQEVFcsUaOiIiIyKVYI0dERETkUgzkiIiIiFyKgRwRERGRSzGQIyIiInIpBnJERERELsVAjoiIiMilGMgRERERuRQDOSIiIiKXYiBHRERE5FIM5IiIiIhcioEcERERkUsxkCMiIiJyKQZyRERERC7FQI6IiIjIpRjIUYKyatUqNXPmTKW1NnOIiIjIFwZylKA89dRTKnny5CoiIsLMISIiIl8YyFGCsWvXLtWlSxfVunVrM4eIiIj8ibdADk1lS5YsUf/995+ZE92FCxfUvHnzzFTM/vjjD7Vp0yYzdd2+ffu8zr9Zjh8/rn777Td17tw5MyduNm/erPbs2WOmgrdx40b1zz//mCnfYtpvgTp//ryaPXu2mfIuc+bMqlGjRuratWtmDhEREfkTVCC3evVq1axZM5UlSxb14osvqt27d8v8Dz74QOZ16NBB/frrr+rixYvqlVdeUQ0bNlT79++X13hCYNa5c2d16tQpM8e3L7/8UlWpUkUtXbrUzLmuefPmavHixWbq5nvjjTfUq6++qtKkSWPmxN6BAwdUtWrVgg6mbBs2bFD16tWLMbgMZL8FAu9t166devTRR80c77p166buuece9fHHH5s5RERE5E9QgVz16tXlAn3y5EnVp08fVbRoUZmPgAOB3bRp01SFChVU6tSp1QsvvCDP+VKxYkWpvcqUKZOZ490nn3witW7ZsmVTy5Ytkz8bapiwnOeff97MCcyKFSvUtm3bzFRoIYj53//+p5Ili3tRf/3112rKlCmqUqVKZk7seG4fathQO3brrbeaOd4Fst8CUaBAgRiDuOXLl6sWLVpIQI99imPKFs79Q0RE5GZBN62mSJFC/keCOowdO1alTZtWAjmnVKlSmUe+BRLsIHisXbu2ypEjhypevLj82fD+Dz/80EwFBrVSPXv2VFeuXDFzQufy5ctq1KhRKkOGDGZO3DRo0ECCnLjwtn0IvmvVqmWm/AtkvwUipuWULl1aderUSfYrgtZLly7J/HDuHyIiIrcLOpBzeuedd9SxY8f81uKcOXNGde3aVRUrVkyNGTNG5uFijQAQtWlozvPm7NmzslzUJI0bN06aYPPnzy9/8Pvvv6sRI0ZIM2bTpk3V+vXrZb4/+Kwnn3xSctjef/99NXnyZJk/ffp09eyzz6revXur9u3b+2zuRS7Xe++9p9566y3VuHFj9emnn5pnInPjBgwYINuF5mcs0xdfy8F8NG1OmjRJ1mPgwIEy3/bVV1+poUOHynOohbx69ap5JpK37UOtJZou8R7YuXOneu6551SPHj3UggULVPny5dXdd9+tDh06JM/bvO03b06cOKFef/112fb7779frV271jwT6a+//lL169dXt99+u1q5cqWZG1lLaJc5AjrUBvraP04I+AYNGiTlh4Bv9OjRMt8uu9deey1a2a1Zs0amsTxYt26dpAA4fwC0adPG7zYSERElGDpIs2bNwoBf+oknntDWBdrMvdH58+fldS+99JI+fPiwtoIVbV2stRXEaStI01OmTJHn8Tpv2rZtqz///HN5fOTIEZ02bVo9cuRImT5w4IC2AgNZFmCdMmTIoPft2yfT/pw+fVo+1woEZRrvSZYsWdR6lChRQluBozz2ZAVAetq0afLYCqpkOXv27NFWQKXvuusubQUg8tzff/8t6zt37lyZ9uRrOZhXtWpVmY9txPxt27bJ9Pz58/Xjjz8uj63gWadIkULK1JPn9uG1VtCma9SoIdP//fefbtmypZTfnDlz5Pk777xT9+/fX573t988YbutIFDv2rVLpq3ATBctWlQef/PNNzpNmjSyTSdPntTdunXTtWrVkuf8lbnn+nsaP368toIyefzvv/9qK4CUx/7KzgpI5c/WpUsX3b17dzOltRX8SfkSEREldCGrkcuYMaP67rvv1JAhQ8wc71DbkTNnTnXfffdJjcvBgwdVunTppIbGF/RCRe2TPSwFmt/KlSsnjwGdK8qUKSNNutCqVSv5DMyPrVy5ckkNGDon7NixQ5prUcvkCTVUqAWygiCZRk0aOl8ULFhQff/991LTZa8j5lmBqNSeefK3nJo1a6rBgwfLfCwPY6vZ64JOFNhOyJo1q/rpp5+kJjImeC1q1WzZs2eX6ZIlS0pHETyP5mvPHrLe9psn1KqhCdTOlUTt6IwZM+QxoJYNtWHIg0StnN05JtAy9wbrgprYb7/9VpaDWkPwV3Z2OoDNcxq1iU2aNDFTRERECVfIArl+/fqpt99+W5qzYgrmwM6ZQh4Z+BsAFs1h6NzgfI2dkwfohYmLvw2vQ2Cyfft2MydwWK877rhDmhvRXJsnTx6vdxlAEyGaMu31wOfXqVNH/vdcHyhVqpTX9fG3nEKFCkmzLpqUsV6YZ6/L1q1bo5UBevGip3AgPMvac11Tpkx5QzOtzXO/OXmuE9YH6+UNlmMvI9Ay9waBG/L90LMWPV4R2IG/siMiIkosQhbIAfK0kCcXaDAHgVxcEVggZ+v8+fNmTnSoiUFA5ITancKFC5upwGG8NuR2Ie8KHQycgYkTagWRh4VbStlQG7VlyxZZn3///Tdabp2v9fG3nAkTJkg+4LBhw24IiPA+Z44ZYGy4+OJtv2GdsA6nT582c5TUsCEH0ht7GYGWuTeo0UROIYJ9lDfGoQN/ZefvRwMREZGbBB3I2b0J7Roc1KrYwdzLL78cdbH2/N8W0/OAXqq4uKMJDfAaBAd2YPfwww9L5wYEP4DnUTv0yCOPyDSafNH05o3drIbloSMAhr5A0JU+fXoJEhCQYRvRicMJQ2pgaJVevXrJcCgY0BiBCGqT0LkBzYfTpk0zr47sjIFx0jz5Ww7Gw8uXL5+8Dnc9wHahFgvrgs9Aj1gMzYFAEJ0pjh49Kq918tw+wHKc5Yz3O6fBnvb83+Y5DWguxXHw9NNPR5UdhotB0zle72sZ/src2/o7oYcrhrtBsIYBpTHmHrbHX9mhphBlDQg6MbSJ80cCytR+noiIKEGzLnBxtnbtWt2kSRNcjSVh305yR6I45uEPCe0zZszQw4cPl+nnn39ektvfffddmbYCPn3ixAndt29fmR49erS2LuKyHCcrIJAk+4YNG0piOhLi69atqzdv3izPv/nmm7ps2bJ68uTJkmQ/ceJEmQ/FixfXViCo9+7da+ZEh+UgKd8KhvT27dt1tmzZdPny5SVxvnXr1vLc6tWrzauvQwI+nsN658iRQ1uBhHkmMrm/SJEi2gq2ZNuxTlaQY56NztdyZs6cqVOmTKnvvfdePWnSJF2wYEFdp04dffDgQSmzevXqyXtQLnaSvzfO7du9e7du0KCBzpo1q166dKm2Al5dqVIlWdeffvpJb9y4UVesWFHfcsst2gqO/e43K7gyn3Ad1tkK3KS8S5YsKeWJTgidO3fWERER0lkCy0EHA7wGHSxiKnPn+nsaMmSIdNxAmQ0ePFiOH/BXdlbAr62gUdesWVP369dPWz8EpLPHypUr5b3FihXTffr0kcdEREQJWQT+sS7MrmDX1lhBhgy0iw4BThjyA7U2eB61QLbDhw9LMj2a7awA0MyNDjUz6LABqJ3BsBa4ZRRqmFBLhtoib/A8kulRs+b8TEC+Fpp88+bNK50K/PG1HGwTptFRALVSyPdyJudbwamsG5o1/XFuX7ih/FCjhU4UgTaTxlTmvtYfr0N5oNYNZewsZ39lh1o8fB5q7XDMYB/ZuYKo2cRn4fVEREQJmasCubhCfh2a4GJ7xwciIiKihCxJBHLIecJwFExyJyIiosQkSQRyRERERIlRSIcfISIiIqL4w0COiIiIyKUYyBERERG5FAM5IiIiIpdiIEdERETkSkr9HxzYFB8ShaxZAAAAAElFTkSuQmCC)"
      ],
      "metadata": {
        "id": "IMjK3dHRAL-a"
      }
    },
    {
      "cell_type": "markdown",
      "source": [
        "![image.png](data:image/png;base64,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)"
      ],
      "metadata": {
        "id": "o1sg88pFASpm"
      }
    },
    {
      "cell_type": "code",
      "source": [
        "#Câu 1\n",
        "from sympy import symbols, Matrix\n",
        "x,y,z=symbols('x y z')\n",
        "gu=Matrix([x+y,z+2,0])\n",
        "print(gu)\n",
        "gv=Matrix([2*x+2*y,2*z+4,0])\n",
        "print(gv)\n",
        "g_u_v = Matrix([(x+x+y+y),(z+z+2+2),0])\n",
        "print(g_u_v)\n",
        "la_tuyen_tinh=False\n",
        "print(\"Câu 1: Tuyến tính:\", la_tuyen_tinh)"
      ],
      "metadata": {
        "colab": {
          "base_uri": "https://localhost:8080/"
        },
        "id": "zSfv4bSOAPp9",
        "outputId": "9ad90676-2767-456a-aeb1-d7af2e8c76fe"
      },
      "execution_count": 3,
      "outputs": [
        {
          "output_type": "stream",
          "name": "stdout",
          "text": [
            "Matrix([[x + y], [z + 2], [0]])\n",
            "Matrix([[2*x + 2*y], [2*z + 4], [0]])\n",
            "Matrix([[2*x + 2*y], [2*z + 4], [0]])\n",
            "Câu 1: Tuyến tính: False\n"
          ]
        }
      ]
    },
    {
      "cell_type": "code",
      "source": [
        "#Câu 2\n",
        "import numpy as np\n",
        "P=np.array([[0,1],[1,-1]])\n",
        "F=np.array([[1,2,3],[4,5,6]])\n",
        "bien_doi_F=P@F\n",
        "print(\"Câu 2: Biến đổi:\",bien_doi_F)"
      ],
      "metadata": {
        "colab": {
          "base_uri": "https://localhost:8080/"
        },
        "id": "6eU8uuTfBADW",
        "outputId": "f6dde107-c86f-4bc6-dfc6-102a4c01a2ea"
      },
      "execution_count": 4,
      "outputs": [
        {
          "output_type": "stream",
          "name": "stdout",
          "text": [
            "Câu 2: Biến đổi: [[ 4  5  6]\n",
            " [-3 -3 -3]]\n"
          ]
        }
      ]
    },
    {
      "cell_type": "code",
      "source": [
        "#Câu 3\n",
        "import sympy as sp\n",
        "v1,v2=sp.symbols('v1 v2')\n",
        "a,b=sp.symbols('a b')\n",
        "u1,u2=sp.symbols('u1 u2')\n",
        "v1a,v2a=sp.symbols('v1a v2a')\n",
        "Tu=(u1-u2,u1+2*u2)\n",
        "Tv=(v1a-v2a,v1a+2*v2a)\n",
        "print(\"Tu =\",Tu)\n",
        "print(\"Tv =\",Tv)\n",
        "T_ab_uv=(a*u1+b*v1a-(a*u2+b*v2a),a*u1+b*v1a+2*(a*u2+b*v2a))\n",
        "print(\"T(a*u + b*v) =\",T_ab_uv)\n",
        "T_linear_comb=(a*Tu[0]+b*Tv[0],a*Tu[1]+b*Tv[1])\n",
        "print(\"a*T(u) + b*T(v) =\",T_linear_comb)\n",
        "kiem_tra_T=sp.simplify(sp.Matrix(T_ab_uv)-sp.Matrix(T_linear_comb))==sp.Matrix([0,0])\n",
        "print(\"Câu 3: T là ánh xạ tuyến tính:\", kiem_tra_T)"
      ],
      "metadata": {
        "colab": {
          "base_uri": "https://localhost:8080/"
        },
        "id": "juLUvL1cBLVF",
        "outputId": "eb497374-a037-4f9b-ef66-5e2b5d7a8d44"
      },
      "execution_count": 5,
      "outputs": [
        {
          "output_type": "stream",
          "name": "stdout",
          "text": [
            "Tu = (u1 - u2, u1 + 2*u2)\n",
            "Tv = (v1a - v2a, v1a + 2*v2a)\n",
            "T(a*u + b*v) = (a*u1 - a*u2 + b*v1a - b*v2a, a*u1 + 2*a*u2 + b*v1a + 2*b*v2a)\n",
            "a*T(u) + b*T(v) = (a*(u1 - u2) + b*(v1a - v2a), a*(u1 + 2*u2) + b*(v1a + 2*v2a))\n",
            "Câu 3: T là ánh xạ tuyến tính: True\n"
          ]
        }
      ]
    },
    {
      "cell_type": "code",
      "source": [
        "#Câu 4\n",
        "A=np.array([[13,-5],[-5,13]])\n",
        "from numpy import linalg as LA\n",
        "import math\n",
        "Gia_tri_rieng,Vecto_rieng=LA.eig(A)\n",
        "P=Vecto_rieng\n",
        "A_cheo=P.T @ A @ P\n",
        "print(A_cheo)\n",
        "kiem_tra_truc_giao=np.allclose(P.T@P,np.eye(2))\n",
        "print(\"Kiểm tra trực giao:\", kiem_tra_truc_giao)\n",
        "theta=math.atan2(P[1,0],P[0,0])*180/math.pi\n",
        "print(\"Góc xoay (độ):\",round(theta, 2))\n",
        "print(\"Câu 4: Giá trị riêng:\",Gia_tri_rieng)"
      ],
      "metadata": {
        "colab": {
          "base_uri": "https://localhost:8080/"
        },
        "id": "udLb-3rqBhs-",
        "outputId": "3f2ebbb3-8752-4c8e-dad2-0760c4f8ef51"
      },
      "execution_count": 6,
      "outputs": [
        {
          "output_type": "stream",
          "name": "stdout",
          "text": [
            "[[ 1.8000000e+01  0.0000000e+00]\n",
            " [-8.8817842e-16  8.0000000e+00]]\n",
            "Kiểm tra trực giao: True\n",
            "Góc xoay (độ): -45.0\n",
            "Câu 4: Giá trị riêng: [18.  8.]\n"
          ]
        }
      ]
    }
  ]
}