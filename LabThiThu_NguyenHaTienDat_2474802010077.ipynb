{
  "nbformat": 4,
  "nbformat_minor": 0,
  "metadata": {
    "colab": {
      "provenance": []
    },
    "kernelspec": {
      "name": "python3",
      "display_name": "Python 3"
    },
    "language_info": {
      "name": "python"
    }
  },
  "cells": [
    {
      "cell_type": "markdown",
      "source": [
        "Đề Thi Thử Thực Hành Đại Số Tuyến Tính"
      ],
      "metadata": {
        "id": "ftph_62Ln5_8"
      }
    },
    {
      "cell_type": "markdown",
      "source": [
        "Bài 1:"
      ],
      "metadata": {
        "id": "SyO0Wz-Yn2Ms"
      }
    },
    {
      "cell_type": "code",
      "source": [
        "import numpy as np\n",
        "from numpy.linalg import norm\n",
        "A=np.array([2,-1,3,0])\n",
        "B=np.array([1,4,-2,5])\n",
        "C=np.array([[1,2,-1],[0,3,4],[2,-1,0]])\n",
        "#a)Tổng A + B và tích số 3A - 2B\n",
        "sum_AB=A+B\n",
        "mul_AB=3*A-2*B\n",
        "print(\"Câu 1.a:\")\n",
        "print(\"A+B=\",sum_AB)\n",
        "print(\"3A-2B=\",mul_AB)\n",
        "#b)Tích vô hướng và góc giữa hai vector\n",
        "dot_product=np.dot(A, B)\n",
        "magnitude_A=norm(A)\n",
        "magnitude_B=norm(B)\n",
        "cos_theta=dot_product/(magnitude_A*magnitude_B)\n",
        "theta_degree=np.degrees(np.arccos(cos_theta))\n",
        "print(\"\\nCâu 1.b:\")\n",
        "print(\"Tích vô hướng A·B=\",dot_product)\n",
        "print(\"Góc giữa A và B (độ)=\",round(theta_degree, 3))\n",
        "#c)Tính C^T C\n",
        "CT=C.T\n",
        "CTC=CT@C\n",
        "print(\"\\nCâu 1.c:\")\n",
        "print(\"C^T * C =\\n\",CTC)"
      ],
      "metadata": {
        "colab": {
          "base_uri": "https://localhost:8080/"
        },
        "id": "wEuwJGJalIFX",
        "outputId": "cc29a0e8-8143-46bc-f4cf-ff2bda90be46"
      },
      "execution_count": 3,
      "outputs": [
        {
          "output_type": "stream",
          "name": "stdout",
          "text": [
            "Câu 1.a:\n",
            "A + B = [3 3 1 5]\n",
            "3A - 2B = [  4 -11  13 -10]\n",
            "\n",
            "Câu 1.b:\n",
            "Tích vô hướng A · B = -8\n",
            "Góc giữa A và B (độ) = 108.376\n",
            "\n",
            "Câu 1.c:\n",
            "C^T * C =\n",
            " [[ 5  0 -1]\n",
            " [ 0 14 10]\n",
            " [-1 10 17]]\n"
          ]
        }
      ]
    },
    {
      "cell_type": "markdown",
      "source": [
        "Bài 2:"
      ],
      "metadata": {
        "id": "7NhYBXjYqIzq"
      }
    },
    {
      "cell_type": "code",
      "source": [
        "import numpy as np\n",
        "M=np.array([[1,2,3,0],[4,5,6,1],[7,8,9,2],[0,1,1,0]])\n",
        "N=np.array([[0,1,2,3],[4,5,6,7],[8,9,10,11],[12,13,14,15]])\n",
        "#a)Tính tích M x N\n",
        "product=M@N\n",
        "print(\"a) Tích M x N:\\n\",product)\n",
        "#b)Định thức của M\n",
        "try:\n",
        "    det_M=np.linalg.det(M)\n",
        "    print(\"\\nb) Định thức của M:\",det_M)\n",
        "except np.linalg.LinAlgError:\n",
        "    print(\"\\nb) M không khả nghịch vì không là ma trận vuông.\")\n",
        "#c)Tính hạng của N\n",
        "rank_N=np.linalg.matrix_rank(N)\n",
        "print(\"\\nc) Hạng của N:\",rank_N)"
      ],
      "metadata": {
        "colab": {
          "base_uri": "https://localhost:8080/"
        },
        "id": "UgQQ2YeUqJ-a",
        "outputId": "29e7180c-ba57-400a-8be4-9fcbccdc1c90"
      },
      "execution_count": 4,
      "outputs": [
        {
          "output_type": "stream",
          "name": "stdout",
          "text": [
            "a) Tích M x N:\n",
            " [[ 32  38  44  50]\n",
            " [ 80  96 112 128]\n",
            " [128 154 180 206]\n",
            " [ 12  14  16  18]]\n",
            "\n",
            "b) Định thức của M: 6.66133814775094e-16\n",
            "\n",
            "c) Hạng của N: 2\n"
          ]
        }
      ]
    },
    {
      "cell_type": "markdown",
      "source": [
        "Bài 3:"
      ],
      "metadata": {
        "id": "gBvW82zOr7XR"
      }
    },
    {
      "cell_type": "code",
      "source": [
        "P=np.array([[2,1,0,1],[0,3,1,-1],[1,0,4,2],[0,1,0,3]])\n",
        "b=np.array([4,7,9,5])\n",
        "#a) Tìm nghịch đảo của P\n",
        "try:\n",
        "    P_inv = np.linalg.inv(P)\n",
        "    print(\"a) Ma trận nghịch đảo của P:\\n\", P_inv)\n",
        "except np.linalg.LinAlgError:\n",
        "    print(\"a) Ma trận P không khả nghịch\")\n",
        "#b) Giải hệ phương trình bằng nghịch đảo\n",
        "x=P_inv@b\n",
        "print(\"\\nb) Nghiệm x của hệ phương trình là:\\n\",x)\n",
        "#c)Kiểm tra nghiệm\n",
        "check=P@x\n",
        "print(\"\\nc) Kiểm tra P @ x =\\n\", check)\n",
        "print(\"Vector b = \",b)"
      ],
      "metadata": {
        "colab": {
          "base_uri": "https://localhost:8080/"
        },
        "id": "1xt-UO7Dr8rQ",
        "outputId": "38d0876e-db45-4b22-facb-6c339210f4bf"
      },
      "execution_count": 5,
      "outputs": [
        {
          "output_type": "stream",
          "name": "stdout",
          "text": [
            "a) Ma trận nghịch đảo của P:\n",
            " [[ 0.48837209 -0.09302326  0.02325581 -0.20930233]\n",
            " [ 0.03488372  0.27906977 -0.06976744  0.12790698]\n",
            " [-0.11627907  0.06976744  0.23255814 -0.09302326]\n",
            " [-0.01162791 -0.09302326  0.02325581  0.29069767]]\n",
            "\n",
            "b) Nghiệm x của hệ phương trình là:\n",
            " [0.46511628 2.10465116 1.65116279 0.96511628]\n",
            "\n",
            "c) Kiểm tra P @ x =\n",
            " [4. 7. 9. 5.]\n",
            "Vector b =  [4 7 9 5]\n"
          ]
        }
      ]
    },
    {
      "cell_type": "markdown",
      "source": [
        "Bài 4:"
      ],
      "metadata": {
        "id": "WBb7jMDOsZr3"
      }
    },
    {
      "cell_type": "code",
      "source": [
        "Q=np.array([[4,-1,0],[1,3,-2],[0, 1, 2]])\n",
        "#a) Giá trị riêng\n",
        "eigenvalues, eigenvectors = np.linalg.eig(Q)\n",
        "print(\"a) Giá trị riêng của Q:\\n\", eigenvalues)\n",
        "#b) Vector riêng\n",
        "print(\"\\nb) Các vector riêng (cột tương ứng):\\n\", eigenvectors)\n",
        "#c) Chuẩn hóa các vector riêng\n",
        "from numpy.linalg import norm\n",
        "normed_vectors=np.array([v/norm(v) for v in eigenvectors.T]).T\n",
        "print(\"\\nc) Vector riêng chuẩn hóa:\\n\",normed_vectors)"
      ],
      "metadata": {
        "colab": {
          "base_uri": "https://localhost:8080/"
        },
        "id": "u7brRqDRsYNY",
        "outputId": "a6d933b0-592e-46d2-fef3-6c549ab590bd"
      },
      "execution_count": 6,
      "outputs": [
        {
          "output_type": "stream",
          "name": "stdout",
          "text": [
            "a) Giá trị riêng của Q:\n",
            " [3.45339765+0.j         2.77330117+1.46771151j 2.77330117-1.46771151j]\n",
            "\n",
            "b) Các vector riêng (cột tương ứng):\n",
            " [[ 0.83327121+0.j         -0.26206044-0.31354813j -0.26206044+0.31354813j]\n",
            " [ 0.455468  +0.j         -0.78166743+0.j         -0.78166743-0.j        ]\n",
            " [ 0.31338154+0.j         -0.21963176+0.41685708j -0.21963176-0.41685708j]]\n",
            "\n",
            "c) Vector riêng chuẩn hóa:\n",
            " [[ 0.83327121+0.j         -0.26206044-0.31354813j -0.26206044+0.31354813j]\n",
            " [ 0.455468  +0.j         -0.78166743+0.j         -0.78166743+0.j        ]\n",
            " [ 0.31338154+0.j         -0.21963176+0.41685708j -0.21963176-0.41685708j]]\n"
          ]
        }
      ]
    },
    {
      "cell_type": "markdown",
      "source": [
        "Bài 5:"
      ],
      "metadata": {
        "id": "niMwd2RZsnkZ"
      }
    },
    {
      "cell_type": "code",
      "source": [
        "R=np.array([[1,-2,3],[2,0,1],[-1,1,4]])\n",
        "b=np.array([10,8,7])\n",
        "#a) Giải hệ Rx = b\n",
        "x = np.linalg.solve(R, b)\n",
        "print(\"a) Nghiệm của hệ Rx = b:\\n\",x)\n",
        "#b) Kiểm tra khả nghịch, giải lại bằng nghịch đảo\n",
        "try:\n",
        "    R_inv=np.linalg.inv(R)\n",
        "    x2=R_inv@b\n",
        "    print(\"\\nb) Ma trận nghịch đảo của R:\\n\", R_inv)\n",
        "    print(\"Nghiệm giải bằng R^(-1):\\n\", x2)\n",
        "    print(\"So sánh hai nghiệm giống nhau:\", np.allclose(x, x2))\n",
        "except np.linalg.LinAlgError:\n",
        "    print(\"\\nMa trận R không khả nghịch\")\n",
        "#c) Chuẩn Frobenius\n",
        "fro_norm=np.linalg.norm(R,'fro')\n",
        "print(\"\\nc) Chuẩn Frobenius của R:\", fro_norm)"
      ],
      "metadata": {
        "colab": {
          "base_uri": "https://localhost:8080/"
        },
        "id": "nIMX4_Eosoe3",
        "outputId": "6b9de8de-0b62-4108-e6ac-63e4cb34d7f8"
      },
      "execution_count": 7,
      "outputs": [
        {
          "output_type": "stream",
          "name": "stdout",
          "text": [
            "a) Nghiệm của hệ Rx = b:\n",
            " [2.7826087  0.04347826 2.43478261]\n",
            "\n",
            "b) Ma trận nghịch đảo của R:\n",
            " [[-0.04347826  0.47826087 -0.08695652]\n",
            " [-0.39130435  0.30434783  0.2173913 ]\n",
            " [ 0.08695652  0.04347826  0.17391304]]\n",
            "Nghiệm giải bằng R^(-1):\n",
            " [2.7826087  0.04347826 2.43478261]\n",
            "So sánh hai nghiệm giống nhau: True\n",
            "\n",
            "c) Chuẩn Frobenius của R: 6.082762530298219\n"
          ]
        }
      ]
    }
  ]
}